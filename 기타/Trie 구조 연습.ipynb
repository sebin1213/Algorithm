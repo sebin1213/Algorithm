{
 "cells": [
  {
   "cell_type": "code",
   "execution_count": 86,
   "id": "70f6e816",
   "metadata": {},
   "outputs": [],
   "source": [
    "words = [\"frodo\", \"front\",\"frozen\", \"kakao\", \"kaggle\"]"
   ]
  },
  {
   "cell_type": "code",
   "execution_count": 79,
   "id": "107978a4",
   "metadata": {},
   "outputs": [],
   "source": [
    "head = {}\n",
    "\n",
    "def add(word):\n",
    "    node = head\n",
    "    for w in word:\n",
    "        if w not in node:\n",
    "            node[w]={}\n",
    "        node = node[w]\n",
    "    node['end'] = True"
   ]
  },
  {
   "cell_type": "code",
   "execution_count": 87,
   "id": "79341292",
   "metadata": {},
   "outputs": [],
   "source": [
    "def search(word):\n",
    "    node = head\n",
    "    for w in word:\n",
    "        if w not in node:\n",
    "            return False\n",
    "        node = node[w]\n",
    "    if 'end' in node:\n",
    "        return True\n",
    "    else:\n",
    "        return False"
   ]
  },
  {
   "cell_type": "code",
   "execution_count": 88,
   "id": "239a4b2e",
   "metadata": {},
   "outputs": [
    {
     "data": {
      "text/plain": [
       "False"
      ]
     },
     "execution_count": 88,
     "metadata": {},
     "output_type": "execute_result"
    }
   ],
   "source": [
    "search('f')"
   ]
  },
  {
   "cell_type": "code",
   "execution_count": null,
   "id": "00bf7b02",
   "metadata": {},
   "outputs": [],
   "source": []
  }
 ],
 "metadata": {
  "kernelspec": {
   "display_name": "Python 3",
   "language": "python",
   "name": "python3"
  },
  "language_info": {
   "codemirror_mode": {
    "name": "ipython",
    "version": 3
   },
   "file_extension": ".py",
   "mimetype": "text/x-python",
   "name": "python",
   "nbconvert_exporter": "python",
   "pygments_lexer": "ipython3",
   "version": "3.8.8"
  }
 },
 "nbformat": 4,
 "nbformat_minor": 5
}
