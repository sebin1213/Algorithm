{
 "cells": [
  {
   "cell_type": "code",
   "execution_count": 14,
   "id": "f288ac83",
   "metadata": {},
   "outputs": [
    {
     "name": "stdout",
     "output_type": "stream",
     "text": [
      "R R R U D D\n",
      "3 4\n"
     ]
    }
   ],
   "source": [
    "move = {'U':[-1,0],'D':[1,0],'L':[0,-1],'R':[0,1]}\n",
    "\n",
    "n= int(input())\n",
    "m = input().split()\n",
    "r,c=1,1\n",
    "for i in m:\n",
    "    if 0 < r + move[i][0] < n and 0 < c + move[i][1] < n:\n",
    "        r = r + move[i][0]\n",
    "        c = c +move[i][1]\n",
    "print(r,c)"
   ]
  },
  {
   "cell_type": "code",
   "execution_count": null,
   "id": "365574ca",
   "metadata": {},
   "outputs": [],
   "source": []
  }
 ],
 "metadata": {
  "kernelspec": {
   "display_name": "Python 3",
   "language": "python",
   "name": "python3"
  },
  "language_info": {
   "codemirror_mode": {
    "name": "ipython",
    "version": 3
   },
   "file_extension": ".py",
   "mimetype": "text/x-python",
   "name": "python",
   "nbconvert_exporter": "python",
   "pygments_lexer": "ipython3",
   "version": "3.8.8"
  }
 },
 "nbformat": 4,
 "nbformat_minor": 5
}
