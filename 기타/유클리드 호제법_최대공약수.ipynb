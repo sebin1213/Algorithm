{
 "cells": [
  {
   "cell_type": "code",
   "execution_count": null,
   "id": "6a2489eb",
   "metadata": {},
   "outputs": [],
   "source": [
    "최대공약수 구하기"
   ]
  },
  {
   "cell_type": "code",
   "execution_count": 47,
   "id": "20f3338c",
   "metadata": {},
   "outputs": [],
   "source": [
    "def gcd(x,y):\n",
    "    if x % y ==0:\n",
    "        return y\n",
    "    else:\n",
    "        return gcd(y, x % y)"
   ]
  },
  {
   "cell_type": "code",
   "execution_count": 48,
   "id": "cf63fa2d",
   "metadata": {},
   "outputs": [
    {
     "data": {
      "text/plain": [
       "3"
      ]
     },
     "execution_count": 48,
     "metadata": {},
     "output_type": "execute_result"
    }
   ],
   "source": [
    "# 1023 % 21\n",
    "\n",
    "gcd(1023,21)"
   ]
  }
 ],
 "metadata": {
  "kernelspec": {
   "display_name": "Python 3",
   "language": "python",
   "name": "python3"
  },
  "language_info": {
   "codemirror_mode": {
    "name": "ipython",
    "version": 3
   },
   "file_extension": ".py",
   "mimetype": "text/x-python",
   "name": "python",
   "nbconvert_exporter": "python",
   "pygments_lexer": "ipython3",
   "version": "3.8.8"
  }
 },
 "nbformat": 4,
 "nbformat_minor": 5
}
