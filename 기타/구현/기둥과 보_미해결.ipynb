{
 "cells": [
  {
   "cell_type": "code",
   "execution_count": 1,
   "id": "57751290",
   "metadata": {},
   "outputs": [],
   "source": [
    "build_frame= [[1,0,0,1],[1,1,1,1],[2,1,0,1],[2,2,1,1],[5,0,0,1],[5,1,0,1],[4,2,1,1],[3,2,1,1]]"
   ]
  },
  {
   "cell_type": "code",
   "execution_count": null,
   "id": "27b2d410",
   "metadata": {},
   "outputs": [],
   "source": [
    "for i in build_frame:\n",
    "    if i[2]==0:\n",
    "        if i[3]\n",
    "    i[0],i[1]"
   ]
  },
  {
   "cell_type": "code",
   "execution_count": null,
   "id": "e96b3234",
   "metadata": {},
   "outputs": [],
   "source": []
  }
 ],
 "metadata": {
  "kernelspec": {
   "display_name": "Python 3",
   "language": "python",
   "name": "python3"
  },
  "language_info": {
   "codemirror_mode": {
    "name": "ipython",
    "version": 3
   },
   "file_extension": ".py",
   "mimetype": "text/x-python",
   "name": "python",
   "nbconvert_exporter": "python",
   "pygments_lexer": "ipython3",
   "version": "3.8.8"
  }
 },
 "nbformat": 4,
 "nbformat_minor": 5
}
