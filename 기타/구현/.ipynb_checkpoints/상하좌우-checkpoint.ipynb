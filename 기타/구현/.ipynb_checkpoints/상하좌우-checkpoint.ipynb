{
 "cells": [
  {
   "cell_type": "code",
   "execution_count": 16,
   "id": "2559f955",
   "metadata": {},
   "outputs": [
    {
     "name": "stdout",
     "output_type": "stream",
     "text": [
      "5\n",
      "R R R U D D\n"
     ]
    }
   ],
   "source": [
    "n= int(input())\n",
    "r,c= 1,1\n",
    "dx = [1,0,-1,0] # RULD\n",
    "dy = [0,-1,0,1]\n",
    "\n",
    "move = ['R','U','L','D']\n",
    "a = list(input().split())"
   ]
  },
  {
   "cell_type": "code",
   "execution_count": 18,
   "id": "6ccc7fe5",
   "metadata": {
    "scrolled": true
   },
   "outputs": [
    {
     "name": "stdout",
     "output_type": "stream",
     "text": [
      "3 4\n"
     ]
    }
   ],
   "source": [
    "for i in a:\n",
    "    for j in range(len(move)):\n",
    "        if i == move[j]:\n",
    "            c +=dx[j]\n",
    "            r +=dy[j]\n",
    "            if r <= 0 or r >= n or c <= 0 or c >= n:\n",
    "                c -=dx[j]\n",
    "                r -=dy[j]\n",
    "print(r,c)"
   ]
  }
 ],
 "metadata": {
  "kernelspec": {
   "display_name": "Python 3",
   "language": "python",
   "name": "python3"
  },
  "language_info": {
   "codemirror_mode": {
    "name": "ipython",
    "version": 3
   },
   "file_extension": ".py",
   "mimetype": "text/x-python",
   "name": "python",
   "nbconvert_exporter": "python",
   "pygments_lexer": "ipython3",
   "version": "3.8.8"
  }
 },
 "nbformat": 4,
 "nbformat_minor": 5
}
