{
 "cells": [
  {
   "cell_type": "code",
   "execution_count": 27,
   "id": "6a9ea154",
   "metadata": {},
   "outputs": [
    {
     "name": "stdout",
     "output_type": "stream",
     "text": [
      "5\n"
     ]
    }
   ],
   "source": [
    "t = int(input())\n",
    "\n",
    "c=0\n",
    "\n",
    "for i in range(60):\n",
    "    for j in range(60):\n",
    "        if '3' in str(i)+str(j):\n",
    "            c+=1\n",
    "if t >3:\n",
    "    c = t*c\n",
    "    c += 3600"
   ]
  }
 ],
 "metadata": {
  "kernelspec": {
   "display_name": "Python 3",
   "language": "python",
   "name": "python3"
  },
  "language_info": {
   "codemirror_mode": {
    "name": "ipython",
    "version": 3
   },
   "file_extension": ".py",
   "mimetype": "text/x-python",
   "name": "python",
   "nbconvert_exporter": "python",
   "pygments_lexer": "ipython3",
   "version": "3.8.8"
  }
 },
 "nbformat": 4,
 "nbformat_minor": 5
}
