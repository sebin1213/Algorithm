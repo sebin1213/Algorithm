{
 "cells": [
  {
   "cell_type": "code",
   "execution_count": 36,
   "id": "3286226b",
   "metadata": {},
   "outputs": [
    {
     "name": "stdout",
     "output_type": "stream",
     "text": [
      "3\n"
     ]
    }
   ],
   "source": [
    "s=input()\n",
    "n=0\n",
    "for i in range(1,len(s)):\n",
    "    if s[i-1] != s[i]:\n",
    "        n+=1        \n",
    "        \n",
    "if n%2==0:\n",
    "    print(n//2)\n",
    "else:\n",
    "    print(n//2+1)"
   ]
  },
  {
   "cell_type": "code",
   "execution_count": null,
   "id": "a1756179",
   "metadata": {},
   "outputs": [],
   "source": [
    "'0001100'"
   ]
  },
  {
   "cell_type": "code",
   "execution_count": null,
   "id": "eb0bc6f6",
   "metadata": {},
   "outputs": [],
   "source": [
    "# 그리디 사용"
   ]
  },
  {
   "cell_type": "code",
   "execution_count": null,
   "id": "8136d83c",
   "metadata": {},
   "outputs": [],
   "source": []
  }
 ],
 "metadata": {
  "kernelspec": {
   "display_name": "Python 3",
   "language": "python",
   "name": "python3"
  },
  "language_info": {
   "codemirror_mode": {
    "name": "ipython",
    "version": 3
   },
   "file_extension": ".py",
   "mimetype": "text/x-python",
   "name": "python",
   "nbconvert_exporter": "python",
   "pygments_lexer": "ipython3",
   "version": "3.8.8"
  }
 },
 "nbformat": 4,
 "nbformat_minor": 5
}
