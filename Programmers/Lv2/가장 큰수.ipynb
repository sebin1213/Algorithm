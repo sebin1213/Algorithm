{
 "cells": [
  {
   "cell_type": "markdown",
   "id": "135c0841",
   "metadata": {},
   "source": [
    "문제 설명\n",
    "\n",
    "0 또는 양의 정수가 주어졌을 때, 정수를 이어 붙여 만들 수 있는 가장 큰 수를 알아내 주세요.\n",
    "\n",
    "예를 들어, 주어진 정수가 [6, 10, 2]라면 [6102, 6210, 1062, 1026, 2610, 2106]를 만들 수 있고, 이중 가장 큰 수는 6210입니다.\n",
    "\n",
    "0 또는 양의 정수가 담긴 배열 numbers가 매개변수로 주어질 때, 순서를 재배치하여 만들 수 있는 가장 큰 수를 문자열로 바꾸어 return 하도록 solution 함수를 작성해주세요.\n",
    "\n",
    "제한 사항\n",
    "\n",
    "numbers의 길이는 1 이상 100,000 이하입니다.\n",
    "numbers의 원소는 0 이상 1,000 이하입니다.\n",
    "정답이 너무 클 수 있으니 문자열로 바꾸어 return 합니다."
   ]
  },
  {
   "cell_type": "code",
   "execution_count": 26,
   "id": "e355b5df",
   "metadata": {},
   "outputs": [],
   "source": [
    "numbers=[6, 10, 2]"
   ]
  },
  {
   "cell_type": "code",
   "execution_count": 27,
   "id": "c6d1af09",
   "metadata": {},
   "outputs": [],
   "source": [
    "from itertools import permutations"
   ]
  },
  {
   "cell_type": "code",
   "execution_count": 28,
   "id": "180df2d0",
   "metadata": {},
   "outputs": [],
   "source": [
    "def solution(numbers):\n",
    "    num_list = []\n",
    "    a= list(permutations(numbers))\n",
    "    for i in a:\n",
    "        num_list.append(int(''.join(map(str,i))))\n",
    "    return str(max(num_list))"
   ]
  },
  {
   "cell_type": "code",
   "execution_count": null,
   "id": "571311f4",
   "metadata": {},
   "outputs": [],
   "source": [
    "# 시간초과"
   ]
  },
  {
   "cell_type": "code",
   "execution_count": 131,
   "id": "0271ae60",
   "metadata": {},
   "outputs": [],
   "source": [
    "numbers = [0,0,0]\n",
    "numbers = [9,98]"
   ]
  },
  {
   "cell_type": "code",
   "execution_count": 117,
   "id": "fa9eb5ab",
   "metadata": {},
   "outputs": [],
   "source": [
    "def solution(numbers):\n",
    "    li =[]\n",
    "    for i in numbers:\n",
    "        li.append([i*(10**(4-len(str(i)))),10**(4-len(str(i)))])\n",
    "    li.sort(reverse=True)\n",
    "    answer =''\n",
    "    for i in li:\n",
    "        answer += str(int(i[0]/i[1]))\n",
    "    return answer"
   ]
  },
  {
   "cell_type": "code",
   "execution_count": 118,
   "id": "5eebc6f8",
   "metadata": {},
   "outputs": [
    {
     "data": {
      "text/plain": [
       "'9989'"
      ]
     },
     "execution_count": 118,
     "metadata": {},
     "output_type": "execute_result"
    }
   ],
   "source": [
    "solution(numbers)"
   ]
  },
  {
   "cell_type": "code",
   "execution_count": 132,
   "id": "aea2f6bb",
   "metadata": {},
   "outputs": [],
   "source": [
    "def solution(numbers):\n",
    "    li =[]\n",
    "    for i in numbers:\n",
    "        li.append([(str(i)*4)[:4],i])\n",
    "    li.sort(reverse=True)\n",
    "    answer =''\n",
    "    for i in li:\n",
    "        answer += str(i[1])\n",
    "    return str(int(answer))"
   ]
  },
  {
   "cell_type": "code",
   "execution_count": 133,
   "id": "a7f0463a",
   "metadata": {},
   "outputs": [
    {
     "data": {
      "text/plain": [
       "'0'"
      ]
     },
     "execution_count": 133,
     "metadata": {},
     "output_type": "execute_result"
    }
   ],
   "source": [
    "solution(numbers)"
   ]
  },
  {
   "cell_type": "code",
   "execution_count": null,
   "id": "f0e6adba",
   "metadata": {},
   "outputs": [],
   "source": []
  }
 ],
 "metadata": {
  "kernelspec": {
   "display_name": "Python 3",
   "language": "python",
   "name": "python3"
  },
  "language_info": {
   "codemirror_mode": {
    "name": "ipython",
    "version": 3
   },
   "file_extension": ".py",
   "mimetype": "text/x-python",
   "name": "python",
   "nbconvert_exporter": "python",
   "pygments_lexer": "ipython3",
   "version": "3.8.8"
  }
 },
 "nbformat": 4,
 "nbformat_minor": 5
}
