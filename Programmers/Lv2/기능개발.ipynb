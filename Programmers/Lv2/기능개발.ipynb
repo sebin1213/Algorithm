{
 "cells": [
  {
   "cell_type": "markdown",
   "id": "04561a7c",
   "metadata": {},
   "source": [
    "### 문제 설명\n",
    "프로그래머스 팀에서는 기능 개선 작업을 수행 중입니다. 각 기능은 진도가 100%일 때 서비스에 반영할 수 있습니다.\n",
    "\n",
    "또, 각 기능의 개발속도는 모두 다르기 때문에 뒤에 있는 기능이 앞에 있는 기능보다 먼저 개발될 수 있고, 이때 뒤에 있는 기능은 앞에 있는 기능이 배포될 때 함께 배포됩니다.\n",
    "\n",
    "먼저 배포되어야 하는 순서대로 작업의 진도가 적힌 정수 배열 progresses와 각 작업의 개발 속도가 적힌 정수 배열 speeds가 주어질 때 각 배포마다 몇 개의 기능이 배포되는지를 return 하도록 solution 함수를 완성하세요.\n",
    "\n",
    "### 제한 사항\n",
    "작업의 개수(progresses, speeds배열의 길이)는 100개 이하입니다.\n",
    "작업 진도는 100 미만의 자연수입니다.\n",
    "작업 속도는 100 이하의 자연수입니다.\n",
    "배포는 하루에 한 번만 할 수 있으며, 하루의 끝에 이루어진다고 가정합니다. 예를 들어 진도율이 95%인 작업의 개발 속도가 하루에 4%라면 배포는 2일 뒤에 이루어집니다."
   ]
  },
  {
   "cell_type": "code",
   "execution_count": 25,
   "id": "babda4c1",
   "metadata": {},
   "outputs": [],
   "source": [
    "\n",
    "progresses = [93, 30, 55]\n",
    "speeds = [1, 30, 5]\n",
    "r = [1, 3, 2]"
   ]
  },
  {
   "cell_type": "code",
   "execution_count": 41,
   "id": "1748f9e2",
   "metadata": {},
   "outputs": [],
   "source": [
    "import math\n",
    "\n",
    "def solution(progresses, speeds):\n",
    "    a=[]\n",
    "    big = a[0]\n",
    "    n = 1\n",
    "    result = []\n",
    "    \n",
    "    for i in range(len(progresses)):\n",
    "        a.append(math.ceil((100 - progresses[i]) / speeds[i]))\n",
    "        \n",
    "    for i in range(1,len(a)):\n",
    "        if big >= a[i]:\n",
    "            n += 1\n",
    "        else:\n",
    "            big = a[i]\n",
    "            result.append(n)\n",
    "            n = 1\n",
    "    result.append(n)\n",
    "    return result"
   ]
  },
  {
   "cell_type": "code",
   "execution_count": 42,
   "id": "a85f26b3",
   "metadata": {
    "scrolled": false
   },
   "outputs": [
    {
     "data": {
      "text/plain": [
       "[2, 1]"
      ]
     },
     "execution_count": 42,
     "metadata": {},
     "output_type": "execute_result"
    }
   ],
   "source": [
    "solution(progresses, speeds)"
   ]
  }
 ],
 "metadata": {
  "kernelspec": {
   "display_name": "Python 3",
   "language": "python",
   "name": "python3"
  },
  "language_info": {
   "codemirror_mode": {
    "name": "ipython",
    "version": 3
   },
   "file_extension": ".py",
   "mimetype": "text/x-python",
   "name": "python",
   "nbconvert_exporter": "python",
   "pygments_lexer": "ipython3",
   "version": "3.8.8"
  }
 },
 "nbformat": 4,
 "nbformat_minor": 5
}
