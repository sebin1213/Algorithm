{
 "cells": [
  {
   "cell_type": "code",
   "execution_count": 5,
   "id": "356bcb7f",
   "metadata": {},
   "outputs": [],
   "source": [
    "def solution(brown, yellow):\n",
    "    for i in range(1,yellow+1):\n",
    "        sum_brown = (i*2)+(yellow/i*2)+4\n",
    "        if sum_brown == brown:\n",
    "            return [yellow/i+2, i+2]"
   ]
  },
  {
   "cell_type": "code",
   "execution_count": 6,
   "id": "1c57c902",
   "metadata": {},
   "outputs": [
    {
     "name": "stdout",
     "output_type": "stream",
     "text": [
      "[4.0, 3]\n"
     ]
    }
   ],
   "source": [
    "solution(10, 2)"
   ]
  }
 ],
 "metadata": {
  "kernelspec": {
   "display_name": "Python 3",
   "language": "python",
   "name": "python3"
  },
  "language_info": {
   "codemirror_mode": {
    "name": "ipython",
    "version": 3
   },
   "file_extension": ".py",
   "mimetype": "text/x-python",
   "name": "python",
   "nbconvert_exporter": "python",
   "pygments_lexer": "ipython3",
   "version": "3.8.8"
  }
 },
 "nbformat": 4,
 "nbformat_minor": 5
}
