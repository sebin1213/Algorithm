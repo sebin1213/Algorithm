{
 "cells": [
  {
   "cell_type": "code",
   "execution_count": 49,
   "id": "8c644c9e",
   "metadata": {},
   "outputs": [
    {
     "name": "stdout",
     "output_type": "stream",
     "text": [
      "deque([])\n",
      "101\n"
     ]
    }
   ],
   "source": [
    "from collections import deque\n",
    "\n",
    "def solution(bridge_length, weight, truck_weights):\n",
    "    li = deque()\n",
    "    count, i = 0,0\n",
    "\n",
    "    while i != len(truck_weights):\n",
    "        if len(li) == bridge_length:\n",
    "            li.popleft()\n",
    "        if weight >= (sum(li)+truck_weights[i]):\n",
    "            li.append(truck_weights[i])\n",
    "            i += 1\n",
    "        else:\n",
    "            li.append(0)\n",
    "        count +=1\n",
    "    count += bridge_length\n",
    "    return count"
   ]
  },
  {
   "cell_type": "code",
   "execution_count": null,
   "id": "7c6ff44f",
   "metadata": {},
   "outputs": [],
   "source": [
    "## 시간초과"
   ]
  },
  {
   "cell_type": "code",
   "execution_count": 30,
   "id": "9691b40e",
   "metadata": {},
   "outputs": [],
   "source": [
    "from collections import deque\n",
    "\n",
    "def solution(bridge_length, weight, truck_weights):\n",
    "    li = deque()\n",
    "    sum_all,count, i = 0,0,0\n",
    "\n",
    "    while i != len(truck_weights):\n",
    "        if len(li) == bridge_length:\n",
    "            sum_all -= li[0]\n",
    "            li.popleft()\n",
    "        if weight >= (sum_all+truck_weights[i]):\n",
    "            sum_all += truck_weights[i]\n",
    "            li.append(truck_weights[i])\n",
    "            i += 1\n",
    "        else:\n",
    "            li.append(0)\n",
    "        count +=1\n",
    "    count += bridge_length\n",
    "    return count"
   ]
  },
  {
   "cell_type": "code",
   "execution_count": 31,
   "id": "cb869655",
   "metadata": {},
   "outputs": [],
   "source": [
    "bridge_length = 5\n",
    "weight= 5\n",
    "truck_weights = [2, 2, 2, 2, 1, 1, 1, 1, 1]"
   ]
  },
  {
   "cell_type": "code",
   "execution_count": 32,
   "id": "d8e8afb5",
   "metadata": {},
   "outputs": [
    {
     "data": {
      "text/plain": [
       "19"
      ]
     },
     "execution_count": 32,
     "metadata": {},
     "output_type": "execute_result"
    }
   ],
   "source": [
    "solution(bridge_length, weight, truck_weights)"
   ]
  }
 ],
 "metadata": {
  "kernelspec": {
   "display_name": "Python 3",
   "language": "python",
   "name": "python3"
  },
  "language_info": {
   "codemirror_mode": {
    "name": "ipython",
    "version": 3
   },
   "file_extension": ".py",
   "mimetype": "text/x-python",
   "name": "python",
   "nbconvert_exporter": "python",
   "pygments_lexer": "ipython3",
   "version": "3.8.8"
  }
 },
 "nbformat": 4,
 "nbformat_minor": 5
}
