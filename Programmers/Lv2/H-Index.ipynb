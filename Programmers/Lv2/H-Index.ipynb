{
 "cells": [
  {
   "cell_type": "code",
   "execution_count": null,
   "id": "f5dde312",
   "metadata": {},
   "outputs": [],
   "source": [
    "문제 설명\n",
    "H-Index는 과학자의 생산성과 영향력을 나타내는 지표입니다. 어느 과학자의 H-Index를 나타내는 값인 h를 구하려고 합니다. 위키백과1에 따르면, H-Index는 다음과 같이 구합니다.\n",
    "\n",
    "어떤 과학자가 발표한 논문 n편 중, h번 이상 인용된 논문이 h편 이상이고 나머지 논문이 h번 이하 인용되었다면 h의 최댓값이 이 과학자의 H-Index입니다.\n",
    "\n",
    "어떤 과학자가 발표한 논문의 인용 횟수를 담은 배열 citations가 매개변수로 주어질 때, 이 과학자의 H-Index를 return 하도록 solution 함수를 작성해주세요.\n",
    "\n",
    "제한사항\n",
    "과학자가 발표한 논문의 수는 1편 이상 1,000편 이하입니다.\n",
    "논문별 인용 횟수는 0회 이상 10,000회 이하입니다."
   ]
  },
  {
   "cell_type": "code",
   "execution_count": 74,
   "id": "94e26d7e",
   "metadata": {},
   "outputs": [],
   "source": [
    "citations = [3, 0, 6, 1, 5] # 3번째"
   ]
  },
  {
   "cell_type": "code",
   "execution_count": 88,
   "id": "793d7f88",
   "metadata": {},
   "outputs": [],
   "source": [
    "def solution(citations):\n",
    "    citations.sort()\n",
    "#     for i in range(len(citations)):\n",
    "#         n = len(citations) - i\n",
    "#         for j in range(1, n):\n",
    "#             if citations[j-1] >= citations[j]:\n",
    "#                 temp = citations[j-1]\n",
    "#                 citations[j-1] = citations[j]\n",
    "#                 citations[j] = temp\n",
    "    \n",
    "    for h in range(len(citations)):\n",
    "        if (len(citations)-h) <= citations[h]:\n",
    "            return (len(citations)-h)\n",
    "    return 0"
   ]
  },
  {
   "cell_type": "code",
   "execution_count": 89,
   "id": "f22a28ff",
   "metadata": {},
   "outputs": [
    {
     "data": {
      "text/plain": [
       "0"
      ]
     },
     "execution_count": 89,
     "metadata": {},
     "output_type": "execute_result"
    }
   ],
   "source": [
    "solution(citations)"
   ]
  }
 ],
 "metadata": {
  "kernelspec": {
   "display_name": "Python 3",
   "language": "python",
   "name": "python3"
  },
  "language_info": {
   "codemirror_mode": {
    "name": "ipython",
    "version": 3
   },
   "file_extension": ".py",
   "mimetype": "text/x-python",
   "name": "python",
   "nbconvert_exporter": "python",
   "pygments_lexer": "ipython3",
   "version": "3.8.8"
  }
 },
 "nbformat": 4,
 "nbformat_minor": 5
}
