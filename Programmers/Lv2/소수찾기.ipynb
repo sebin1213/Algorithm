{
 "cells": [
  {
   "cell_type": "markdown",
   "id": "ffb077fc",
   "metadata": {},
   "source": [
    "문제 설명\n",
    "\n",
    "한자리 숫자가 적힌 종이 조각이 흩어져있습니다. 흩어진 종이 조각을 붙여 소수를 몇 개 만들 수 있는지 알아내려 합니다.\n",
    "\n",
    "각 종이 조각에 적힌 숫자가 적힌 문자열 numbers가 주어졌을 때, 종이 조각으로 만들 수 있는 소수가 몇 개인지 return 하도록 solution 함수를 완성해주세요.\n",
    "\n",
    "제한사항\n",
    "\n",
    "numbers는 길이 1 이상 7 이하인 문자열입니다.\n",
    "numbers는 0~9까지 숫자만으로 이루어져 있습니다.\n",
    "\"013\"은 0, 1, 3 숫자가 적힌 종이 조각이 흩어져있다는 의미입니다."
   ]
  },
  {
   "cell_type": "code",
   "execution_count": 173,
   "id": "cf9c82c6",
   "metadata": {},
   "outputs": [],
   "source": [
    "numbers = \"0112\""
   ]
  },
  {
   "cell_type": "code",
   "execution_count": 171,
   "id": "fd22ceba",
   "metadata": {},
   "outputs": [],
   "source": [
    "from itertools import permutations\n",
    "\n",
    "def solution(numbers):\n",
    "    n=[]\n",
    "    a = []\n",
    "    count = 0\n",
    "\n",
    "    for i in numbers:\n",
    "        n.append(i)\n",
    "\n",
    "    for i in range(1,len(n) + 1):\n",
    "        a += list(permutations(n,i))\n",
    "\n",
    "    a = list(set(map(lambda x: int(\"\".join(a[x])) ,range(len(a)))))\n",
    "\n",
    "    for j in range(len(a)):\n",
    "        sosu =True\n",
    "        for i in range(2, int(a[j]**0.5) + 1):\n",
    "            if a[j] % i==0:\n",
    "                sosu =False\n",
    "                break\n",
    "\n",
    "        if  sosu and a[j] > 1:\n",
    "            count += 1\n",
    "    return count"
   ]
  },
  {
   "cell_type": "code",
   "execution_count": 172,
   "id": "3afa9550",
   "metadata": {},
   "outputs": [
    {
     "data": {
      "text/plain": [
       "10"
      ]
     },
     "execution_count": 172,
     "metadata": {},
     "output_type": "execute_result"
    }
   ],
   "source": [
    "solution(numbers)"
   ]
  }
 ],
 "metadata": {
  "kernelspec": {
   "display_name": "Python 3",
   "language": "python",
   "name": "python3"
  },
  "language_info": {
   "codemirror_mode": {
    "name": "ipython",
    "version": 3
   },
   "file_extension": ".py",
   "mimetype": "text/x-python",
   "name": "python",
   "nbconvert_exporter": "python",
   "pygments_lexer": "ipython3",
   "version": "3.8.8"
  }
 },
 "nbformat": 4,
 "nbformat_minor": 5
}
