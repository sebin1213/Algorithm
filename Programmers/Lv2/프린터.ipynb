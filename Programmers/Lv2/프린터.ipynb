{
 "cells": [
  {
   "cell_type": "code",
   "execution_count": 68,
   "id": "4b3bef40",
   "metadata": {},
   "outputs": [],
   "source": [
    "priorities=[2, 1, 3, 2]\n",
    "location=2"
   ]
  },
  {
   "cell_type": "code",
   "execution_count": null,
   "id": "4581fdad",
   "metadata": {},
   "outputs": [],
   "source": [
    "def solution(priorities, location):\n",
    "    answer,p_index=[],[]\n",
    "    for i in range(0,len(priorities)):\n",
    "        p_index.append([priorities[i],i])\n",
    "\n",
    "    while p_index:\n",
    "        if p_index[0][0] < max(p_index)[0]:\n",
    "            p_index.append(p_index[0])\n",
    "            p_index = p_index[1:]\n",
    "        else:\n",
    "            answer.append(p_index[0])\n",
    "            p_index = p_index[1:]\n",
    "\n",
    "    for i in range(len(answer)):\n",
    "        if answer[i][1]==location:\n",
    "            return i+1"
   ]
  }
 ],
 "metadata": {
  "kernelspec": {
   "display_name": "Python 3",
   "language": "python",
   "name": "python3"
  },
  "language_info": {
   "codemirror_mode": {
    "name": "ipython",
    "version": 3
   },
   "file_extension": ".py",
   "mimetype": "text/x-python",
   "name": "python",
   "nbconvert_exporter": "python",
   "pygments_lexer": "ipython3",
   "version": "3.8.8"
  }
 },
 "nbformat": 4,
 "nbformat_minor": 5
}
