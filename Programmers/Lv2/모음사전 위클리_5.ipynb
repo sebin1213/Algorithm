{
 "cells": [
  {
   "cell_type": "markdown",
   "id": "d05d7fa8",
   "metadata": {},
   "source": [
    "https://programmers.co.kr/learn/courses/30/lessons/84512"
   ]
  },
  {
   "cell_type": "code",
   "execution_count": null,
   "id": "8239ffe5",
   "metadata": {},
   "outputs": [],
   "source": [
    "사전에 알파벳 모음 'A', 'E', 'I', 'O', 'U'만을 사용하여 만들 수 있는, 길이 5 이하의 모든 단어가 수록되어 있습니다. 사전에서 첫 번째 단어는 \"A\"이고, 그다음은 \"AA\"이며, 마지막 단어는 \"UUUUU\"입니다.\n",
    "\n",
    "단어 하나 word가 매개변수로 주어질 때, 이 단어가 사전에서 몇 번째 단어인지 return 하도록 solution 함수를 완성해주세요.\n",
    "\n",
    "제한사항\n",
    "word의 길이는 1 이상 5 이하입니다.\n",
    "word는 알파벳 대문자 'A', 'E', 'I', 'O', 'U'로만 이루어져 있습니다."
   ]
  },
  {
   "cell_type": "code",
   "execution_count": 50,
   "id": "2dcf3f13",
   "metadata": {},
   "outputs": [],
   "source": [
    "def solution(word):\n",
    "    word_all = ['A', 'E', 'I', 'O', 'U']\n",
    "    word_list = []\n",
    "    for i in word_all:\n",
    "        word_list.append(i)\n",
    "        for j in word_all:\n",
    "            word_list.append(i+j)\n",
    "            for k in word_all:\n",
    "                word_list.append(i+j+k)\n",
    "                for o in word_all:\n",
    "                    word_list.append(i+j+k+o)\n",
    "                    for p in word_all:\n",
    "                        word_list.append(i+j+k+o+p)\n",
    "    return word_list.index(word)+1"
   ]
  }
 ],
 "metadata": {
  "kernelspec": {
   "display_name": "Python 3",
   "language": "python",
   "name": "python3"
  },
  "language_info": {
   "codemirror_mode": {
    "name": "ipython",
    "version": 3
   },
   "file_extension": ".py",
   "mimetype": "text/x-python",
   "name": "python",
   "nbconvert_exporter": "python",
   "pygments_lexer": "ipython3",
   "version": "3.8.8"
  }
 },
 "nbformat": 4,
 "nbformat_minor": 5
}
