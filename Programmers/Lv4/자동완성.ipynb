{
 "cells": [
  {
   "cell_type": "code",
   "execution_count": 24,
   "id": "75dae922",
   "metadata": {},
   "outputs": [],
   "source": [
    "words=[\"go\",\"gone\",\"guild\",\"guilds\"]"
   ]
  },
  {
   "cell_type": "code",
   "execution_count": 90,
   "id": "14d8d61a",
   "metadata": {},
   "outputs": [],
   "source": [
    "words=[\"word\",\"war\",\"warrior\",\"world\"]"
   ]
  },
  {
   "cell_type": "code",
   "execution_count": 91,
   "id": "e5f0ea54",
   "metadata": {},
   "outputs": [],
   "source": [
    "dic={}\n",
    "for word in words:\n",
    "    head=dic\n",
    "    for i in word:\n",
    "        if i not in head:\n",
    "            head[i]={'len':1}\n",
    "        else:\n",
    "            head[i]['len']+=1\n",
    "        head=head[i]"
   ]
  },
  {
   "cell_type": "code",
   "execution_count": 92,
   "id": "b00ce453",
   "metadata": {},
   "outputs": [],
   "source": [
    "c=0\n",
    "def w_count(head):\n",
    "    global c\n",
    "    for i in head:\n",
    "        if i=='len':\n",
    "            continue\n",
    "        if head[i]['len']>1:\n",
    "            w_count(head[i])\n",
    "            c+=head[i]['len']\n",
    "        elif head[i]['len']==1:\n",
    "            c+=head[i]['len']"
   ]
  },
  {
   "cell_type": "code",
   "execution_count": 93,
   "id": "dfac52c7",
   "metadata": {},
   "outputs": [
    {
     "data": {
      "text/plain": [
       "15"
      ]
     },
     "execution_count": 93,
     "metadata": {},
     "output_type": "execute_result"
    }
   ],
   "source": [
    "w_count(dic)\n",
    "c"
   ]
  },
  {
   "cell_type": "code",
   "execution_count": null,
   "id": "2c640f9d",
   "metadata": {},
   "outputs": [],
   "source": []
  },
  {
   "cell_type": "code",
   "execution_count": null,
   "id": "64cba57d",
   "metadata": {},
   "outputs": [],
   "source": []
  },
  {
   "cell_type": "code",
   "execution_count": null,
   "id": "3085e93a",
   "metadata": {},
   "outputs": [],
   "source": [
    "c=0\n",
    "def solution(words):\n",
    "    global c\n",
    "    dic={}\n",
    "    for word in words:\n",
    "        head=dic\n",
    "        for i in word:\n",
    "            if i not in head:\n",
    "                head[i]={'len':1}\n",
    "            else:\n",
    "                head[i]['len']+=1\n",
    "            head=head[i]\n",
    "\n",
    "    def w_count(head):\n",
    "        global c\n",
    "        for i in head:\n",
    "            if i=='len':\n",
    "                continue\n",
    "            if head[i]['len']>1:\n",
    "                w_count(head[i])\n",
    "                c+=head[i]['len']\n",
    "            elif head[i]['len']==1:\n",
    "                c+=head[i]['len']\n",
    "\n",
    "    w_count(dic)\n",
    "    return c"
   ]
  }
 ],
 "metadata": {
  "kernelspec": {
   "display_name": "Python 3",
   "language": "python",
   "name": "python3"
  },
  "language_info": {
   "codemirror_mode": {
    "name": "ipython",
    "version": 3
   },
   "file_extension": ".py",
   "mimetype": "text/x-python",
   "name": "python",
   "nbconvert_exporter": "python",
   "pygments_lexer": "ipython3",
   "version": "3.8.8"
  }
 },
 "nbformat": 4,
 "nbformat_minor": 5
}
