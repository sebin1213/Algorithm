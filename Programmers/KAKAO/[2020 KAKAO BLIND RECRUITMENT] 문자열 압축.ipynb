{
 "cells": [
  {
   "cell_type": "code",
   "execution_count": null,
   "id": "fc3bbd6c",
   "metadata": {},
   "outputs": [],
   "source": [
    "def solution(s):\n",
    "    if len(s)==1:\n",
    "        return 1\n",
    "    \n",
    "    min_count = 1e9\n",
    "    for i in range(1,len(s)//2+1):  # 자르는 개수\n",
    "        word = s[0:i]\n",
    "        count = 0\n",
    "        answer=''\n",
    "        for j in range(i,len(s),i): ## 자른걸 반복      \n",
    "            next_word = s[j:j+i]\n",
    "            if next_word == word:\n",
    "                count +=1\n",
    "            else:\n",
    "                if count==0:\n",
    "                    answer += word\n",
    "                else:\n",
    "                    answer += (str(count+1)+word)\n",
    "                    count = 0\n",
    "                word = next_word\n",
    "\n",
    "        if count==0:\n",
    "            answer += word\n",
    "        else:\n",
    "            answer += (str(count+1)+word)\n",
    "        min_count = min(len(answer),min_count)\n",
    "\n",
    "    return min_count"
   ]
  },
  {
   "cell_type": "code",
   "execution_count": null,
   "id": "16b9bd8e",
   "metadata": {},
   "outputs": [],
   "source": []
  }
 ],
 "metadata": {
  "kernelspec": {
   "display_name": "Python 3",
   "language": "python",
   "name": "python3"
  },
  "language_info": {
   "codemirror_mode": {
    "name": "ipython",
    "version": 3
   },
   "file_extension": ".py",
   "mimetype": "text/x-python",
   "name": "python",
   "nbconvert_exporter": "python",
   "pygments_lexer": "ipython3",
   "version": "3.8.8"
  }
 },
 "nbformat": 4,
 "nbformat_minor": 5
}
