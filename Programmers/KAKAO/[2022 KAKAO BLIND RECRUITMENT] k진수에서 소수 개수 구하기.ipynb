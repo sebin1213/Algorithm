{
 "cells": [
  {
   "cell_type": "code",
   "execution_count": 5,
   "id": "16048489",
   "metadata": {},
   "outputs": [],
   "source": [
    "n = 437674\n",
    "k = 3"
   ]
  },
  {
   "cell_type": "code",
   "execution_count": 98,
   "id": "5dde7065",
   "metadata": {},
   "outputs": [],
   "source": [
    "def solution(n, k):\n",
    "    word=''\n",
    "\n",
    "    while n:\n",
    "        word += str(n%k)\n",
    "        n = n//k\n",
    "\n",
    "    word = word[::-1]\n",
    "\n",
    "    li=word.split('0')\n",
    "    lis=[]\n",
    "    for i in li:\n",
    "        if len(i)>0:\n",
    "            lis.append(i)\n",
    "    li=list(map(int,lis))\n",
    "\n",
    "    count=0\n",
    "    for i in li:\n",
    "        sosu=True\n",
    "        if i < 2:\n",
    "            continue\n",
    "        for j in range(2,int(i**0.5)+1):\n",
    "            if i%j==0:\n",
    "                sosu=False\n",
    "                break\n",
    "        if sosu:\n",
    "            count+=1\n",
    "\n",
    "    return count"
   ]
  },
  {
   "cell_type": "code",
   "execution_count": null,
   "id": "d2f16105",
   "metadata": {},
   "outputs": [],
   "source": []
  }
 ],
 "metadata": {
  "kernelspec": {
   "display_name": "Python 3",
   "language": "python",
   "name": "python3"
  },
  "language_info": {
   "codemirror_mode": {
    "name": "ipython",
    "version": 3
   },
   "file_extension": ".py",
   "mimetype": "text/x-python",
   "name": "python",
   "nbconvert_exporter": "python",
   "pygments_lexer": "ipython3",
   "version": "3.8.8"
  }
 },
 "nbformat": 4,
 "nbformat_minor": 5
}
