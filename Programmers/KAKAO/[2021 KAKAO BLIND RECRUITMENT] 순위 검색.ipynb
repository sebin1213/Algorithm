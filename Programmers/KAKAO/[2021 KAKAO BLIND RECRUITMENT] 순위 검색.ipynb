{
 "cells": [
  {
   "cell_type": "code",
   "execution_count": 152,
   "id": "b6b73c47",
   "metadata": {},
   "outputs": [],
   "source": [
    "info = [\"java backend junior pizza 150\",\"python frontend senior chicken 210\",\"python frontend senior chicken 150\",\"cpp backend senior pizza 260\",\"java backend junior chicken 80\",\"python backend senior chicken 50\"]\n",
    "\n",
    "query = [\"java and backend and junior and pizza 100\",\"python and frontend and senior and chicken 200\",\"cpp and - and senior and pizza 250\",\"- and backend and senior and - 150\",\"- and - and - and chicken 100\",\"- and - and - and - 150\"]"
   ]
  },
  {
   "cell_type": "code",
   "execution_count": null,
   "id": "08880e04",
   "metadata": {},
   "outputs": [],
   "source": [
    "def solution(info, query):\n",
    "    for i in range(len(info)):\n",
    "        info[i] = info[i].split()\n",
    "    answer=[]\n",
    "    for q in query:\n",
    "        people = [i for i in range(len(info))]\n",
    "        q_split= q.split(' and ')\n",
    "        q_split = q_split[:3]+q_split[3].split()\n",
    "        for j in range(len(q_split)-1):\n",
    "            p=[]\n",
    "            if q_split[j]=='-':\n",
    "                continue\n",
    "            else:\n",
    "                for i in people:\n",
    "                    if info[i][j]==q_split[j]:\n",
    "                        p.append(i)\n",
    "                people = p[:]\n",
    "        p=[]\n",
    "        if q_split[4]!='-':\n",
    "            for i in people:\n",
    "                if int(info[i][4])>=int(q_split[4]):\n",
    "                    p.append(i)\n",
    "            people = p[:]\n",
    "        answer.append(len(people))\n",
    "    return answer"
   ]
  },
  {
   "cell_type": "code",
   "execution_count": null,
   "id": "2f8cd8ac",
   "metadata": {},
   "outputs": [],
   "source": [
    "# 효율성에서 틀렸슴당... 찾아보고 풀어보겠슴니다"
   ]
  },
  {
   "cell_type": "code",
   "execution_count": null,
   "id": "8b354c9a",
   "metadata": {},
   "outputs": [],
   "source": [
    "# trie로 가능할꺼같아서 사용했슴다"
   ]
  },
  {
   "cell_type": "code",
   "execution_count": null,
   "id": "4ac4a1bf",
   "metadata": {},
   "outputs": [],
   "source": [
    "[t,j]"
   ]
  },
  {
   "cell_type": "code",
   "execution_count": null,
   "id": "ab11fd54",
   "metadata": {},
   "outputs": [],
   "source": [
    "head = {}\n",
    "\n",
    "def add(word):\n",
    "    node = head\n",
    "    for w in word:\n",
    "        if w not in node:\n",
    "            node[w]={}\n",
    "        node = node[w]\n",
    "    node['end'] = True"
   ]
  },
  {
   "cell_type": "code",
   "execution_count": null,
   "id": "e5f6e435",
   "metadata": {},
   "outputs": [],
   "source": []
  }
 ],
 "metadata": {
  "kernelspec": {
   "display_name": "Python 3",
   "language": "python",
   "name": "python3"
  },
  "language_info": {
   "codemirror_mode": {
    "name": "ipython",
    "version": 3
   },
   "file_extension": ".py",
   "mimetype": "text/x-python",
   "name": "python",
   "nbconvert_exporter": "python",
   "pygments_lexer": "ipython3",
   "version": "3.8.8"
  }
 },
 "nbformat": 4,
 "nbformat_minor": 5
}
