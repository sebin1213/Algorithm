{
 "cells": [
  {
   "cell_type": "code",
   "execution_count": null,
   "id": "bbf63532",
   "metadata": {},
   "outputs": [],
   "source": [
    "문제 설명\n",
    "나만의 카카오 성격 유형 검사지를 만들려고 합니다.\n",
    "성격 유형 검사는 다음과 같은 4개 지표로 성격 유형을 구분합니다. 성격은 각 지표에서 두 유형 중 하나로 결정됩니다.\n",
    "\n",
    "지표 번호\t성격 유형\n",
    "1번 지표\t라이언형(R), 튜브형(T)\n",
    "2번 지표\t콘형(C), 프로도형(F)\n",
    "3번 지표\t제이지형(J), 무지형(M)\n",
    "4번 지표\t어피치형(A), 네오형(N)\n",
    "4개의 지표가 있으므로 성격 유형은 총 16(=2 x 2 x 2 x 2)가지가 나올 수 있습니다. 예를 들어, \"RFMN\"이나 \"TCMA\"와 같은 성격 유형이 있습니다.\n",
    "\n",
    "검사지에는 총 n개의 질문이 있고, 각 질문에는 아래와 같은 7개의 선택지가 있습니다.\n",
    "\n",
    "매우 비동의\n",
    "비동의\n",
    "약간 비동의\n",
    "모르겠음\n",
    "약간 동의\n",
    "동의\n",
    "매우 동의\n",
    "각 질문은 1가지 지표로 성격 유형 점수를 판단합니다.\n",
    "\n",
    "예를 들어, 어떤 한 질문에서 4번 지표로 아래 표처럼 점수를 매길 수 있습니다.\n",
    "\n",
    "선택지\t성격 유형 점수\n",
    "매우 비동의\t네오형 3점\n",
    "비동의\t네오형 2점\n",
    "약간 비동의\t네오형 1점\n",
    "모르겠음\t어떤 성격 유형도 점수를 얻지 않습니다\n",
    "약간 동의\t어피치형 1점\n",
    "동의\t어피치형 2점\n",
    "매우 동의\t어피치형 3점\n",
    "이때 검사자가 질문에서 약간 동의 선택지를 선택할 경우 어피치형(A) 성격 유형 1점을 받게 됩니다. 만약 검사자가 매우 비동의 선택지를 선택할 경우 네오형(N) 성격 유형 3점을 받게 됩니다.\n",
    "\n",
    "위 예시처럼 네오형이 비동의, 어피치형이 동의인 경우만 주어지지 않고, 질문에 따라 네오형이 동의, 어피치형이 비동의인 경우도 주어질 수 있습니다.\n",
    "하지만 각 선택지는 고정적인 크기의 점수를 가지고 있습니다.\n",
    "\n",
    "매우 동의나 매우 비동의 선택지를 선택하면 3점을 얻습니다.\n",
    "동의나 비동의 선택지를 선택하면 2점을 얻습니다.\n",
    "약간 동의나 약간 비동의 선택지를 선택하면 1점을 얻습니다.\n",
    "모르겠음 선택지를 선택하면 점수를 얻지 않습니다.\n",
    "검사 결과는 모든 질문의 성격 유형 점수를 더하여 각 지표에서 더 높은 점수를 받은 성격 유형이 검사자의 성격 유형이라고 판단합니다. 단, 하나의 지표에서 각 성격 유형 점수가 같으면, 두 성격 유형 중 사전 순으로 빠른 성격 유형을 검사자의 성격 유형이라고 판단합니다.\n",
    "\n",
    "질문마다 판단하는 지표를 담은 1차원 문자열 배열 survey와 검사자가 각 질문마다 선택한 선택지를 담은 1차원 정수 배열 choices가 매개변수로 주어집니다. 이때, 검사자의 성격 유형 검사 결과를 지표 번호 순서대로 return 하도록 solution 함수를 완성해주세요.\n",
    "\n",
    "제한사항\n",
    "1 ≤ survey의 길이 ( = n) ≤ 1,000\n",
    "survey의 원소는 \"RT\", \"TR\", \"FC\", \"CF\", \"MJ\", \"JM\", \"AN\", \"NA\" 중 하나입니다.\n",
    "survey[i]의 첫 번째 캐릭터는 i+1번 질문의 비동의 관련 선택지를 선택하면 받는 성격 유형을 의미합니다.\n",
    "survey[i]의 두 번째 캐릭터는 i+1번 질문의 동의 관련 선택지를 선택하면 받는 성격 유형을 의미합니다.\n",
    "choices의 길이 = survey의 길이\n",
    "\n",
    "choices[i]는 검사자가 선택한 i+1번째 질문의 선택지를 의미합니다.\n",
    "1 ≤ choices의 원소 ≤ 7\n",
    "choices\t뜻\n",
    "1\t매우 비동의\n",
    "2\t비동의\n",
    "3\t약간 비동의\n",
    "4\t모르겠음\n",
    "5\t약간 동의\n",
    "6\t동의\n",
    "7\t매우 동의\n",
    "입출력 예\n",
    "survey\tchoices\tresult\n",
    "[\"AN\", \"CF\", \"MJ\", \"RT\", \"NA\"]\t[5, 3, 2, 7, 5]\t\"TCMA\"\n",
    "[\"TR\", \"RT\", \"TR\"]\t[7, 1, 3]\t\"RCJA\"\n",
    "입출력 예 설명\n",
    "입출력 예 #1\n",
    "\n",
    "1번 질문의 점수 배치는 아래 표와 같습니다.\n",
    "\n",
    "선택지\t성격 유형 점수\n",
    "매우 비동의\t어피치형 3점\n",
    "비동의\t어피치형 2점\n",
    "약간 비동의\t어피치형 1점\n",
    "모르겠음\t어떤 성격 유형도 점수를 얻지 않습니다\n",
    "약간 동의\t네오형 1점\n",
    "동의\t네오형 2점\n",
    "매우 동의\t네오형 3점\n",
    "1번 질문에서는 지문의 예시와 다르게 비동의 관련 선택지를 선택하면 어피치형(A) 성격 유형의 점수를 얻고, 동의 관련 선택지를 선택하면 네오형(N) 성격 유형의 점수를 얻습니다.\n",
    "1번 질문에서 검사자는 약간 동의 선택지를 선택했으므로 네오형(N) 성격 유형 점수 1점을 얻게 됩니다.\n",
    "\n",
    "2번 질문의 점수 배치는 아래 표와 같습니다.\n",
    "\n",
    "선택지\t성격 유형 점수\n",
    "매우 비동의\t콘형 3점\n",
    "비동의\t콘형 2점\n",
    "약간 비동의\t콘형 1점\n",
    "모르겠음\t어떤 성격 유형도 점수를 얻지 않습니다\n",
    "약간 동의\t프로도형 1점\n",
    "동의\t프로도형 2점\n",
    "매우 동의\t프로도형 3점\n",
    "2번 질문에서 검사자는 약간 비동의 선택지를 선택했으므로 콘형(C) 성격 유형 점수 1점을 얻게 됩니다.\n",
    "\n",
    "3번 질문의 점수 배치는 아래 표와 같습니다.\n",
    "\n",
    "선택지\t성격 유형 점수\n",
    "매우 비동의\t무지형 3점\n",
    "비동의\t무지형 2점\n",
    "약간 비동의\t무지형 1점\n",
    "모르겠음\t어떤 성격 유형도 점수를 얻지 않습니다\n",
    "약간 동의\t제이지형 1점\n",
    "동의\t제이지형 2점\n",
    "매우 동의\t제이지형 3점\n",
    "3번 질문에서 검사자는 비동의 선택지를 선택했으므로 무지형(M) 성격 유형 점수 2점을 얻게 됩니다.\n",
    "\n",
    "4번 질문의 점수 배치는 아래 표와 같습니다.\n",
    "\n",
    "선택지\t성격 유형 점수\n",
    "매우 비동의\t라이언형 3점\n",
    "비동의\t라이언형 2점\n",
    "약간 비동의\t라이언형 1점\n",
    "모르겠음\t어떤 성격 유형도 점수를 얻지 않습니다\n",
    "약간 동의\t튜브형 1점\n",
    "동의\t튜브형 2점\n",
    "매우 동의\t튜브형 3점\n",
    "4번 질문에서 검사자는 매우 동의 선택지를 선택했으므로 튜브형(T) 성격 유형 점수 3점을 얻게 됩니다.\n",
    "\n",
    "5번 질문의 점수 배치는 아래 표와 같습니다.\n",
    "\n",
    "선택지\t성격 유형 점수\n",
    "매우 비동의\t네오형 3점\n",
    "비동의\t네오형 2점\n",
    "약간 비동의\t네오형 1점\n",
    "모르겠음\t어떤 성격 유형도 점수를 얻지 않습니다\n",
    "약간 동의\t어피치형 1점\n",
    "동의\t어피치형 2점\n",
    "매우 동의\t어피치형 3점\n",
    "5번 질문에서 검사자는 약간 동의 선택지를 선택했으므로 어피치형(A) 성격 유형 점수 1점을 얻게 됩니다.\n",
    "\n",
    "1번부터 5번까지 질문의 성격 유형 점수를 합치면 아래 표와 같습니다.\n",
    "\n",
    "지표 번호\t성격 유형\t점수\t성격 유형\t점수\n",
    "1번 지표\t라이언형(R)\t0\t튜브형(T)\t3\n",
    "2번 지표\t콘형(C)\t1\t프로도형(F)\t0\n",
    "3번 지표\t제이지형(J)\t0\t무지형(M)\t2\n",
    "4번 지표\t어피치형(A)\t1\t네오형(N)\t1\n",
    "각 지표에서 더 점수가 높은 T,C,M이 성격 유형입니다.\n",
    "하지만, 4번 지표는 1점으로 동일한 점수입니다. 따라서, 4번 지표의 성격 유형은 사전순으로 빠른 A입니다.\n",
    "\n",
    "따라서 \"TCMA\"를 return 해야 합니다.\n",
    "\n",
    "입출력 예 #2\n",
    "\n",
    "1번부터 3번까지 질문의 성격 유형 점수를 합치면 아래 표와 같습니다.\n",
    "\n",
    "지표 번호\t성격 유형\t점수\t성격 유형\t점수\n",
    "1번 지표\t라이언형(R)\t6\t튜브형(T)\t1\n",
    "2번 지표\t콘형(C)\t0\t프로도형(F)\t0\n",
    "3번 지표\t제이지형(J)\t0\t무지형(M)\t0\n",
    "4번 지표\t어피치형(A)\t0\t네오형(N)\t0\n",
    "1번 지표는 튜브형(T)보다 라이언형(R)의 점수가 더 높습니다. 따라서 첫 번째 지표의 성격 유형은 R입니다.\n",
    "하지만, 2, 3, 4번 지표는 모두 0점으로 동일한 점수입니다. 따라서 2, 3, 4번 지표의 성격 유형은 사전순으로 빠른 C, J, A입니다.\n",
    "\n",
    "따라서 \"RCJA\"를 return 해야 합니다."
   ]
  },
  {
   "cell_type": "code",
   "execution_count": null,
   "id": "bc40d5be",
   "metadata": {},
   "outputs": [],
   "source": [
    "1번 지표\t라이언형(R), 튜브형(T)\n",
    "2번 지표\t콘형(C), 프로도형(F)\n",
    "3번 지표\t제이지형(J), 무지형(M)\n",
    "4번 지표\t어피치형(A), 네오형(N)"
   ]
  },
  {
   "cell_type": "code",
   "execution_count": 50,
   "id": "73a975da",
   "metadata": {},
   "outputs": [],
   "source": [
    "survey=[\"TR\", \"RT\", \"TR\"]\n",
    "choices=[7, 1, 3]"
   ]
  },
  {
   "cell_type": "code",
   "execution_count": 51,
   "id": "cf09eb87",
   "metadata": {},
   "outputs": [],
   "source": [
    "score=[3,2,1,0,1,2,3]"
   ]
  },
  {
   "cell_type": "code",
   "execution_count": 52,
   "id": "507ff056",
   "metadata": {},
   "outputs": [],
   "source": [
    "mbti={\"R\":0,\"T\":0,\"C\":0,\"F\":0,\"J\":0,\"M\":0,\"A\":0,\"N\":0}"
   ]
  },
  {
   "cell_type": "code",
   "execution_count": 53,
   "id": "cb4b9120",
   "metadata": {},
   "outputs": [],
   "source": [
    "for i in range(len(survey)):\n",
    "    if choices[i] > 4:\n",
    "        mbti[survey[i][1]]+=score[choices[i]-1]\n",
    "    else:\n",
    "        mbti[survey[i][0]]+=score[choices[i]-1]"
   ]
  },
  {
   "cell_type": "code",
   "execution_count": 55,
   "id": "9a0187c0",
   "metadata": {},
   "outputs": [],
   "source": [
    "answer=\"\"\n",
    "answer+= \"R\" if mbti[\"R\"] >= mbti[\"T\"] else \"T\"\n",
    "answer+= \"C\" if mbti[\"C\"] >= mbti[\"F\"] else \"F\"\n",
    "answer+= \"J\" if mbti[\"J\"] >= mbti[\"M\"] else \"M\"\n",
    "answer+= \"A\" if mbti[\"A\"] >= mbti[\"N\"] else \"N\""
   ]
  },
  {
   "cell_type": "code",
   "execution_count": 56,
   "id": "04ad5bc9",
   "metadata": {},
   "outputs": [
    {
     "data": {
      "text/plain": [
       "'RCJA'"
      ]
     },
     "execution_count": 56,
     "metadata": {},
     "output_type": "execute_result"
    }
   ],
   "source": [
    "answer"
   ]
  },
  {
   "cell_type": "code",
   "execution_count": 57,
   "id": "cf347c36",
   "metadata": {},
   "outputs": [],
   "source": [
    "score=[3,2,1,0,1,2,3]\n",
    "mbti={\"R\":0,\"T\":0,\"C\":0,\"F\":0,\"J\":0,\"M\":0,\"A\":0,\"N\":0}\n",
    "def solution(survey, choices):\n",
    "    for i in range(len(survey)):\n",
    "        if choices[i] > 4:\n",
    "            mbti[survey[i][1]]+=score[choices[i]-1]\n",
    "        else:\n",
    "            mbti[survey[i][0]]+=score[choices[i]-1]\n",
    "\n",
    "    answer=\"\"\n",
    "    answer+= \"R\" if mbti[\"R\"] >= mbti[\"T\"] else \"T\"\n",
    "    answer+= \"C\" if mbti[\"C\"] >= mbti[\"F\"] else \"F\"\n",
    "    answer+= \"J\" if mbti[\"J\"] >= mbti[\"M\"] else \"M\"\n",
    "    answer+= \"A\" if mbti[\"A\"] >= mbti[\"N\"] else \"N\"\n",
    "    return answer"
   ]
  },
  {
   "cell_type": "code",
   "execution_count": 58,
   "id": "f14ec127",
   "metadata": {},
   "outputs": [
    {
     "data": {
      "text/plain": [
       "'RCJA'"
      ]
     },
     "execution_count": 58,
     "metadata": {},
     "output_type": "execute_result"
    }
   ],
   "source": [
    "solution(survey, choices)"
   ]
  },
  {
   "cell_type": "code",
   "execution_count": null,
   "id": "44d0494f",
   "metadata": {},
   "outputs": [],
   "source": []
  }
 ],
 "metadata": {
  "kernelspec": {
   "display_name": "Python 3",
   "language": "python",
   "name": "python3"
  },
  "language_info": {
   "codemirror_mode": {
    "name": "ipython",
    "version": 3
   },
   "file_extension": ".py",
   "mimetype": "text/x-python",
   "name": "python",
   "nbconvert_exporter": "python",
   "pygments_lexer": "ipython3",
   "version": "3.8.8"
  }
 },
 "nbformat": 4,
 "nbformat_minor": 5
}
