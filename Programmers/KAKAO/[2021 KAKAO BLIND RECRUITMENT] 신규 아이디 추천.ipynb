{
 "cells": [
  {
   "cell_type": "code",
   "execution_count": null,
   "id": "725eb8df",
   "metadata": {},
   "outputs": [],
   "source": [
    "import re\n",
    "def solution(new_id):\n",
    "    new_id = new_id.lower()\n",
    "    new_id = re.sub(\"[^a-zA-Z0-9._-]\",\"\",new_id)\n",
    "\n",
    "    while 1:\n",
    "        before = new_id\n",
    "        new_id = new_id.replace('..','.')\n",
    "        if before==new_id:\n",
    "            break\n",
    "\n",
    "    if new_id[0]=='.':\n",
    "        new_id = new_id[1:]\n",
    "    if new_id[-1:]=='.':\n",
    "        new_id = new_id[:-1]\n",
    "    if new_id == '':\n",
    "        new_id = 'a'\n",
    "    if len(new_id)>=16:\n",
    "        new_id = new_id[:15]\n",
    "    if new_id[-1]=='.':\n",
    "        new_id = new_id[:-1]\n",
    "    if len(new_id)<=2:\n",
    "        new_id += new_id[-1]*(3-len(new_id))\n",
    "    return new_id"
   ]
  }
 ],
 "metadata": {
  "kernelspec": {
   "display_name": "Python 3",
   "language": "python",
   "name": "python3"
  },
  "language_info": {
   "codemirror_mode": {
    "name": "ipython",
    "version": 3
   },
   "file_extension": ".py",
   "mimetype": "text/x-python",
   "name": "python",
   "nbconvert_exporter": "python",
   "pygments_lexer": "ipython3",
   "version": "3.8.8"
  }
 },
 "nbformat": 4,
 "nbformat_minor": 5
}
