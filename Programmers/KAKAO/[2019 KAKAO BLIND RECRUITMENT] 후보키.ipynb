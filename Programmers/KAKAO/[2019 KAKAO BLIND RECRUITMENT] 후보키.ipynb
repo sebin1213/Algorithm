{
 "cells": [
  {
   "cell_type": "code",
   "execution_count": 290,
   "id": "8dd56014",
   "metadata": {},
   "outputs": [],
   "source": [
    "relation=[[\"100\",\"ryan\",\"music\",\"2\"],[\"200\",\"apeach\",\"math\",\"2\"],[\"300\",\"tube\",\"computer\",\"3\"],[\"400\",\"con\",\"computer\",\"4\"],[\"500\",\"muzi\",\"music\",\"3\"],[\"600\",\"apeach\",\"music\",\"2\"]]"
   ]
  },
  {
   "cell_type": "code",
   "execution_count": 1,
   "id": "49e69364",
   "metadata": {},
   "outputs": [],
   "source": [
    "relation=[['a',1,'aaa','c','ng'],['b',1,'bbb','c','g'],['c',1,'aaa','d','ng'],['d',2,'bbb','d','ng']]"
   ]
  },
  {
   "cell_type": "code",
   "execution_count": 2,
   "id": "6caa0c4d",
   "metadata": {},
   "outputs": [],
   "source": [
    "from itertools import combinations"
   ]
  },
  {
   "cell_type": "code",
   "execution_count": 3,
   "id": "8e42f7c3",
   "metadata": {},
   "outputs": [],
   "source": [
    "li=[ [] for _ in range(len(relation[0])) ]"
   ]
  },
  {
   "cell_type": "code",
   "execution_count": 4,
   "id": "9198c82c",
   "metadata": {},
   "outputs": [],
   "source": [
    "for i in relation:\n",
    "    for j in range(len(i)):\n",
    "        li[j].append(i[j])"
   ]
  },
  {
   "cell_type": "code",
   "execution_count": 5,
   "id": "6bc52084",
   "metadata": {},
   "outputs": [],
   "source": [
    "count=0\n",
    "all_val=[]\n",
    "for n in range(len(relation[0])):\n",
    "    idx_li=[ i for i in range(len(li))]\n",
    "    li_com = list(combinations(idx_li,n))\n",
    "    for i in li_com:\n",
    "        idx_com=[ \"\" for _ in range(len(relation))]\n",
    "        for j in i:\n",
    "            for idx in range(len(li[j])):\n",
    "                idx_com[idx]+=str(li[j][idx])\n",
    "        if len(idx_com)==len(set(idx_com)):\n",
    "            count+=1\n",
    "#             print(idx_com[idx])\n",
    "#             print(list(i))\n",
    "            all_val.append(list(i))\n"
   ]
  },
  {
   "cell_type": "code",
   "execution_count": 6,
   "id": "3ee376d5",
   "metadata": {},
   "outputs": [
    {
     "data": {
      "text/plain": [
       "[[0],\n",
       " [0, 1],\n",
       " [0, 2],\n",
       " [0, 3],\n",
       " [0, 4],\n",
       " [2, 3],\n",
       " [0, 1, 2],\n",
       " [0, 1, 3],\n",
       " [0, 1, 4],\n",
       " [0, 2, 3],\n",
       " [0, 2, 4],\n",
       " [0, 3, 4],\n",
       " [1, 2, 3],\n",
       " [1, 3, 4],\n",
       " [2, 3, 4],\n",
       " [0, 1, 2, 3],\n",
       " [0, 1, 2, 4],\n",
       " [0, 1, 3, 4],\n",
       " [0, 2, 3, 4],\n",
       " [1, 2, 3, 4]]"
      ]
     },
     "execution_count": 6,
     "metadata": {},
     "output_type": "execute_result"
    }
   ],
   "source": [
    "all_val"
   ]
  },
  {
   "cell_type": "code",
   "execution_count": 7,
   "id": "d8d8a4d1",
   "metadata": {},
   "outputs": [
    {
     "name": "stdout",
     "output_type": "stream",
     "text": [
      "[0] [0, 1]\n",
      "[0] [0, 2]\n",
      "[0] [0, 3]\n",
      "[0] [0, 4]\n",
      "[0] [2, 3]\n",
      "[0] [0, 1, 2]\n",
      "[0] [0, 1, 3]\n",
      "[0] [0, 1, 4]\n",
      "[0] [0, 2, 3]\n",
      "[0] [0, 2, 4]\n",
      "[0] [0, 3, 4]\n",
      "[0] [1, 2, 3]\n",
      "[0] [1, 3, 4]\n",
      "[0] [2, 3, 4]\n",
      "[0] [0, 1, 2, 3]\n",
      "[0] [0, 1, 2, 4]\n",
      "[0] [0, 1, 3, 4]\n",
      "[0] [0, 2, 3, 4]\n",
      "[0] [1, 2, 3, 4]\n",
      "[2, 3] [1, 2, 3]\n",
      "[2, 3] [1, 3, 4]\n",
      "[2, 3] [2, 3, 4]\n",
      "[2, 3] [1, 2, 3, 4]\n"
     ]
    }
   ],
   "source": [
    "for i in range(len(all_val)):\n",
    "    for j in range(i+1,len(all_val)):\n",
    "        if len(all_val[i])==0 or len(all_val[j])==0:\n",
    "            continue\n",
    "        print(all_val[i],all_val[j])\n",
    "        t=True\n",
    "        for a in all_val[i]:\n",
    "            if a not in all_val[j]:\n",
    "                t=False\n",
    "                break\n",
    "        if t:\n",
    "            count-=1\n",
    "            all_val[j]=[]"
   ]
  },
  {
   "cell_type": "code",
   "execution_count": 8,
   "id": "f2c5be71",
   "metadata": {},
   "outputs": [
    {
     "data": {
      "text/plain": [
       "3"
      ]
     },
     "execution_count": 8,
     "metadata": {},
     "output_type": "execute_result"
    }
   ],
   "source": [
    "count"
   ]
  },
  {
   "cell_type": "code",
   "execution_count": 14,
   "id": "8eddbf80",
   "metadata": {},
   "outputs": [],
   "source": [
    "from itertools import combinations"
   ]
  },
  {
   "cell_type": "code",
   "execution_count": 33,
   "id": "c2111535",
   "metadata": {},
   "outputs": [
    {
     "name": "stdout",
     "output_type": "stream",
     "text": [
      "[()]\n",
      ",d ['', '', '']\n",
      "[(0,), (1,)]\n",
      ",d ['a', 'aa', 'a']\n",
      ",d ['aa', 'a', 'a']\n",
      "[]\n"
     ]
    }
   ],
   "source": [
    "relation=[['a', 'aa'], ['aa', 'a'], ['a', 'a']]\n",
    "\n",
    "li=[ [] for _ in range(len(relation[0])) ]\n",
    "\n",
    "for i in relation:\n",
    "    for j in range(len(i)):\n",
    "        li[j].append(i[j])\n",
    "\n",
    "count=0\n",
    "all_val=[]\n",
    "for n in range(len(relation[0])):\n",
    "    idx_li=[ i for i in range(len(li))]\n",
    "    li_com = list(combinations(idx_li,n))\n",
    "    print(li_com)\n",
    "    for i in li_com:\n",
    "        idx_com=[ \"\" for _ in range(len(relation))]\n",
    "        for j in i:\n",
    "            for idx in range(len(li[j])):\n",
    "                idx_com[idx]+=str(li[j][idx])\n",
    "        print(\",d\",idx_com)\n",
    "#         print(\"set\",set(idx_com))\n",
    "        if len(idx_com)==len(set(idx_com)):\n",
    "            count+=1\n",
    "            all_val.append(list(i))\n",
    "print(all_val)\n",
    "for i in range(len(all_val)):\n",
    "    for j in range(i+1,len(all_val)):\n",
    "        if len(all_val[i])==0 or len(all_val[j])==0:\n",
    "            continue\n",
    "        t=True\n",
    "        for a in all_val[i]:\n",
    "            if a not in all_val[j]:\n",
    "                t=False\n",
    "                break\n",
    "        if t:\n",
    "            count-=1\n",
    "            all_val[j]=[]"
   ]
  },
  {
   "cell_type": "code",
   "execution_count": 24,
   "id": "731e2cb1",
   "metadata": {},
   "outputs": [
    {
     "data": {
      "text/plain": [
       "[['a', 'aa', 'a'], ['aa', 'a', 'a']]"
      ]
     },
     "execution_count": 24,
     "metadata": {},
     "output_type": "execute_result"
    }
   ],
   "source": [
    "li"
   ]
  },
  {
   "cell_type": "code",
   "execution_count": 17,
   "id": "17375b54",
   "metadata": {},
   "outputs": [
    {
     "data": {
      "text/plain": [
       "0"
      ]
     },
     "execution_count": 17,
     "metadata": {},
     "output_type": "execute_result"
    }
   ],
   "source": [
    "count"
   ]
  },
  {
   "cell_type": "code",
   "execution_count": null,
   "id": "e48473bd",
   "metadata": {},
   "outputs": [],
   "source": []
  },
  {
   "cell_type": "code",
   "execution_count": null,
   "id": "981eae8d",
   "metadata": {},
   "outputs": [],
   "source": []
  },
  {
   "cell_type": "code",
   "execution_count": null,
   "id": "a35a2aec",
   "metadata": {},
   "outputs": [],
   "source": []
  },
  {
   "cell_type": "code",
   "execution_count": null,
   "id": "c9350995",
   "metadata": {},
   "outputs": [],
   "source": []
  },
  {
   "cell_type": "code",
   "execution_count": null,
   "id": "61be42ca",
   "metadata": {},
   "outputs": [],
   "source": []
  },
  {
   "cell_type": "code",
   "execution_count": null,
   "id": "8396c105",
   "metadata": {},
   "outputs": [],
   "source": []
  },
  {
   "cell_type": "code",
   "execution_count": null,
   "id": "144b3cdf",
   "metadata": {},
   "outputs": [],
   "source": []
  },
  {
   "cell_type": "code",
   "execution_count": 230,
   "id": "f1804ab6",
   "metadata": {},
   "outputs": [],
   "source": [
    "count=0\n",
    "for n in range(len(relation[0])):\n",
    "    visited=[0]*len(li)\n",
    "    idx_li=[ [i] for i in range(len(li))]\n",
    "    li_com = list(combinations(idx_li,n))\n",
    "    for i in li_com:\n",
    "        idx_com=[ \"\" for _ in range(len(relation))]\n",
    "        for j in i:\n",
    "            for idx in range(len(li[j[0]])):\n",
    "                idx_com[idx]+=str(li[j[0]][idx])\n",
    "        if len(idx_com)==len(set(idx_com)):\n",
    "            count+=1\n",
    "            for x in i:\n",
    "                visited[x[0]]=1\n",
    "\n",
    "    for i in range(len(visited)-1,-1,-1):\n",
    "        if visited[i]==1:\n",
    "            del li[i]"
   ]
  },
  {
   "cell_type": "code",
   "execution_count": 231,
   "id": "c50c1a73",
   "metadata": {},
   "outputs": [
    {
     "data": {
      "text/plain": [
       "2"
      ]
     },
     "execution_count": 231,
     "metadata": {},
     "output_type": "execute_result"
    }
   ],
   "source": [
    "count"
   ]
  },
  {
   "cell_type": "code",
   "execution_count": null,
   "id": "aa82e375",
   "metadata": {},
   "outputs": [],
   "source": []
  },
  {
   "cell_type": "code",
   "execution_count": null,
   "id": "62ab174d",
   "metadata": {},
   "outputs": [],
   "source": []
  },
  {
   "cell_type": "code",
   "execution_count": null,
   "id": "93ecce87",
   "metadata": {},
   "outputs": [],
   "source": []
  },
  {
   "cell_type": "code",
   "execution_count": null,
   "id": "44f03df1",
   "metadata": {},
   "outputs": [],
   "source": []
  }
 ],
 "metadata": {
  "kernelspec": {
   "display_name": "Python 3",
   "language": "python",
   "name": "python3"
  },
  "language_info": {
   "codemirror_mode": {
    "name": "ipython",
    "version": 3
   },
   "file_extension": ".py",
   "mimetype": "text/x-python",
   "name": "python",
   "nbconvert_exporter": "python",
   "pygments_lexer": "ipython3",
   "version": "3.8.8"
  }
 },
 "nbformat": 4,
 "nbformat_minor": 5
}
