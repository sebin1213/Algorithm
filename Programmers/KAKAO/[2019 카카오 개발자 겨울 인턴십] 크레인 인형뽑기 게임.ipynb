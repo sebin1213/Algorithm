{
 "cells": [
  {
   "cell_type": "code",
   "execution_count": null,
   "id": "b37675d1",
   "metadata": {},
   "outputs": [],
   "source": [
    "def solution(board, moves):\n",
    "    li=[]\n",
    "    n=0\n",
    "    for i in moves:\n",
    "        for j in range(len(board)):\n",
    "            if board[j][i-1] > 0:\n",
    "                li.append(board[j][i-1])\n",
    "                board[j][i-1] = 0\n",
    "                if len(li) >= 2 and (li[-1]==li[-2]):\n",
    "                    li.pop()\n",
    "                    li.pop()\n",
    "                    n+=1\n",
    "                break\n",
    "    return n*2"
   ]
  }
 ],
 "metadata": {
  "kernelspec": {
   "display_name": "Python 3",
   "language": "python",
   "name": "python3"
  },
  "language_info": {
   "codemirror_mode": {
    "name": "ipython",
    "version": 3
   },
   "file_extension": ".py",
   "mimetype": "text/x-python",
   "name": "python",
   "nbconvert_exporter": "python",
   "pygments_lexer": "ipython3",
   "version": "3.8.8"
  }
 },
 "nbformat": 4,
 "nbformat_minor": 5
}
