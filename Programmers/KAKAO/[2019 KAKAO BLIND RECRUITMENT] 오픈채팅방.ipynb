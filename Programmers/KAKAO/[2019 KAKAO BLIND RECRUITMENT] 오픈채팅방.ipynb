{
 "cells": [
  {
   "cell_type": "code",
   "execution_count": null,
   "id": "953cfca9",
   "metadata": {},
   "outputs": [],
   "source": [
    "def solution(record):\n",
    "    dict_re = dict()\n",
    "    li=[]\n",
    "\n",
    "    for i in range(len(record)):\n",
    "        record[i] = record[i].split(' ')\n",
    "        if record[i][0]!='Leave':\n",
    "            dict_re[record[i][1]] = record[i][2]\n",
    "\n",
    "    for i in record:\n",
    "        if i[0]=='Enter':\n",
    "            li.append(dict_re[i[1]]+\"님이 들어왔습니다.\")\n",
    "        elif i[0]=='Leave':\n",
    "            li.append(dict_re[i[1]]+\"님이 나갔습니다.\")\n",
    "    return li"
   ]
  }
 ],
 "metadata": {
  "kernelspec": {
   "display_name": "Python 3",
   "language": "python",
   "name": "python3"
  },
  "language_info": {
   "codemirror_mode": {
    "name": "ipython",
    "version": 3
   },
   "file_extension": ".py",
   "mimetype": "text/x-python",
   "name": "python",
   "nbconvert_exporter": "python",
   "pygments_lexer": "ipython3",
   "version": "3.8.8"
  }
 },
 "nbformat": 4,
 "nbformat_minor": 5
}
