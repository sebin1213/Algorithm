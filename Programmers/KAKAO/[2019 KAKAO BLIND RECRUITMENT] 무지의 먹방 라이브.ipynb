{
 "cells": [
  {
   "cell_type": "code",
   "execution_count": 321,
   "id": "c076d3ec",
   "metadata": {},
   "outputs": [],
   "source": [
    "def solution(food_times, k):\n",
    "    food_len = len(food_times)\n",
    "    zero,count,i = 0,0,0\n",
    "    if food_len > k:\n",
    "        return (k+1)\n",
    "    while (count-1) != k:\n",
    "        if zero == food_len:\n",
    "            return -1\n",
    "        if i >= food_len:\n",
    "            i-=food_len\n",
    "        if food_times[i] > 0:\n",
    "            food_times[i] -= 1\n",
    "            count += 1\n",
    "            zero = 0\n",
    "        else:\n",
    "            zero +=1\n",
    "        i+=1\n",
    "    return i"
   ]
  },
  {
   "cell_type": "code",
   "execution_count": null,
   "id": "838f2106",
   "metadata": {},
   "outputs": [],
   "source": []
  },
  {
   "cell_type": "code",
   "execution_count": null,
   "id": "a467c8ff",
   "metadata": {},
   "outputs": [],
   "source": []
  }
 ],
 "metadata": {
  "kernelspec": {
   "display_name": "Python 3",
   "language": "python",
   "name": "python3"
  },
  "language_info": {
   "codemirror_mode": {
    "name": "ipython",
    "version": 3
   },
   "file_extension": ".py",
   "mimetype": "text/x-python",
   "name": "python",
   "nbconvert_exporter": "python",
   "pygments_lexer": "ipython3",
   "version": "3.8.8"
  }
 },
 "nbformat": 4,
 "nbformat_minor": 5
}
