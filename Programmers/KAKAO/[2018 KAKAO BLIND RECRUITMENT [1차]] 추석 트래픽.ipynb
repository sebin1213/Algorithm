{
 "cells": [
  {
   "cell_type": "code",
   "execution_count": null,
   "id": "8eaafa81",
   "metadata": {},
   "outputs": [],
   "source": [
    "from datetime import datetime, timedelta\n",
    "\n",
    "def solution(lines):\n",
    "    line=[]\n",
    "    for i in lines:\n",
    "        t=i.split()\n",
    "        t[2] = float(t[2][:-1])\n",
    "        line.append(t)\n",
    "\n",
    "    from datetime import datetime, timedelta\n",
    "\n",
    "    end_li=[]\n",
    "    start_li=[]\n",
    "    for i in line:\n",
    "\n",
    "        end = datetime.strptime(i[1],\"%H:%M:%S.%f\")\n",
    "        start = end - timedelta(seconds=(i[2]-0.001))\n",
    "        end_li.append(end)\n",
    "        start_li.append(start)\n",
    "\n",
    "    count=[]\n",
    "\n",
    "    for i in range(len(end_li)):\n",
    "        n = 0\n",
    "        for j in range(i+1,len(end_li)):\n",
    "            if start_li[j] < end_li[i]+timedelta(seconds=1):\n",
    "                n+=1\n",
    "        count.append(n)\n",
    "\n",
    "    return max(count)+1"
   ]
  }
 ],
 "metadata": {
  "kernelspec": {
   "display_name": "Python 3",
   "language": "python",
   "name": "python3"
  },
  "language_info": {
   "codemirror_mode": {
    "name": "ipython",
    "version": 3
   },
   "file_extension": ".py",
   "mimetype": "text/x-python",
   "name": "python",
   "nbconvert_exporter": "python",
   "pygments_lexer": "ipython3",
   "version": "3.8.8"
  }
 },
 "nbformat": 4,
 "nbformat_minor": 5
}
