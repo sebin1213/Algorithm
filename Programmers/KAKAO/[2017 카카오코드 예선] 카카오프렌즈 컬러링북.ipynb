{
 "cells": [
  {
   "cell_type": "code",
   "execution_count": 78,
   "id": "b8155151",
   "metadata": {},
   "outputs": [],
   "source": [
    "m=6\n",
    "n=4\n",
    "picture=[[1, 1, 1, 0], [1, 2, 2, 0], [1, 0, 0, 1], [0, 0, 0, 1], [0, 0, 0, 3], [0, 0, 0, 3]]\n",
    "# [4, 5]"
   ]
  },
  {
   "cell_type": "code",
   "execution_count": 79,
   "id": "a2d846c4",
   "metadata": {},
   "outputs": [],
   "source": [
    "def dfs(num, r, c):\n",
    "    global max_val, depth, area\n",
    "    \n",
    "    if max_val < depth:\n",
    "        max_val = depth\n",
    "\n",
    "    if visited[r][c]==0:\n",
    "        visited[r][c]=1\n",
    "        depth +=1\n",
    "        for i in range(4):\n",
    "            nx = c + dx[i]\n",
    "            ny = r + dy[i]\n",
    "            if 0 <= nx < n and 0 <= ny < m:\n",
    "                if picture[ny][nx] == num:\n",
    "                    area = True\n",
    "                    dfs(num, ny, nx)\n"
   ]
  },
  {
   "cell_type": "code",
   "execution_count": 80,
   "id": "3e6781d6",
   "metadata": {},
   "outputs": [],
   "source": [
    "dx = [0,0,-1,1]\n",
    "dy = [-1,1,0,0]\n",
    "visited = [ [0]*n for i in range(m)]\n",
    "count = 0\n",
    "max_val = -1e9\n",
    "\n",
    "for i in range(m):\n",
    "    for j in range(n):\n",
    "        if visited[i][j]==0 and picture[i][j]!=0:\n",
    "            area=False\n",
    "            depth = 0\n",
    "            dfs(picture[i][j], i, j)\n",
    "            if area:\n",
    "                count +=1"
   ]
  },
  {
   "cell_type": "code",
   "execution_count": 83,
   "id": "11e1318a",
   "metadata": {},
   "outputs": [
    {
     "data": {
      "text/plain": [
       "[4, 5]"
      ]
     },
     "execution_count": 83,
     "metadata": {},
     "output_type": "execute_result"
    }
   ],
   "source": [
    "[count, max_val]"
   ]
  },
  {
   "cell_type": "code",
   "execution_count": null,
   "id": "b7f777fb",
   "metadata": {},
   "outputs": [],
   "source": []
  }
 ],
 "metadata": {
  "kernelspec": {
   "display_name": "Python 3",
   "language": "python",
   "name": "python3"
  },
  "language_info": {
   "codemirror_mode": {
    "name": "ipython",
    "version": 3
   },
   "file_extension": ".py",
   "mimetype": "text/x-python",
   "name": "python",
   "nbconvert_exporter": "python",
   "pygments_lexer": "ipython3",
   "version": "3.8.8"
  }
 },
 "nbformat": 4,
 "nbformat_minor": 5
}
