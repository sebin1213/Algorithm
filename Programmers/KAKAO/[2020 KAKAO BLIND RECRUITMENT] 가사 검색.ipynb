{
 "cells": [
  {
   "cell_type": "code",
   "execution_count": null,
   "id": "d7feb60b",
   "metadata": {},
   "outputs": [],
   "source": [
    "# 테스트 17 〉\t통과 (149.16ms, 10.4MB)\n",
    "# 테스트 18 〉\t통과 (181.09ms, 10.4MB)"
   ]
  },
  {
   "cell_type": "code",
   "execution_count": null,
   "id": "ee732423",
   "metadata": {},
   "outputs": [],
   "source": [
    "def solution(words, queries):\n",
    "    li = [0]*len(queries)\n",
    "\n",
    "    for q in range(len(queries)):\n",
    "        r,m,l=0,0,0\n",
    "        for i in queries[q]:\n",
    "            if i=='?':\n",
    "                if m==0:\n",
    "                    r+=1\n",
    "                else:\n",
    "                    l+=1\n",
    "            else:\n",
    "                m+=1\n",
    "        for j in words:\n",
    "            if j[r:r+m]==queries[q][r:r+m]:\n",
    "                if l==len(j[r+m:]):\n",
    "                    li[q]+=1\n",
    "    return li"
   ]
  },
  {
   "cell_type": "code",
   "execution_count": null,
   "id": "64e10581",
   "metadata": {},
   "outputs": [],
   "source": [
    "# 테스트 17 〉\t통과 (102.37ms, 10.4MB)\n",
    "# 테스트 18 〉\t통과 (111.61ms, 10.4MB)"
   ]
  },
  {
   "cell_type": "code",
   "execution_count": null,
   "id": "859fa588",
   "metadata": {},
   "outputs": [],
   "source": [
    "def solution(words, queries):\n",
    "    li = [0]*len(queries)\n",
    "    for q in range(len(queries)):\n",
    "        c_word = 0\n",
    "        if queries[q][0]=='?':\n",
    "            for i in range(len(queries[q])-1,-1,-1):\n",
    "                if queries[q][i] == '?':\n",
    "                    break\n",
    "                else:\n",
    "                    c_word+=1\n",
    "            for w in words:\n",
    "                if len(queries[q])==len(w) and w[-c_word:]==queries[q][-c_word:]:\n",
    "                    li[q]+=1\n",
    "        else:\n",
    "            for i in range(len(queries[q])):\n",
    "                if queries[q][i] == '?':\n",
    "                    break\n",
    "                else:\n",
    "                    c_word+=1\n",
    "            for w in words:\n",
    "                if len(queries[q])==len(w) and w[:c_word]==queries[q][:c_word]:\n",
    "                    li[q]+=1\n",
    "    return li"
   ]
  },
  {
   "cell_type": "markdown",
   "id": "1f9d23ae",
   "metadata": {},
   "source": [
    "### Trie 구조 공부하고 문제 풀기"
   ]
  },
  {
   "cell_type": "markdown",
   "id": "a3a328f8",
   "metadata": {},
   "source": [
    "### 🚨🚨 검색 키워드의 접두사 아니면 접미사 중 하나로만 주어집니다....!!!!! "
   ]
  },
  {
   "cell_type": "code",
   "execution_count": 103,
   "id": "0a677077",
   "metadata": {},
   "outputs": [],
   "source": [
    "words = [\"frodo\", \"front\", \"frost\", \"frozen\", \"frame\", \"kakao\"]\n",
    "queries = [\"fro??\", \"????o\", \"fr???\", \"fro???\", \"pro?\"]"
   ]
  },
  {
   "cell_type": "code",
   "execution_count": 116,
   "id": "12a5a48c",
   "metadata": {},
   "outputs": [],
   "source": [
    "def solution(words, queries):\n",
    "    head, head_rev = {}, {}\n",
    "    wc = []\n",
    "    \n",
    "    def add(head,word):\n",
    "        node = head\n",
    "        for w in word:\n",
    "            if w not in node:\n",
    "                node[w]={}\n",
    "            node= node[w]\n",
    "            if 'len' not in node:\n",
    "                node['len'] = [len_word]\n",
    "            else:\n",
    "                node['len'].append(len_word)\n",
    "        node['end']=True   \n",
    "    \n",
    "    for word in words:\n",
    "        len_word = len(word)\n",
    "        add(head,word)\n",
    "        add(head_rev,word[::-1])\n",
    "        wc.append(len_word)\n",
    "        \n",
    "    def search(head, querie):\n",
    "        count=0\n",
    "        node = head\n",
    "        for q in querie:\n",
    "            if q=='?':\n",
    "                return node['len'].count(len_qu)\n",
    "            elif q not in node:\n",
    "                break\n",
    "            node = node[q]\n",
    "        return count\n",
    "\n",
    "    li=[]\n",
    "    for querie in queries:\n",
    "        len_qu = len(querie)\n",
    "        if querie[0]=='?':\n",
    "            if querie[-1]=='?': \n",
    "                li.append(wc.count(len_qu))\n",
    "            else: \n",
    "                li.append(search(head_rev, querie[::-1]))\n",
    "        else:\n",
    "            li.append(search(head, querie))\n",
    "    return li"
   ]
  },
  {
   "cell_type": "code",
   "execution_count": null,
   "id": "9e864255",
   "metadata": {},
   "outputs": [],
   "source": []
  }
 ],
 "metadata": {
  "kernelspec": {
   "display_name": "Python 3",
   "language": "python",
   "name": "python3"
  },
  "language_info": {
   "codemirror_mode": {
    "name": "ipython",
    "version": 3
   },
   "file_extension": ".py",
   "mimetype": "text/x-python",
   "name": "python",
   "nbconvert_exporter": "python",
   "pygments_lexer": "ipython3",
   "version": "3.8.8"
  }
 },
 "nbformat": 4,
 "nbformat_minor": 5
}
