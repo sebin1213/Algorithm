{
 "cells": [
  {
   "cell_type": "code",
   "execution_count": null,
   "id": "ff303a72",
   "metadata": {},
   "outputs": [],
   "source": [
    "def solution(n, t, m, p):\n",
    "    all_list=[]\n",
    "    for x in range(100000):\n",
    "        if len(all_list) > (t*m):\n",
    "            break\n",
    "        li=[]\n",
    "        if x==0:\n",
    "            li.append(x)\n",
    "        while x >= 1:\n",
    "            num = x % n\n",
    "            if num > 9:\n",
    "                num = chr(x%n + 55)\n",
    "            li.append(num)\n",
    "            x //= n\n",
    "        all_list+=li[::-1]\n",
    "\n",
    "    word=''\n",
    "    for i in range(t):\n",
    "        word += str(all_list[(i*m)+p-1])\n",
    "    return word"
   ]
  }
 ],
 "metadata": {
  "kernelspec": {
   "display_name": "Python 3",
   "language": "python",
   "name": "python3"
  },
  "language_info": {
   "codemirror_mode": {
    "name": "ipython",
    "version": 3
   },
   "file_extension": ".py",
   "mimetype": "text/x-python",
   "name": "python",
   "nbconvert_exporter": "python",
   "pygments_lexer": "ipython3",
   "version": "3.8.8"
  }
 },
 "nbformat": 4,
 "nbformat_minor": 5
}
