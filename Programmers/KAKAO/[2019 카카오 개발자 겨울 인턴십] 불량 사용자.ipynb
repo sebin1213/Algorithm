{
 "cells": [
  {
   "cell_type": "code",
   "execution_count": 352,
   "id": "74141cd6",
   "metadata": {},
   "outputs": [],
   "source": [
    "user_id=[\"12345\", \"12453\", \"aaaaa\"]\n",
    "banned_id=[\"*****\", \"*****\" ]"
   ]
  },
  {
   "cell_type": "code",
   "execution_count": 353,
   "id": "0d5516ef",
   "metadata": {},
   "outputs": [],
   "source": [
    "visited=[0]*len(user_id)\n",
    "answer=[]"
   ]
  },
  {
   "cell_type": "code",
   "execution_count": 354,
   "id": "a9c72e0f",
   "metadata": {},
   "outputs": [],
   "source": [
    "star_idx=[ [] for _ in range(len(banned_id)) ]"
   ]
  },
  {
   "cell_type": "code",
   "execution_count": 355,
   "id": "07f6b0ab",
   "metadata": {},
   "outputs": [],
   "source": [
    "for u in range(len(user_id)):\n",
    "    user_id[u]=list(user_id[u])\n",
    "\n",
    "for b in range(len(banned_id)):\n",
    "    banned_id[b]=list(banned_id[b])\n",
    "    for i in range(len(banned_id[b])):\n",
    "        if banned_id[b][i]==\"*\":\n",
    "            star_idx[b].append(i)"
   ]
  },
  {
   "cell_type": "code",
   "execution_count": 356,
   "id": "63869d43",
   "metadata": {},
   "outputs": [],
   "source": [
    "def dfs(case,count):\n",
    "    if count==len(banned_id):\n",
    "        cases.append(case)\n",
    "        return\n",
    "    for u in range(len(user_id)):\n",
    "        if len(user_id[u])==len(banned_id[count]):\n",
    "            change_ban_id=banned_id[count][:]\n",
    "            for loc in star_idx[count]:\n",
    "                change_ban_id[loc]=user_id[u][loc]\n",
    "            if visited[u]==0 and user_id[u]==change_ban_id:\n",
    "                visited[u]=1\n",
    "                dfs(case+[\"\".join(user_id[u])],count+1)\n",
    "                visited[u]=0"
   ]
  },
  {
   "cell_type": "code",
   "execution_count": 357,
   "id": "87dc4f48",
   "metadata": {},
   "outputs": [],
   "source": [
    "cases=[]\n",
    "dfs([],0)"
   ]
  },
  {
   "cell_type": "code",
   "execution_count": 361,
   "id": "85bc5f3a",
   "metadata": {},
   "outputs": [],
   "source": [
    "answer=set()\n",
    "for case in cases:\n",
    "    answer.add(tuple(set(sorted(case))))"
   ]
  },
  {
   "cell_type": "code",
   "execution_count": 362,
   "id": "8ccf15ae",
   "metadata": {
    "scrolled": true
   },
   "outputs": [
    {
     "data": {
      "text/plain": [
       "3"
      ]
     },
     "execution_count": 362,
     "metadata": {},
     "output_type": "execute_result"
    }
   ],
   "source": [
    "len(answer)"
   ]
  },
  {
   "cell_type": "code",
   "execution_count": null,
   "id": "6b929854",
   "metadata": {},
   "outputs": [],
   "source": []
  },
  {
   "cell_type": "code",
   "execution_count": null,
   "id": "c23d10ce",
   "metadata": {},
   "outputs": [],
   "source": []
  },
  {
   "cell_type": "code",
   "execution_count": null,
   "id": "4d12ca7f",
   "metadata": {},
   "outputs": [],
   "source": []
  },
  {
   "cell_type": "markdown",
   "id": "696dd815",
   "metadata": {},
   "source": [
    "### 제출코드"
   ]
  },
  {
   "cell_type": "code",
   "execution_count": null,
   "id": "e1b72bc6",
   "metadata": {},
   "outputs": [],
   "source": [
    "def solution(user_id, banned_id):\n",
    "    visited=[0]*len(user_id)\n",
    "    answer=[]\n",
    "\n",
    "    star_idx=[ [] for _ in range(len(banned_id)) ]\n",
    "\n",
    "    for u in range(len(user_id)):\n",
    "        user_id[u]=list(user_id[u])\n",
    "\n",
    "    for b in range(len(banned_id)):\n",
    "        banned_id[b]=list(banned_id[b])\n",
    "        for i in range(len(banned_id[b])):\n",
    "            if banned_id[b][i]==\"*\":\n",
    "                star_idx[b].append(i)\n",
    "\n",
    "    def dfs(case,count):\n",
    "\n",
    "        if count==len(banned_id):\n",
    "            cases.append(case)\n",
    "            case=[]\n",
    "            return\n",
    "        for u in range(len(user_id)):\n",
    "            if len(user_id[u])==len(banned_id[count]):\n",
    "                change_ban_id=banned_id[count][:]\n",
    "                for loc in star_idx[count]:\n",
    "                    change_ban_id[loc]=user_id[u][loc]\n",
    "                if visited[u]==0 and user_id[u]==change_ban_id:\n",
    "                    visited[u]=1\n",
    "                    dfs(case+[\"\".join(user_id[u])],count+1)\n",
    "                    visited[u]=0\n",
    "\n",
    "    cases=[]\n",
    "    dfs([],0)\n",
    "\n",
    "    answer=set()\n",
    "    for case in cases:\n",
    "        answer.add(tuple(set(sorted(case))))\n",
    "    return len(answer)"
   ]
  }
 ],
 "metadata": {
  "kernelspec": {
   "display_name": "Python 3",
   "language": "python",
   "name": "python3"
  },
  "language_info": {
   "codemirror_mode": {
    "name": "ipython",
    "version": 3
   },
   "file_extension": ".py",
   "mimetype": "text/x-python",
   "name": "python",
   "nbconvert_exporter": "python",
   "pygments_lexer": "ipython3",
   "version": "3.8.8"
  }
 },
 "nbformat": 4,
 "nbformat_minor": 5
}
