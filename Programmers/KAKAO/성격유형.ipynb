{
 "cells": [
  {
   "cell_type": "code",
   "execution_count": null,
   "id": "2b763e4c",
   "metadata": {},
   "outputs": [],
   "source": [
    "score=[3,2,1,0,1,2,3]\n",
    "mbti={\"R\":0,\"T\":0,\"C\":0,\"F\":0,\"J\":0,\"M\":0,\"A\":0,\"N\":0}\n",
    "def solution(survey, choices):\n",
    "    for i in range(len(survey)):\n",
    "        if choices[i] > 4:\n",
    "            mbti[survey[i][1]]+=score[choices[i]-1]\n",
    "        else:\n",
    "            mbti[survey[i][0]]+=score[choices[i]-1]\n",
    "\n",
    "    answer=\"\"\n",
    "    answer+= \"R\" if mbti[\"R\"] >= mbti[\"T\"] else \"T\"\n",
    "    answer+= \"C\" if mbti[\"C\"] >= mbti[\"F\"] else \"F\"\n",
    "    answer+= \"J\" if mbti[\"J\"] >= mbti[\"M\"] else \"M\"\n",
    "    answer+= \"A\" if mbti[\"A\"] >= mbti[\"N\"] else \"N\"\n",
    "    return answer"
   ]
  }
 ],
 "metadata": {
  "kernelspec": {
   "display_name": "Python 3",
   "language": "python",
   "name": "python3"
  },
  "language_info": {
   "codemirror_mode": {
    "name": "ipython",
    "version": 3
   },
   "file_extension": ".py",
   "mimetype": "text/x-python",
   "name": "python",
   "nbconvert_exporter": "python",
   "pygments_lexer": "ipython3",
   "version": "3.8.8"
  }
 },
 "nbformat": 4,
 "nbformat_minor": 5
}
