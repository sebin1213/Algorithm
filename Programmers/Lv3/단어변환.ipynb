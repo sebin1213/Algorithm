{
 "cells": [
  {
   "cell_type": "code",
   "execution_count": 1,
   "id": "09495f1d",
   "metadata": {},
   "outputs": [],
   "source": [
    "begin=\"hit\"\n",
    "target=\"cog\"\n",
    "words=[\"hot\", \"dot\", \"dog\", \"lot\", \"log\", \"cog\"]"
   ]
  },
  {
   "cell_type": "code",
   "execution_count": 2,
   "id": "ea862d85",
   "metadata": {},
   "outputs": [],
   "source": [
    "words.sort()"
   ]
  },
  {
   "cell_type": "code",
   "execution_count": 3,
   "id": "859d6525",
   "metadata": {},
   "outputs": [
    {
     "data": {
      "text/plain": [
       "['cog', 'dog', 'dot', 'hot', 'log', 'lot']"
      ]
     },
     "execution_count": 3,
     "metadata": {},
     "output_type": "execute_result"
    }
   ],
   "source": [
    "words"
   ]
  },
  {
   "cell_type": "code",
   "execution_count": null,
   "id": "1c52433e",
   "metadata": {},
   "outputs": [],
   "source": []
  },
  {
   "cell_type": "code",
   "execution_count": 9,
   "id": "f5785bec",
   "metadata": {},
   "outputs": [],
   "source": [
    "n = len(begin)\n",
    "visited=[0]*n"
   ]
  },
  {
   "cell_type": "code",
   "execution_count": 16,
   "id": "0ffc1e2e",
   "metadata": {},
   "outputs": [],
   "source": [
    "def dfs(depth,begin):\n",
    "#     if depth == n:\n",
    "#         return\n",
    "    \n",
    "    for i in range(n):\n",
    "        print(begin[:i]+target[i]+begin[i+1:])\n",
    "        if visited[i]==0:\n",
    "            if (begin[:i]+target[i]+begin[i+1:]) in words:\n",
    "#                 begin = begin[:i]+target[i]+begin[i+1:]\n",
    "                print('dddd',begin[:i]+target[i]+begin[i+1:])\n",
    "                visited[i]=1\n",
    "                dfs(depth+1,begin[:i]+target[i]+begin[i+1:])\n",
    "                visited[i]=0\n",
    "#                 begin = begin[:i]+begin[i]+begin[i+1:]\n",
    "            \n",
    "            "
   ]
  },
  {
   "cell_type": "code",
   "execution_count": 17,
   "id": "8e277328",
   "metadata": {},
   "outputs": [
    {
     "name": "stdout",
     "output_type": "stream",
     "text": [
      "cit\n",
      "hot\n",
      "dddd hot\n",
      "cot\n",
      "hot\n",
      "hog\n",
      "hig\n"
     ]
    }
   ],
   "source": [
    "dfs(0,'hit')"
   ]
  },
  {
   "cell_type": "code",
   "execution_count": null,
   "id": "7869d70a",
   "metadata": {},
   "outputs": [],
   "source": []
  },
  {
   "cell_type": "code",
   "execution_count": null,
   "id": "4714cf72",
   "metadata": {},
   "outputs": [],
   "source": []
  }
 ],
 "metadata": {
  "kernelspec": {
   "display_name": "Python 3",
   "language": "python",
   "name": "python3"
  },
  "language_info": {
   "codemirror_mode": {
    "name": "ipython",
    "version": 3
   },
   "file_extension": ".py",
   "mimetype": "text/x-python",
   "name": "python",
   "nbconvert_exporter": "python",
   "pygments_lexer": "ipython3",
   "version": "3.8.8"
  }
 },
 "nbformat": 4,
 "nbformat_minor": 5
}
