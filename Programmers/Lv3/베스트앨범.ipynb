{
 "cells": [
  {
   "cell_type": "markdown",
   "id": "5903a6f7",
   "metadata": {},
   "source": [
    "문제 설명\n",
    "스트리밍 사이트에서 장르 별로 가장 많이 재생된 노래를 두 개씩 모아 베스트 앨범을 출시하려 합니다. 노래는 고유 번호로 구분하며, 노래를 수록하는 기준은 다음과 같습니다.\n",
    "\n",
    "1. 속한 노래가 많이 재생된 장르를 먼저 수록합니다.\n",
    "2. 장르 내에서 많이 재생된 노래를 먼저 수록합니다.\n",
    "3. 장르 내에서 재생 횟수가 같은 노래 중에서는 고유 번호가 낮은 노래를 먼저 수록합니다.\n",
    "\n",
    "노래의 장르를 나타내는 문자열 배열 genres와 노래별 재생 횟수를 나타내는 정수 배열 plays가 주어질 때, 베스트 앨범에 들어갈 노래의 고유 번호를 순서대로 return 하도록 solution 함수를 완성하세요."
   ]
  },
  {
   "cell_type": "markdown",
   "id": "b7079d0b",
   "metadata": {},
   "source": [
    "| genres| plays | return |\n",
    "\n",
    "| [\"classic\", \"pop\", \"classic\", \"classic\", \"pop\"] | [500, 600, 150, 800, 2500] | [4, 1, 3, 0] |"
   ]
  },
  {
   "cell_type": "code",
   "execution_count": 67,
   "id": "6bd1f8f3",
   "metadata": {},
   "outputs": [],
   "source": [
    "genres =  [\"classic\", \"pop\", \"classic\", \"classic\", \"pop\",\"k\"]\n",
    "plays = [500, 600, 150, 800, 2500,1]"
   ]
  },
  {
   "cell_type": "code",
   "execution_count": 32,
   "id": "481ea727",
   "metadata": {},
   "outputs": [],
   "source": [
    "def solution(genres, plays):\n",
    "    music_c = {}\n",
    "    music_list = {}\n",
    "\n",
    "    for i,j in zip(genres,plays):\n",
    "\n",
    "        if i in music_c:\n",
    "            music_c[i] += j\n",
    "            music_list[i] += [j]\n",
    "        else: \n",
    "            music_c[i] = j\n",
    "            music_list[i] = [j]\n",
    "\n",
    "    music_c_list = sorted(music_c.items(), key = lambda x: x[1], reverse=True)\n",
    "\n",
    "    answer = []\n",
    "\n",
    "    for i in range(len(music_c)):\n",
    "        a = music_list[music_c_list[i][0]]\n",
    "        a.sort(reverse=True)\n",
    "        answer.append(plays.index(a[0]))\n",
    "        plays[plays.index(a[0])] = -1\n",
    "        if len(music_list[music_c_list[i][0]]) > 1:\n",
    "            answer.append(plays.index(a[1]))\n",
    "            plays[plays.index(a[1])] = -1\n",
    "    return answer\n"
   ]
  },
  {
   "cell_type": "code",
   "execution_count": null,
   "id": "cd053853",
   "metadata": {},
   "outputs": [],
   "source": []
  },
  {
   "cell_type": "code",
   "execution_count": 33,
   "id": "cd15e244",
   "metadata": {},
   "outputs": [
    {
     "data": {
      "text/plain": [
       "[4, 1, 3, 0]"
      ]
     },
     "execution_count": 33,
     "metadata": {},
     "output_type": "execute_result"
    }
   ],
   "source": [
    "solution(genres, plays)"
   ]
  }
 ],
 "metadata": {
  "kernelspec": {
   "display_name": "Python 3",
   "language": "python",
   "name": "python3"
  },
  "language_info": {
   "codemirror_mode": {
    "name": "ipython",
    "version": 3
   },
   "file_extension": ".py",
   "mimetype": "text/x-python",
   "name": "python",
   "nbconvert_exporter": "python",
   "pygments_lexer": "ipython3",
   "version": "3.8.8"
  }
 },
 "nbformat": 4,
 "nbformat_minor": 5
}
