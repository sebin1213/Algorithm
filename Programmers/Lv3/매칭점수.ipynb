{
 "cells": [
  {
   "cell_type": "code",
   "execution_count": 1,
   "id": "74cca39a",
   "metadata": {},
   "outputs": [],
   "source": [
    "word = \"blind\"\n",
    "page= [\"<html lang=\\\"ko\\\" xml:lang=\\\"ko\\\" xmlns=\\\"http://www.w3.org/1999/xhtml\\\">\\n<head>\\n  <meta charset=\\\"utf-8\\\">\\n  <meta property=\\\"og:url\\\" content=\\\"https://a.com\\\"/>\\n</head>  \\n<body>\\nBlind Lorem Blind ipsum dolor Blind test sit amet, consectetur adipiscing elit. \\n<a href=\\\"https://b.com\\\"> Link to b </a>\\n</body>\\n</html>\", \"<html lang=\\\"ko\\\" xml:lang=\\\"ko\\\" xmlns=\\\"http://www.w3.org/1999/xhtml\\\">\\n<head>\\n  <meta charset=\\\"utf-8\\\">\\n  <meta property=\\\"og:url\\\" content=\\\"https://b.com\\\"/>\\n</head>  \\n<body>\\nSuspendisse potenti. Vivamus venenatis tellus non turpis bibendum, \\n<a href=\\\"https://a.com\\\"> Link to a </a>\\nblind sed congue urna varius. Suspendisse feugiat nisl ligula, quis malesuada felis hendrerit ut.\\n<a href=\\\"https://c.com\\\"> Link to c </a>\\n</body>\\n</html>\", \"<html lang=\\\"ko\\\" xml:lang=\\\"ko\\\" xmlns=\\\"http://www.w3.org/1999/xhtml\\\">\\n<head>\\n  <meta charset=\\\"utf-8\\\">\\n  <meta property=\\\"og:url\\\" content=\\\"https://c.com\\\"/>\\n</head>  \\n<body>\\nUt condimentum urna at felis sodales rutrum. Sed dapibus cursus diam, non interdum nulla tempor nec. Phasellus rutrum enim at orci consectetu blind\\n<a href=\\\"https://a.com\\\"> Link to a </a>\\n</body>\\n</html>\"]"
   ]
  },
  {
   "cell_type": "code",
   "execution_count": 31,
   "id": "3846c658",
   "metadata": {},
   "outputs": [],
   "source": [
    "page = [ page[i].upper().split('\\n') for i in range(len(page))]"
   ]
  },
  {
   "cell_type": "code",
   "execution_count": 32,
   "id": "eda92658",
   "metadata": {},
   "outputs": [
    {
     "data": {
      "text/plain": [
       "['<HTML LANG=\"KO\" XML:LANG=\"KO\" XMLNS=\"HTTP://WWW.W3.ORG/1999/XHTML\">',\n",
       " '<HEAD>',\n",
       " '  <META CHARSET=\"UTF-8\">',\n",
       " '  <META PROPERTY=\"OG:URL\" CONTENT=\"HTTPS://A.COM\"/>',\n",
       " '</HEAD>  ',\n",
       " '<BODY>',\n",
       " 'BLIND LOREM BLIND IPSUM DOLOR BLIND TEST SIT AMET, CONSECTETUR ADIPISCING ELIT. ',\n",
       " '<A HREF=\"HTTPS://B.COM\"> LINK TO B </A>',\n",
       " '</BODY>',\n",
       " '</HTML>']"
      ]
     },
     "execution_count": 32,
     "metadata": {},
     "output_type": "execute_result"
    }
   ],
   "source": [
    "page[0]"
   ]
  },
  {
   "cell_type": "code",
   "execution_count": 47,
   "id": "8d24b860",
   "metadata": {},
   "outputs": [],
   "source": [
    "word = word.upper()"
   ]
  },
  {
   "cell_type": "code",
   "execution_count": 49,
   "id": "8c06c1f4",
   "metadata": {
    "scrolled": true
   },
   "outputs": [
    {
     "data": {
      "text/plain": [
       "3"
      ]
     },
     "execution_count": 49,
     "metadata": {},
     "output_type": "execute_result"
    }
   ],
   "source": [
    "page[0][6:-2][0].count(word)"
   ]
  },
  {
   "cell_type": "code",
   "execution_count": null,
   "id": "e80795bc",
   "metadata": {},
   "outputs": [],
   "source": []
  },
  {
   "cell_type": "code",
   "execution_count": null,
   "id": "77bbc539",
   "metadata": {},
   "outputs": [],
   "source": [
    "for i in page:\n",
    "    for j in i[6:-2]:\n",
    "        for w in range(0,len(j),5)\n",
    "            if j:"
   ]
  },
  {
   "cell_type": "code",
   "execution_count": 19,
   "id": "a6fe4fe6",
   "metadata": {},
   "outputs": [
    {
     "data": {
      "text/plain": [
       "97"
      ]
     },
     "execution_count": 19,
     "metadata": {},
     "output_type": "execute_result"
    }
   ],
   "source": [
    "ord('a')"
   ]
  },
  {
   "cell_type": "code",
   "execution_count": 20,
   "id": "b6148166",
   "metadata": {},
   "outputs": [
    {
     "data": {
      "text/plain": [
       "122"
      ]
     },
     "execution_count": 20,
     "metadata": {},
     "output_type": "execute_result"
    }
   ],
   "source": [
    "ord('z')"
   ]
  },
  {
   "cell_type": "code",
   "execution_count": 21,
   "id": "8d0a24eb",
   "metadata": {},
   "outputs": [
    {
     "data": {
      "text/plain": [
       "65"
      ]
     },
     "execution_count": 21,
     "metadata": {},
     "output_type": "execute_result"
    }
   ],
   "source": [
    "ord('A')"
   ]
  },
  {
   "cell_type": "code",
   "execution_count": 22,
   "id": "c1519a06",
   "metadata": {},
   "outputs": [
    {
     "data": {
      "text/plain": [
       "90"
      ]
     },
     "execution_count": 22,
     "metadata": {},
     "output_type": "execute_result"
    }
   ],
   "source": [
    "ord('Z')"
   ]
  },
  {
   "cell_type": "code",
   "execution_count": 24,
   "id": "fdc449ee",
   "metadata": {},
   "outputs": [],
   "source": [
    "score = [[0]*4 for i in range(len(page))]"
   ]
  },
  {
   "cell_type": "code",
   "execution_count": 25,
   "id": "1c0a44ca",
   "metadata": {},
   "outputs": [
    {
     "data": {
      "text/plain": [
       "[[0, 0, 0, 0], [0, 0, 0, 0], [0, 0, 0, 0]]"
      ]
     },
     "execution_count": 25,
     "metadata": {},
     "output_type": "execute_result"
    }
   ],
   "source": [
    "score"
   ]
  },
  {
   "cell_type": "code",
   "execution_count": null,
   "id": "26510bca",
   "metadata": {},
   "outputs": [],
   "source": [
    "#기본 점수\n",
    "for i in range(len(page)):\n",
    "    page"
   ]
  }
 ],
 "metadata": {
  "kernelspec": {
   "display_name": "Python 3",
   "language": "python",
   "name": "python3"
  },
  "language_info": {
   "codemirror_mode": {
    "name": "ipython",
    "version": 3
   },
   "file_extension": ".py",
   "mimetype": "text/x-python",
   "name": "python",
   "nbconvert_exporter": "python",
   "pygments_lexer": "ipython3",
   "version": "3.8.8"
  }
 },
 "nbformat": 4,
 "nbformat_minor": 5
}
