{
 "cells": [
  {
   "cell_type": "code",
   "execution_count": 5,
   "id": "3edf11a4",
   "metadata": {},
   "outputs": [],
   "source": [
    "n=3\n",
    "computers=[[1, 1, 0], [1, 1, 0], [0, 0, 1]]\n",
    "count=0\n",
    "t=False"
   ]
  },
  {
   "cell_type": "code",
   "execution_count": 2,
   "id": "1d480881",
   "metadata": {},
   "outputs": [],
   "source": [
    "def dfs(i):\n",
    "    global t\n",
    "    for j in range(n):\n",
    "        if computers[i][j]==1:\n",
    "            computers[i][j]=0\n",
    "            computers[j][i]=0\n",
    "            dfs(j)\n",
    "            t=True"
   ]
  },
  {
   "cell_type": "code",
   "execution_count": 4,
   "id": "3d42bed1",
   "metadata": {},
   "outputs": [
    {
     "name": "stdout",
     "output_type": "stream",
     "text": [
      "1\n"
     ]
    }
   ],
   "source": [
    "for i in range(n):\n",
    "    t=False\n",
    "    dfs(i)\n",
    "    if t:\n",
    "        count +=1\n",
    "print(count)"
   ]
  },
  {
   "cell_type": "code",
   "execution_count": null,
   "id": "fcf608fc",
   "metadata": {},
   "outputs": [],
   "source": []
  },
  {
   "cell_type": "code",
   "execution_count": null,
   "id": "3d17f1d9",
   "metadata": {},
   "outputs": [],
   "source": [
    "## 제출"
   ]
  },
  {
   "cell_type": "code",
   "execution_count": 50,
   "id": "a8f1e9b5",
   "metadata": {},
   "outputs": [],
   "source": [
    "t=False\n",
    "\n",
    "def solution(n, computers):\n",
    "    global t\n",
    "    \n",
    "    def dfs(i):\n",
    "        global t\n",
    "        for j in range(n):\n",
    "            if computers[i][j]==1:\n",
    "                computers[i][j]=0\n",
    "                computers[j][i]=0\n",
    "                dfs(j)\n",
    "                t=True\n",
    "    \n",
    "    count=0\n",
    "    for i in range(n):\n",
    "        t=False\n",
    "        dfs(i)\n",
    "        if t:\n",
    "            count +=1\n",
    "            \n",
    "    return count"
   ]
  },
  {
   "cell_type": "code",
   "execution_count": 51,
   "id": "742687d8",
   "metadata": {},
   "outputs": [
    {
     "data": {
      "text/plain": [
       "1"
      ]
     },
     "execution_count": 51,
     "metadata": {},
     "output_type": "execute_result"
    }
   ],
   "source": [
    "n=3\n",
    "computers=[[1, 1, 0], [1, 1, 1], [0, 1, 1]]\n",
    "solution(n, computers)"
   ]
  },
  {
   "cell_type": "code",
   "execution_count": null,
   "id": "8a492e28",
   "metadata": {},
   "outputs": [],
   "source": []
  }
 ],
 "metadata": {
  "kernelspec": {
   "display_name": "Python 3",
   "language": "python",
   "name": "python3"
  },
  "language_info": {
   "codemirror_mode": {
    "name": "ipython",
    "version": 3
   },
   "file_extension": ".py",
   "mimetype": "text/x-python",
   "name": "python",
   "nbconvert_exporter": "python",
   "pygments_lexer": "ipython3",
   "version": "3.8.8"
  }
 },
 "nbformat": 4,
 "nbformat_minor": 5
}
