{
 "cells": [
  {
   "cell_type": "code",
   "execution_count": 101,
   "id": "4f14d1e7",
   "metadata": {},
   "outputs": [],
   "source": [
    "money=[0,5,2,3,0]"
   ]
  },
  {
   "cell_type": "code",
   "execution_count": 102,
   "id": "0b284e0d",
   "metadata": {},
   "outputs": [],
   "source": [
    "li=[0]*len(money)"
   ]
  },
  {
   "cell_type": "code",
   "execution_count": 103,
   "id": "d506cfad",
   "metadata": {},
   "outputs": [],
   "source": [
    "li[0],li[1]=money[0],money[1]\n",
    "li[2]=li[0]+money[2]\n",
    "\n",
    "if len(money)==3:\n",
    "    print(max(money))\n",
    "\n",
    "for i in range(3,len(money)-1):\n",
    "    li[i]=max(li[i-2],li[i-3])+money[i]\n",
    "max_val=li[len(money)-2]\n",
    "\n",
    "li[0]=0\n",
    "li[2]=li[0]+money[2]\n",
    "\n",
    "for i in range(3,len(money)):\n",
    "    li[i]=max(li[i-2],li[i-3])+money[i]"
   ]
  },
  {
   "cell_type": "code",
   "execution_count": 104,
   "id": "2df3fcac",
   "metadata": {},
   "outputs": [
    {
     "data": {
      "text/plain": [
       "8"
      ]
     },
     "execution_count": 104,
     "metadata": {},
     "output_type": "execute_result"
    }
   ],
   "source": [
    "max(li[len(money)-1],max_val)"
   ]
  },
  {
   "cell_type": "code",
   "execution_count": 105,
   "id": "5b4432a9",
   "metadata": {},
   "outputs": [
    {
     "data": {
      "text/plain": [
       "[0, 5, 2, 8, 5]"
      ]
     },
     "execution_count": 105,
     "metadata": {},
     "output_type": "execute_result"
    }
   ],
   "source": [
    "li"
   ]
  },
  {
   "cell_type": "code",
   "execution_count": null,
   "id": "f7a2b004",
   "metadata": {},
   "outputs": [],
   "source": []
  }
 ],
 "metadata": {
  "kernelspec": {
   "display_name": "Python 3",
   "language": "python",
   "name": "python3"
  },
  "language_info": {
   "codemirror_mode": {
    "name": "ipython",
    "version": 3
   },
   "file_extension": ".py",
   "mimetype": "text/x-python",
   "name": "python",
   "nbconvert_exporter": "python",
   "pygments_lexer": "ipython3",
   "version": "3.8.8"
  }
 },
 "nbformat": 4,
 "nbformat_minor": 5
}
