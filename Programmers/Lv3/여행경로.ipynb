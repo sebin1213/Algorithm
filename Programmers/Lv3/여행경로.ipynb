{
 "cells": [
  {
   "cell_type": "code",
   "execution_count": 169,
   "id": "eb34261b",
   "metadata": {},
   "outputs": [],
   "source": [
    "answer=[]\n",
    "def solution(tickets):\n",
    "    tickets.sort()\n",
    "    def dfs(v):\n",
    "        global answer\n",
    "        if len(li)==n and len(answer)==0:\n",
    "            answer = li[:]\n",
    "            return\n",
    "\n",
    "        for i in range(len(tickets)):\n",
    "            if tickets[i][0] == v and visited[i]==0:\n",
    "\n",
    "                s = tickets[i][1]\n",
    "\n",
    "                li.append(s)\n",
    "                visited[i]=1\n",
    "\n",
    "                dfs(s)\n",
    "\n",
    "                li.pop()\n",
    "                visited[i]=0\n",
    "\n",
    "    li=[]\n",
    "    li.append('ICN')\n",
    "    n=len(tickets)+1\n",
    "    visited = [0]*n\n",
    "    dfs('ICN')\n",
    "    return answer"
   ]
  },
  {
   "cell_type": "code",
   "execution_count": null,
   "id": "8b39e014",
   "metadata": {},
   "outputs": [],
   "source": []
  }
 ],
 "metadata": {
  "kernelspec": {
   "display_name": "Python 3",
   "language": "python",
   "name": "python3"
  },
  "language_info": {
   "codemirror_mode": {
    "name": "ipython",
    "version": 3
   },
   "file_extension": ".py",
   "mimetype": "text/x-python",
   "name": "python",
   "nbconvert_exporter": "python",
   "pygments_lexer": "ipython3",
   "version": "3.8.8"
  }
 },
 "nbformat": 4,
 "nbformat_minor": 5
}
