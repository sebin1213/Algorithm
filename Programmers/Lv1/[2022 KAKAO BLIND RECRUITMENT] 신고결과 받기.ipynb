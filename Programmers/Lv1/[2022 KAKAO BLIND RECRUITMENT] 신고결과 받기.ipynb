{
 "cells": [
  {
   "cell_type": "code",
   "execution_count": 111,
   "id": "a2d9dbd9",
   "metadata": {},
   "outputs": [],
   "source": [
    "id_list=[\"muzi\", \"frodo\", \"apeach\", \"neo\"]\n",
    "report=[\"apeach frodo\",\"muzi frodo\",\"apeach frodo\",\"frodo neo\",\"muzi neo\",\"apeach muzi\"]\n",
    "k = 2"
   ]
  },
  {
   "cell_type": "code",
   "execution_count": null,
   "id": "3b9bad5d",
   "metadata": {},
   "outputs": [],
   "source": [
    "def solution(id_list, report, k):\n",
    "    dict_id = dict()\n",
    "    id_list_dict = dict()\n",
    "    report = list(set(report))\n",
    "    for i in id_list:\n",
    "        dict_id[i]=0\n",
    "        id_list_dict[i]=[]\n",
    "\n",
    "    count = [0]*len(id_list)\n",
    "\n",
    "    for i in report:\n",
    "        idx =i.split()[0]\n",
    "        s = i.split()[1]\n",
    "        dict_id[s]+=1\n",
    "        id_list_dict[idx]+=[s]\n",
    "\n",
    "    for index,(key,elem) in enumerate(id_list_dict.items()):\n",
    "        for i in range(len(elem)):\n",
    "            if dict_id[elem[i]]>=k:\n",
    "                count[index]+=1\n",
    "    return count"
   ]
  }
 ],
 "metadata": {
  "kernelspec": {
   "display_name": "Python 3",
   "language": "python",
   "name": "python3"
  },
  "language_info": {
   "codemirror_mode": {
    "name": "ipython",
    "version": 3
   },
   "file_extension": ".py",
   "mimetype": "text/x-python",
   "name": "python",
   "nbconvert_exporter": "python",
   "pygments_lexer": "ipython3",
   "version": "3.8.8"
  }
 },
 "nbformat": 4,
 "nbformat_minor": 5
}
