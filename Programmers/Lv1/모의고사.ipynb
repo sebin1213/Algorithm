{
 "cells": [
  {
   "cell_type": "code",
   "execution_count": 165,
   "id": "0cd20610",
   "metadata": {},
   "outputs": [],
   "source": [
    "a= [1, 2, 3, 4, 5]\n",
    "b= [2, 1, 2, 3, 2, 4, 2, 5]\n",
    "c= [3, 3, 1, 1, 2, 2, 4, 4, 5, 5]\n",
    "\n",
    "answers=[3, 3, 5, 5,2,4]\n",
    "\n",
    "t,t2=[[0,-1],[0,-2],[0,-3]],[]\n",
    "for i in range(len(answers)):\n",
    "    if answers[i]==(a*2000)[i]:\n",
    "        t[0][0]+=1\n",
    "    elif answers[i]==(b*1250)[i]:\n",
    "        t[1][0]+=1\n",
    "    elif answers[i]==(c*1000)[i]:\n",
    "        t[2][0]+=1  \n",
    "t=sorted(t, reverse=True)"
   ]
  },
  {
   "cell_type": "code",
   "execution_count": 166,
   "id": "9e083e2b",
   "metadata": {},
   "outputs": [],
   "source": [
    "if t[0][0]!=0: t2.append(-(t[0][1]))\n",
    "if t[1][0]!=0: t2.append(-(t[1][1]))\n",
    "if t[2][0]!=0: t2.append(-(t[2][1]))"
   ]
  },
  {
   "cell_type": "code",
   "execution_count": 171,
   "id": "ebfabd6a",
   "metadata": {},
   "outputs": [
    {
     "data": {
      "text/plain": [
       "[[2, -2], [2, -3], [0, -1]]"
      ]
     },
     "execution_count": 171,
     "metadata": {},
     "output_type": "execute_result"
    }
   ],
   "source": [
    "t[0][0]"
   ]
  },
  {
   "cell_type": "code",
   "execution_count": 172,
   "id": "2ece4300",
   "metadata": {},
   "outputs": [
    {
     "data": {
      "text/plain": [
       "[2, 3]"
      ]
     },
     "execution_count": 172,
     "metadata": {},
     "output_type": "execute_result"
    }
   ],
   "source": [
    "t2"
   ]
  },
  {
   "cell_type": "code",
   "execution_count": null,
   "id": "d1b77018",
   "metadata": {},
   "outputs": [],
   "source": [
    "t2"
   ]
  },
  {
   "cell_type": "code",
   "execution_count": 168,
   "id": "aaffee1d",
   "metadata": {},
   "outputs": [],
   "source": [
    "a= [1, 2, 3, 4, 5]*2000\n",
    "b= [2, 1, 2, 3, 2, 4, 2, 5]*1250\n",
    "c= [3, 3, 1, 1, 2, 2, 4, 4, 5, 5]*1000\n",
    "def solution(answers):\n",
    "    t,t2=[[0,-1],[0,-2],[0,-3]],[]\n",
    "    for i in range(len(answers)):\n",
    "        if answers[i]==a[i]:\n",
    "            t[0][0]+=1\n",
    "        if answers[i]==b[i]:\n",
    "            t[1][0]+=1\n",
    "        if answers[i]==c[i]:\n",
    "            t[2][0]+=1  \n",
    "    t=sorted(t, reverse=True)\n",
    "    if t[0][0]!=0: t2.append(-t[0][1])\n",
    "    if t[1][0]!=0: t2.append(-t[1][1])\n",
    "    if t[2][0]!=0: t2.append(-t[2][1])\n",
    "    return t2"
   ]
  },
  {
   "cell_type": "code",
   "execution_count": 169,
   "id": "d1be36f7",
   "metadata": {},
   "outputs": [
    {
     "data": {
      "text/plain": [
       "[1, 3, 2]"
      ]
     },
     "execution_count": 169,
     "metadata": {},
     "output_type": "execute_result"
    }
   ],
   "source": [
    "answers=[3, 3, 1, 1, 1, 1, 2, 3, 4, 5]\n",
    "solution(answers)"
   ]
  },
  {
   "cell_type": "code",
   "execution_count": 187,
   "id": "5ac95885",
   "metadata": {},
   "outputs": [],
   "source": [
    "a= [1, 2, 3, 4, 5]*2000\n",
    "b= [2, 1, 2, 3, 2, 4, 2, 5]*1250\n",
    "c= [3, 3, 1, 1, 2, 2, 4, 4, 5, 5]*1000\n",
    "def solution(answers):\n",
    "    t,t2=[[0,-1],[0,-2],[0,-3]],[]\n",
    "    for i in range(len(answers)):\n",
    "        if answers[i]==a[i]:\n",
    "            t[0][0]+=1\n",
    "        if answers[i]==b[i]:\n",
    "            t[1][0]+=1\n",
    "        if answers[i]==c[i]:\n",
    "            t[2][0]+=1  \n",
    "    t=sorted(t, reverse=True)\n",
    "    for i in range(3):\n",
    "        if (t[0][0]>0) | (t \n",
    "                          [i][0]==t[0][0]): t2.append(-t[i][1])\n",
    "        else : return 0\n",
    "    return t2"
   ]
  },
  {
   "cell_type": "code",
   "execution_count": 188,
   "id": "0cb818eb",
   "metadata": {},
   "outputs": [
    {
     "data": {
      "text/plain": [
       "[1, 2, 3]"
      ]
     },
     "execution_count": 188,
     "metadata": {},
     "output_type": "execute_result"
    }
   ],
   "source": [
    "answers=[1,2,3,4,5]\n",
    "solution(answers)"
   ]
  },
  {
   "cell_type": "code",
   "execution_count": 178,
   "id": "2450fb3f",
   "metadata": {},
   "outputs": [
    {
     "name": "stdout",
     "output_type": "stream",
     "text": [
      "0\n",
      "1\n",
      "2\n"
     ]
    }
   ],
   "source": [
    "\n",
    "for i in range(3):\n",
    "    print(i)"
   ]
  },
  {
   "cell_type": "code",
   "execution_count": null,
   "id": "e2f08501",
   "metadata": {},
   "outputs": [],
   "source": []
  }
 ],
 "metadata": {
  "kernelspec": {
   "display_name": "Python 3",
   "language": "python",
   "name": "python3"
  },
  "language_info": {
   "codemirror_mode": {
    "name": "ipython",
    "version": 3
   },
   "file_extension": ".py",
   "mimetype": "text/x-python",
   "name": "python",
   "nbconvert_exporter": "python",
   "pygments_lexer": "ipython3",
   "version": "3.8.8"
  }
 },
 "nbformat": 4,
 "nbformat_minor": 5
}
