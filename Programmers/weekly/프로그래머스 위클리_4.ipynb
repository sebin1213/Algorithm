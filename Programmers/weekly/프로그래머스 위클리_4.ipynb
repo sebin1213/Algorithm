{
 "cells": [
  {
   "cell_type": "markdown",
   "id": "3a5681bd",
   "metadata": {},
   "source": [
    "https://programmers.co.kr/learn/courses/30/lessons/84325"
   ]
  },
  {
   "cell_type": "code",
   "execution_count": 98,
   "id": "5f159ca2",
   "metadata": {},
   "outputs": [],
   "source": [
    "def solution(table, languages, preference):\n",
    "    name=[]\n",
    "    for n in range(5):\n",
    "        all_num=0\n",
    "        table[n] = table[n].split(\" \")\n",
    "        name.append(table[n][0])\n",
    "        for i in range(5,0,-1):\n",
    "            for j in range(len(languages)):\n",
    "                if table[n][i]==languages[j]:\n",
    "                    all_num += (6-i)*preference[j]\n",
    "                    \n",
    "        table[n] = all_num\n",
    "\n",
    "    return min([name[i] for i, value in enumerate(table) if value == max(table)])"
   ]
  },
  {
   "cell_type": "code",
   "execution_count": 99,
   "id": "ce796102",
   "metadata": {},
   "outputs": [
    {
     "data": {
      "text/plain": [
       "'HARDWARE'"
      ]
     },
     "execution_count": 99,
     "metadata": {},
     "output_type": "execute_result"
    }
   ],
   "source": [
    "table=[\"SI JAVA JAVASCRIPT SQL PYTHON C#\", \"CONTENTS JAVASCRIPT JAVA PYTHON SQL C++\", \"HARDWARE C C++ PYTHON JAVA JAVASCRIPT\", \"PORTAL JAVA JAVASCRIPT PYTHON KOTLIN PHP\", \"GAME C++ C# JAVASCRIPT C JAVA\"]\n",
    "languages=[\"PYTHON\", \"C++\", \"SQL\"]\n",
    "preference=[7, 5, 5]\n",
    "solution(table, languages, preference)"
   ]
  }
 ],
 "metadata": {
  "kernelspec": {
   "display_name": "Python 3",
   "language": "python",
   "name": "python3"
  },
  "language_info": {
   "codemirror_mode": {
    "name": "ipython",
    "version": 3
   },
   "file_extension": ".py",
   "mimetype": "text/x-python",
   "name": "python",
   "nbconvert_exporter": "python",
   "pygments_lexer": "ipython3",
   "version": "3.8.8"
  }
 },
 "nbformat": 4,
 "nbformat_minor": 5
}
