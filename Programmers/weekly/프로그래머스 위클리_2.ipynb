{
 "cells": [
  {
   "cell_type": "code",
   "execution_count": 18,
   "id": "c8a6e1c3",
   "metadata": {},
   "outputs": [],
   "source": [
    "import numpy as np"
   ]
  },
  {
   "cell_type": "code",
   "execution_count": 1,
   "id": "b9c7049a",
   "metadata": {},
   "outputs": [],
   "source": [
    "def solution(scores):\n",
    "    arr_sc = np.array(scores)\n",
    "    sum_sc = arr_sc.sum(axis=0)\n",
    "\n",
    "    score = \"\"\n",
    "\n",
    "    for i in range(len(scores)):\n",
    "        if (scores[i][i]==max(arr_sc[:,i])) & (sum(arr_sc[:,i] == max(arr_sc[:,i])) == 1):\n",
    "            score_mean = (sum_sc[i]-scores[i][i])/(len(scores)-1)\n",
    "        elif (scores[i][i]==min(arr_sc[:,i])) & (sum(arr_sc[:,i] == min(arr_sc[:,i])) == 1):\n",
    "            score_mean = (sum_sc[i]-scores[i][i])/(len(scores)-1)\n",
    "        else:\n",
    "            score_mean = sum_sc[i]/len(scores)\n",
    "\n",
    "        score += \"A\" if 90 <= score_mean else \"B\" if 80 <= score_mean else \"C\" if 70 <= score_mean else \"D\" if 50 <= score_mean else \"F\"\n",
    "\n",
    "    return score"
   ]
  }
 ],
 "metadata": {
  "kernelspec": {
   "display_name": "Python 3",
   "language": "python",
   "name": "python3"
  },
  "language_info": {
   "codemirror_mode": {
    "name": "ipython",
    "version": 3
   },
   "file_extension": ".py",
   "mimetype": "text/x-python",
   "name": "python",
   "nbconvert_exporter": "python",
   "pygments_lexer": "ipython3",
   "version": "3.8.8"
  }
 },
 "nbformat": 4,
 "nbformat_minor": 5
}
