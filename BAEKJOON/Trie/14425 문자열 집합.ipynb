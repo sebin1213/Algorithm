{
 "cells": [
  {
   "cell_type": "code",
   "execution_count": null,
   "id": "332d34a2",
   "metadata": {},
   "outputs": [],
   "source": [
    "## 최종 코드"
   ]
  },
  {
   "cell_type": "code",
   "execution_count": null,
   "id": "598aa742",
   "metadata": {},
   "outputs": [],
   "source": [
    "n, m = map(int,input().split())\n",
    "\n",
    "sarray={}\n",
    "count=0\n",
    "carray=[]\n",
    "for i in range(n):\n",
    "    s=input()\n",
    "    sarray[s]=0\n",
    "for j in range(m):\n",
    "    s=input()\n",
    "    carray.append(s)\n",
    "for j in range(len(carray)):\n",
    "    if carray[j] in sarray:\n",
    "        count=count+1\n",
    "    \n",
    "print(count)"
   ]
  },
  {
   "cell_type": "code",
   "execution_count": null,
   "id": "ec02a768",
   "metadata": {},
   "outputs": [],
   "source": [
    "## 시간 약간 개선"
   ]
  },
  {
   "cell_type": "code",
   "execution_count": 12,
   "id": "56b0c77b",
   "metadata": {},
   "outputs": [
    {
     "name": "stdout",
     "output_type": "stream",
     "text": [
      "1 1\n",
      "ba\n",
      "ba\n",
      "1\n"
     ]
    }
   ],
   "source": [
    "import sys\n",
    "\n",
    "n, m = map(int,sys.stdin.readline().split())\n",
    "words = [input() for _ in range(n)]\n",
    "c = 0\n",
    "for _ in range(m):\n",
    "    word = input()\n",
    "    if word in words:\n",
    "        c += 1\n",
    "print(c)"
   ]
  },
  {
   "cell_type": "code",
   "execution_count": null,
   "id": "104bce77",
   "metadata": {},
   "outputs": [],
   "source": [
    "## Trie 이용"
   ]
  },
  {
   "cell_type": "code",
   "execution_count": 1,
   "id": "c6d43709",
   "metadata": {},
   "outputs": [],
   "source": [
    "def add(words):\n",
    "    node = head\n",
    "    for word in words:\n",
    "        if word not in node:\n",
    "            node[word]={}\n",
    "        node = node[word]\n",
    "    node['end'] = True"
   ]
  },
  {
   "cell_type": "code",
   "execution_count": 5,
   "id": "77bc3cec",
   "metadata": {},
   "outputs": [],
   "source": [
    "def search(words):\n",
    "    node=head\n",
    "    for word in words:\n",
    "        if word not in node:\n",
    "            return False\n",
    "        node = node[word]\n",
    "    if 'end' in node:\n",
    "        return True"
   ]
  },
  {
   "cell_type": "code",
   "execution_count": 2,
   "id": "0c0e689e",
   "metadata": {},
   "outputs": [
    {
     "name": "stdout",
     "output_type": "stream",
     "text": [
      "5 11\n",
      "baekjoononlinejudge\n",
      "startlink\n",
      "codeplus\n",
      "sundaycoding\n",
      "codingsh\n"
     ]
    }
   ],
   "source": [
    "n, m = map(int,input().split())\n",
    "head={}\n",
    "\n",
    "for i in range(n):\n",
    "    words = input()\n",
    "    add(words)\n",
    "    \n",
    "n=0\n",
    "for i in range(m):\n",
    "    words = input()\n",
    "    if search(words)==True:\n",
    "        n+=1\n",
    "print(n)"
   ]
  }
 ],
 "metadata": {
  "kernelspec": {
   "display_name": "Python 3",
   "language": "python",
   "name": "python3"
  },
  "language_info": {
   "codemirror_mode": {
    "name": "ipython",
    "version": 3
   },
   "file_extension": ".py",
   "mimetype": "text/x-python",
   "name": "python",
   "nbconvert_exporter": "python",
   "pygments_lexer": "ipython3",
   "version": "3.8.8"
  }
 },
 "nbformat": 4,
 "nbformat_minor": 5
}
