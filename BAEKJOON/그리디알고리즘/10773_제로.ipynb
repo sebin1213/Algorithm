{
 "cells": [
  {
   "cell_type": "code",
   "execution_count": 3,
   "id": "f13a7453",
   "metadata": {},
   "outputs": [
    {
     "name": "stdout",
     "output_type": "stream",
     "text": [
      "4\n",
      "3\n",
      "0\n",
      "4\n",
      "0\n"
     ]
    }
   ],
   "source": [
    "from sys import stdin\n",
    "n = int(stdin.readline())\n",
    "li =[]\n",
    "for i in range(n):\n",
    "    a = int(stdin.readline())\n",
    "        \n",
    "    if a==0:\n",
    "        li = li[:-1]\n",
    "    else:\n",
    "        li.append(a)\n",
    "print(sum(li))"
   ]
  }
 ],
 "metadata": {
  "kernelspec": {
   "display_name": "Python 3",
   "language": "python",
   "name": "python3"
  },
  "language_info": {
   "codemirror_mode": {
    "name": "ipython",
    "version": 3
   },
   "file_extension": ".py",
   "mimetype": "text/x-python",
   "name": "python",
   "nbconvert_exporter": "python",
   "pygments_lexer": "ipython3",
   "version": "3.8.8"
  }
 },
 "nbformat": 4,
 "nbformat_minor": 5
}
