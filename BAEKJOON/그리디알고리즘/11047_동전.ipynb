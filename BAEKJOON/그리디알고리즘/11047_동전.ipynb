{
 "cells": [
  {
   "cell_type": "code",
   "execution_count": 38,
   "id": "c58f4c66",
   "metadata": {},
   "outputs": [
    {
     "name": "stdout",
     "output_type": "stream",
     "text": [
      "2 2\n",
      "1\n",
      "2\n",
      "2\n"
     ]
    }
   ],
   "source": [
    "coin = []\n",
    "num = 0\n",
    "\n",
    "n,k = map(int,input().split())\n",
    "\n",
    "for i in range(n):\n",
    "    a = int(input())\n",
    "    if a <= k:\n",
    "        max_index = i\n",
    "        coin.append(a)\n",
    "        \n",
    "for i in range(max_index,-1,-1):\n",
    "    if k / coin[i] >= 1:\n",
    "        num += (int(k / coin[i]))\n",
    "        k = (k % coin[i])\n",
    "\n",
    "print(num)"
   ]
  }
 ],
 "metadata": {
  "kernelspec": {
   "display_name": "Python 3",
   "language": "python",
   "name": "python3"
  },
  "language_info": {
   "codemirror_mode": {
    "name": "ipython",
    "version": 3
   },
   "file_extension": ".py",
   "mimetype": "text/x-python",
   "name": "python",
   "nbconvert_exporter": "python",
   "pygments_lexer": "ipython3",
   "version": "3.8.8"
  }
 },
 "nbformat": 4,
 "nbformat_minor": 5
}
