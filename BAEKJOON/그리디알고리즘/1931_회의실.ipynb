{
 "cells": [
  {
   "cell_type": "code",
   "execution_count": 55,
   "id": "ca69c48d",
   "metadata": {},
   "outputs": [],
   "source": [
    "li = [[4, 1], [5, 3], [6, 0], [7, 5], [8, 3], [9, 5], [10, 6], [11, 8], [12, 8], [13, 2], [14, 12]]"
   ]
  },
  {
   "cell_type": "code",
   "execution_count": 50,
   "id": "a97bb444",
   "metadata": {},
   "outputs": [],
   "source": [
    "li = [[1,1],[1,1],[1,1]]"
   ]
  },
  {
   "cell_type": "code",
   "execution_count": 58,
   "id": "d64430b0",
   "metadata": {},
   "outputs": [
    {
     "name": "stdout",
     "output_type": "stream",
     "text": [
      "[4, 1]\n",
      "[7, 5]\n",
      "[11, 8]\n",
      "[14, 12]\n",
      "4\n"
     ]
    }
   ],
   "source": [
    "n = int(input())\n",
    "\n",
    "count = 0\n",
    "li=[]\n",
    "\n",
    "for i in range(n):\n",
    "    s, e= map(int,input().split())\n",
    "    li.append([e,s])\n",
    "\n",
    "li.sort()\n",
    "    \n",
    "min_val = 0\n",
    "count = 0\n",
    "\n",
    "for i in li:\n",
    "    if min_val <= i[1]:\n",
    "        min_val = i[0]\n",
    "        count+=1\n",
    "\n",
    "print(count)"
   ]
  }
 ],
 "metadata": {
  "kernelspec": {
   "display_name": "Python 3",
   "language": "python",
   "name": "python3"
  },
  "language_info": {
   "codemirror_mode": {
    "name": "ipython",
    "version": 3
   },
   "file_extension": ".py",
   "mimetype": "text/x-python",
   "name": "python",
   "nbconvert_exporter": "python",
   "pygments_lexer": "ipython3",
   "version": "3.8.8"
  }
 },
 "nbformat": 4,
 "nbformat_minor": 5
}
