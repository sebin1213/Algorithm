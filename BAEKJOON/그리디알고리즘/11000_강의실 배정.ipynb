{
 "cells": [
  {
   "cell_type": "code",
   "execution_count": 54,
   "id": "42dce9de",
   "metadata": {},
   "outputs": [
    {
     "name": "stdout",
     "output_type": "stream",
     "text": [
      "3\n",
      "1 3\n",
      "2 4\n",
      "3 5\n",
      "2\n"
     ]
    }
   ],
   "source": [
    "import heapq\n",
    "n = int(input())\n",
    "\n",
    "q = []\n",
    "\n",
    "for i in range(n):\n",
    "    q.append(list(map(int,input().split())))\n",
    "\n",
    "q.sort()\n",
    "\n",
    "r = []\n",
    "heapq.heappush(r, q[0][1])\n",
    "\n",
    "for i in range(1, n):\n",
    "    if q[i][0] < r[0]: \n",
    "        heapq.heappush(r, q[i][1]) \n",
    "    else:\n",
    "        heapq.heappop(r)\n",
    "        heapq.heappush(r, q[i][1])\n",
    "\n",
    "print(len(r))"
   ]
  },
  {
   "cell_type": "code",
   "execution_count": null,
   "id": "35939486",
   "metadata": {},
   "outputs": [],
   "source": []
  }
 ],
 "metadata": {
  "kernelspec": {
   "display_name": "Python 3",
   "language": "python",
   "name": "python3"
  },
  "language_info": {
   "codemirror_mode": {
    "name": "ipython",
    "version": 3
   },
   "file_extension": ".py",
   "mimetype": "text/x-python",
   "name": "python",
   "nbconvert_exporter": "python",
   "pygments_lexer": "ipython3",
   "version": "3.8.8"
  }
 },
 "nbformat": 4,
 "nbformat_minor": 5
}
