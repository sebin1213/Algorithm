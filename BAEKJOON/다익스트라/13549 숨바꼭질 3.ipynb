{
 "cells": [
  {
   "cell_type": "code",
   "execution_count": null,
   "id": "6a03861d",
   "metadata": {},
   "outputs": [],
   "source": [
    "# dp[x]= min(dp[x-1],dp[x/2],dp[x+1])"
   ]
  },
  {
   "cell_type": "code",
   "execution_count": 44,
   "id": "d40aef0a",
   "metadata": {},
   "outputs": [
    {
     "name": "stdout",
     "output_type": "stream",
     "text": [
      "0 10\n",
      "2\n"
     ]
    }
   ],
   "source": [
    "from collections import deque\n",
    "\n",
    "q = deque()\n",
    "\n",
    "a,b = map(int,input().split())\n",
    "\n",
    "q.append(a)\n",
    "\n",
    "visited = [0]*100001\n",
    "visited [a] = 1\n",
    "li = [0]*100001\n",
    "\n",
    "while q:\n",
    "    v = q.popleft()\n",
    "    \n",
    "    if v * 2 < 100001 and visited[v*2]==0:\n",
    "        visited[v*2]=1\n",
    "        li[v*2] = li[v]\n",
    "        q.append(v*2)\n",
    "    if 0 <= v-1 and visited[v-1]==0:\n",
    "        visited[v-1]=1\n",
    "        li[v-1] = li[v]+1    \n",
    "        q.append(v-1)    \n",
    "    if v + 1 < 100001 and visited[v+1]==0:\n",
    "        visited[v+1]=1\n",
    "        li[v+1] = li[v]+1\n",
    "        q.append(v+1)\n",
    "\n",
    "print(li[b])"
   ]
  },
  {
   "cell_type": "code",
   "execution_count": null,
   "id": "40febb74",
   "metadata": {},
   "outputs": [],
   "source": []
  }
 ],
 "metadata": {
  "kernelspec": {
   "display_name": "Python 3",
   "language": "python",
   "name": "python3"
  },
  "language_info": {
   "codemirror_mode": {
    "name": "ipython",
    "version": 3
   },
   "file_extension": ".py",
   "mimetype": "text/x-python",
   "name": "python",
   "nbconvert_exporter": "python",
   "pygments_lexer": "ipython3",
   "version": "3.8.8"
  }
 },
 "nbformat": 4,
 "nbformat_minor": 5
}
