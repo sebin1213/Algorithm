{
 "cells": [
  {
   "cell_type": "code",
   "execution_count": null,
   "id": "8128e553",
   "metadata": {},
   "outputs": [],
   "source": [
    "n,b= map(int,input().split())\n",
    "\n",
    "list_row=[]\n",
    "li=[]\n",
    "inv = [[]*n for i in range(n)]\n",
    "for _ in range(n):\n",
    "    x = list(map(int,input().split()))\n",
    "    for j in range(n):\n",
    "        inv[j].append(x[j])\n",
    "    li.append(x)"
   ]
  },
  {
   "cell_type": "code",
   "execution_count": null,
   "id": "bcab269d",
   "metadata": {},
   "outputs": [],
   "source": [
    "for _ in range(b-1):\n",
    "    inv_li = [[0]*n for i in range(n)]\n",
    "    for i in range(n):\n",
    "        for j in range(n):\n",
    "            for k in range(n):\n",
    "                inv_li[i][j] += li[i][k]*inv[j][k]\n",
    "    for i in range(n):\n",
    "        for j in range(n):\n",
    "            inv[i][j]=inv_li[j][i]\n",
    "\n",
    "for i in range(n):\n",
    "    for j in range(n):\n",
    "        inv_li[i][j] %= 1000\n",
    "    print(*inv_li[i])"
   ]
  },
  {
   "cell_type": "code",
   "execution_count": null,
   "id": "b24e4407",
   "metadata": {},
   "outputs": [],
   "source": [
    "### 분할정복으로 해결"
   ]
  },
  {
   "cell_type": "code",
   "execution_count": 54,
   "id": "25b849d1",
   "metadata": {},
   "outputs": [],
   "source": [
    "def matrix(li,inv):\n",
    "    inv_li = [[0]*n for i in range(n)]\n",
    "    for i in range(n):\n",
    "        for j in range(n):\n",
    "            for k in range(n):\n",
    "                inv_li[i][j] += li[i][k]*inv[k][j]\n",
    "                \n",
    "    return inv_li"
   ]
  },
  {
   "cell_type": "code",
   "execution_count": 55,
   "id": "a0b4a316",
   "metadata": {},
   "outputs": [
    {
     "name": "stdout",
     "output_type": "stream",
     "text": [
      "3 3\n",
      "1 2 3\n",
      "4 5 6\n",
      "7 8 9\n"
     ]
    }
   ],
   "source": [
    "n,b= map(int,input().split())\n",
    "\n",
    "li=[]\n",
    "for _ in range(n):\n",
    "    li.append(list(map(int,input().split())))"
   ]
  },
  {
   "cell_type": "code",
   "execution_count": 56,
   "id": "739a4932",
   "metadata": {},
   "outputs": [],
   "source": [
    "b = bin(b)[2:] # 2진법으로 변환\n",
    "\n",
    "#단위 행렬\n",
    "identity_matrix = [[1 if i == j else 0 for i in range(n)] for j in range(n)]\n",
    "\n",
    "#2진법 자릿수 만큼 제곱 & 제곱한 행렬 끼리 곱해줌\n",
    "result = identity_matrix[:]\n",
    "for i in range(len(b)):\n",
    "    if b[-i-1] == '1':\n",
    "        temp = li[:]\n",
    "        while i != 0:\n",
    "            temp = matrix(temp, temp)\n",
    "            i -= 1\n",
    "        result = matrix(result, temp) # 이전에 저장한 1과 곱해줌"
   ]
  },
  {
   "cell_type": "code",
   "execution_count": 57,
   "id": "879fcf04",
   "metadata": {},
   "outputs": [
    {
     "name": "stdout",
     "output_type": "stream",
     "text": [
      "468 576 684\n",
      "62 305 548\n",
      "656 34 412\n"
     ]
    }
   ],
   "source": [
    "for i in range(n):\n",
    "    for j in range(n):\n",
    "        result[i][j] %= 1000\n",
    "    print(*result[i])"
   ]
  },
  {
   "cell_type": "code",
   "execution_count": null,
   "id": "8a1ec381",
   "metadata": {},
   "outputs": [],
   "source": []
  }
 ],
 "metadata": {
  "kernelspec": {
   "display_name": "Python 3",
   "language": "python",
   "name": "python3"
  },
  "language_info": {
   "codemirror_mode": {
    "name": "ipython",
    "version": 3
   },
   "file_extension": ".py",
   "mimetype": "text/x-python",
   "name": "python",
   "nbconvert_exporter": "python",
   "pygments_lexer": "ipython3",
   "version": "3.8.8"
  }
 },
 "nbformat": 4,
 "nbformat_minor": 5
}
