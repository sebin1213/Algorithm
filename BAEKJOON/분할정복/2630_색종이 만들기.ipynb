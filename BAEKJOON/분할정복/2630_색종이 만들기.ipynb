{
 "cells": [
  {
   "cell_type": "code",
   "execution_count": null,
   "id": "88f8d7f7",
   "metadata": {},
   "outputs": [],
   "source": [
    "8\n",
    "1 1 0 0 0 0 1 1\n",
    "1 1 0 0 0 0 1 1\n",
    "0 0 0 0 1 1 0 0\n",
    "0 0 0 0 1 1 0 0\n",
    "1 0 0 0 1 1 1 1\n",
    "0 1 0 0 1 1 1 1\n",
    "0 0 1 1 1 1 1 1\n",
    "0 0 1 1 1 1 1 1"
   ]
  },
  {
   "cell_type": "code",
   "execution_count": 2,
   "id": "51363530",
   "metadata": {
    "scrolled": true
   },
   "outputs": [
    {
     "name": "stdout",
     "output_type": "stream",
     "text": [
      "8\n",
      "1 1 0 0 0 0 1 1\n",
      "1 1 0 0 0 0 1 1\n",
      "0 0 0 0 1 1 0 0\n",
      "0 0 0 0 1 1 0 0\n",
      "1 0 0 0 1 1 1 1\n",
      "0 1 0 0 1 1 1 1\n",
      "0 0 1 1 1 1 1 1\n",
      "0 0 1 1 1 1 1 1\n"
     ]
    }
   ],
   "source": [
    "n = int(input())\n",
    "li= []\n",
    "\n",
    "for i in range(n):\n",
    "    li.append(list(map(int,input().split())))"
   ]
  },
  {
   "cell_type": "code",
   "execution_count": 80,
   "id": "b8e0354a",
   "metadata": {},
   "outputs": [],
   "source": [
    "def cut_paper(num,paper):\n",
    "    global white\n",
    "    global blue\n",
    "    \n",
    "    sum_color=0\n",
    "    \n",
    "    for i in range(num):\n",
    "        sum_color +=sum(paper[i])\n",
    "    if sum_color==0:\n",
    "        white +=1\n",
    "    elif sum_color==(num*num):\n",
    "        blue +=1    \n",
    "    else:\n",
    "        cut_paper(num//2,[i[:num//2] for i in paper[:num//2]])\n",
    "        cut_paper(num//2,[i[num//2:] for i in paper[:num//2]])\n",
    "        cut_paper(num//2,[i[:num//2] for i in paper[num//2:]])\n",
    "        cut_paper(num//2,[i[num//2:] for i in paper[num//2:]])"
   ]
  },
  {
   "cell_type": "code",
   "execution_count": 81,
   "id": "a08d856e",
   "metadata": {},
   "outputs": [],
   "source": [
    "white =0\n",
    "blue =0\n",
    "cut_paper(n,li)"
   ]
  },
  {
   "cell_type": "code",
   "execution_count": 82,
   "id": "e9ff87ba",
   "metadata": {},
   "outputs": [
    {
     "name": "stdout",
     "output_type": "stream",
     "text": [
      "9\n",
      "7\n"
     ]
    }
   ],
   "source": [
    "print(white)\n",
    "print(blue)"
   ]
  },
  {
   "cell_type": "code",
   "execution_count": null,
   "id": "38d5d319",
   "metadata": {},
   "outputs": [],
   "source": []
  }
 ],
 "metadata": {
  "kernelspec": {
   "display_name": "Python 3",
   "language": "python",
   "name": "python3"
  },
  "language_info": {
   "codemirror_mode": {
    "name": "ipython",
    "version": 3
   },
   "file_extension": ".py",
   "mimetype": "text/x-python",
   "name": "python",
   "nbconvert_exporter": "python",
   "pygments_lexer": "ipython3",
   "version": "3.8.8"
  }
 },
 "nbformat": 4,
 "nbformat_minor": 5
}
