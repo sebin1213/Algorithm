{
 "cells": [
  {
   "cell_type": "code",
   "execution_count": 1,
   "id": "5980cffe",
   "metadata": {},
   "outputs": [
    {
     "name": "stdout",
     "output_type": "stream",
     "text": [
      "3\n",
      "3 4 5\n",
      "1 0 1 0\n"
     ]
    }
   ],
   "source": [
    "fun=['+','-','*','/']\n",
    "n = int(input())\n",
    "number = list(map(int,input().split()))\n",
    "fun_n = list(map(int,input().split()))"
   ]
  },
  {
   "cell_type": "code",
   "execution_count": 2,
   "id": "5c917613",
   "metadata": {},
   "outputs": [],
   "source": [
    "word = ''\n",
    "for i in range(4):\n",
    "    word += fun[i]*fun_n[i]"
   ]
  },
  {
   "cell_type": "code",
   "execution_count": 3,
   "id": "2a7bd7d2",
   "metadata": {},
   "outputs": [],
   "source": [
    "word = list(word)"
   ]
  },
  {
   "cell_type": "code",
   "execution_count": 40,
   "id": "c9e3e6ac",
   "metadata": {},
   "outputs": [],
   "source": [
    "from itertools import permutations\n",
    "\n",
    "word = list(permutations(word))"
   ]
  },
  {
   "cell_type": "code",
   "execution_count": 68,
   "id": "7ee3e53b",
   "metadata": {
    "scrolled": true
   },
   "outputs": [],
   "source": [
    "answer= [[] for x in range(len(word))]\n",
    "\n",
    "for j in range(len(word)):\n",
    "    answer[j].append(number[0])\n",
    "    for i in range(1,n):\n",
    "        val = str(answer[j][i-1])+ word[j][i-1] +str(number[i])\n",
    "        answer[j].append(eval(val))\n",
    "    answer[j] = eval(val)"
   ]
  },
  {
   "cell_type": "code",
   "execution_count": 70,
   "id": "664be9d6",
   "metadata": {},
   "outputs": [
    {
     "name": "stdout",
     "output_type": "stream",
     "text": [
      "35\n",
      "17\n"
     ]
    }
   ],
   "source": [
    "print(max(answer))\n",
    "print(min(answer))"
   ]
  },
  {
   "cell_type": "code",
   "execution_count": null,
   "id": "108870b6",
   "metadata": {},
   "outputs": [],
   "source": [
    "### 시간 초과 (숫자가 높은 애들부터 *우선순위...?)"
   ]
  },
  {
   "cell_type": "code",
   "execution_count": 17,
   "id": "2481e13c",
   "metadata": {},
   "outputs": [
    {
     "name": "stdout",
     "output_type": "stream",
     "text": [
      "2\n",
      "5 6\n",
      "0 0 1 0\n"
     ]
    }
   ],
   "source": [
    "fun=['+','-','*','/']\n",
    "n = int(input())\n",
    "number = list(map(int,input().split()))\n",
    "fun_n = list(map(int,input().split()))"
   ]
  },
  {
   "cell_type": "code",
   "execution_count": 18,
   "id": "cb4f1380",
   "metadata": {},
   "outputs": [],
   "source": [
    "word = ''\n",
    "for i in range(4):\n",
    "    word += fun[i]*fun_n[i]"
   ]
  },
  {
   "cell_type": "code",
   "execution_count": 19,
   "id": "98dcbf92",
   "metadata": {},
   "outputs": [],
   "source": [
    "def dfs(depth):\n",
    "    global b\n",
    "    global s\n",
    "    if depth ==(n-1):\n",
    "        m = number[0]\n",
    "        for i in range(n-1):\n",
    "            m = eval(str(m) + li[i] + str(number[i+1]))\n",
    "        b = max(b,m)\n",
    "        s = min(s,m)\n",
    "        return\n",
    "    \n",
    "    for i in range(n-1):\n",
    "        if visited[i]==0:\n",
    "            \n",
    "            visited[i]=1\n",
    "            li.append(word[i])\n",
    "            dfs(depth+1)\n",
    "            li.pop()\n",
    "            visited[i]=0\n",
    "\n",
    "    return "
   ]
  },
  {
   "cell_type": "code",
   "execution_count": 20,
   "id": "0c7c3205",
   "metadata": {},
   "outputs": [
    {
     "name": "stdout",
     "output_type": "stream",
     "text": [
      "30\n",
      "30\n"
     ]
    }
   ],
   "source": [
    "li=[]\n",
    "visited=[0]*n\n",
    "\n",
    "b = -1e9\n",
    "s = 1e9\n",
    "\n",
    "dfs(0)\n",
    "print(b)\n",
    "print(s)"
   ]
  },
  {
   "cell_type": "code",
   "execution_count": null,
   "id": "009e54e8",
   "metadata": {},
   "outputs": [],
   "source": [
    "### 또 시간초과.. 쓸모없는 계산 뺌"
   ]
  },
  {
   "cell_type": "code",
   "execution_count": null,
   "id": "3e57dd3e",
   "metadata": {},
   "outputs": [],
   "source": [
    "6\n",
    "1 2 3 4 5 6\n",
    "2 1 1 1"
   ]
  },
  {
   "cell_type": "code",
   "execution_count": null,
   "id": "7c89a7c5",
   "metadata": {
    "scrolled": true
   },
   "outputs": [
    {
     "name": "stdout",
     "output_type": "stream",
     "text": [
      "6\n"
     ]
    }
   ],
   "source": [
    "n = int(input())\n",
    "number = list(map(int,input().split()))\n",
    "fun_n = list(map(int,input().split()))"
   ]
  },
  {
   "cell_type": "code",
   "execution_count": 31,
   "id": "0e6e91b8",
   "metadata": {},
   "outputs": [],
   "source": [
    "def dfs(depth,total):\n",
    "    global b\n",
    "    global s\n",
    "    if depth ==(n-1):\n",
    "        b = max(b,total)\n",
    "        s = min(s,total)\n",
    "        return\n",
    "    \n",
    "    if fun_n[0]>0:\n",
    "        fun_n[0]-=1\n",
    "        dfs(depth+1,total+number[depth+1])\n",
    "        fun_n[0]+=1\n",
    "    if fun_n[1]>0:\n",
    "        fun_n[1]-=1\n",
    "        dfs(depth+1,total-number[depth+1])\n",
    "        fun_n[1]+=1\n",
    "\n",
    "    if fun_n[2]>0:\n",
    "        fun_n[2]-=1\n",
    "        dfs(depth+1,total*number[depth+1])\n",
    "        fun_n[2]+=1\n",
    "\n",
    "    if fun_n[3]>0:\n",
    "        fun_n[3]-=1\n",
    "        dfs(depth+1,int(total/number[depth+1]))\n",
    "        fun_n[3]+=1\n",
    "        \n",
    "    return "
   ]
  },
  {
   "cell_type": "code",
   "execution_count": 32,
   "id": "8f6c4f25",
   "metadata": {},
   "outputs": [
    {
     "name": "stdout",
     "output_type": "stream",
     "text": [
      "54\n",
      "-24\n"
     ]
    }
   ],
   "source": [
    "li=[]\n",
    "visited=[0]*n\n",
    "\n",
    "b = -1e9\n",
    "s = 1e9\n",
    "\n",
    "dfs(0,number[0],p,m,mu,d)\n",
    "print(b)\n",
    "print(s)"
   ]
  },
  {
   "cell_type": "code",
   "execution_count": null,
   "id": "70e2284e",
   "metadata": {},
   "outputs": [],
   "source": []
  },
  {
   "cell_type": "code",
   "execution_count": null,
   "id": "3437ec8e",
   "metadata": {},
   "outputs": [],
   "source": [
    "# 더 간단하게"
   ]
  },
  {
   "cell_type": "code",
   "execution_count": null,
   "id": "9ab15150",
   "metadata": {},
   "outputs": [],
   "source": [
    "import sys\n",
    "input = sys.stdin.readline\n",
    "\n",
    "n = int(input())\n",
    "number = list(map(int,input().split()))\n",
    "fun_n = list(map(int,input().split()))\n",
    "\n",
    "def dfs(depth,total,p,m,mu,d):\n",
    "    global b\n",
    "    global s\n",
    "    if depth ==(n-1):\n",
    "        b = max(b,total)\n",
    "        s = min(s,total)\n",
    "        return\n",
    "    if fun_n[0]>0:\n",
    "        dfs(depth+1,total+number[depth+1],p-1,m,mu,d)\n",
    "    if fun_n[1]>0:\n",
    "        dfs(depth+1,total-number[depth+1],p,m-1,mu,d)\n",
    "    if fun_n[2]>0:\n",
    "        dfs(depth+1,total*number[depth+1],p,m,mu-1,d)\n",
    "    if fun_n[3]>0:\n",
    "        dfs(depth+1,int(total/number[depth+1]),p,m,mu,d-1)\n",
    "    return \n",
    "\n",
    "li=[]\n",
    "visited=[0]*n\n",
    "\n",
    "b = -1e9\n",
    "s = 1e9\n",
    "\n",
    "dfs(0,number[0],fun_n[0],fun_n[1],fun_n[2],fun_n[3])\n",
    "print(b)\n",
    "print(s)"
   ]
  }
 ],
 "metadata": {
  "kernelspec": {
   "display_name": "Python 3",
   "language": "python",
   "name": "python3"
  },
  "language_info": {
   "codemirror_mode": {
    "name": "ipython",
    "version": 3
   },
   "file_extension": ".py",
   "mimetype": "text/x-python",
   "name": "python",
   "nbconvert_exporter": "python",
   "pygments_lexer": "ipython3",
   "version": "3.8.8"
  }
 },
 "nbformat": 4,
 "nbformat_minor": 5
}
