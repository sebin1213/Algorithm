{
 "cells": [
  {
   "cell_type": "code",
   "execution_count": null,
   "id": "1da242b1",
   "metadata": {},
   "outputs": [],
   "source": [
    "3\n",
    "3 4 5\n",
    "1 0 1 0"
   ]
  },
  {
   "cell_type": "code",
   "execution_count": 34,
   "id": "5d48d060",
   "metadata": {},
   "outputs": [
    {
     "name": "stdout",
     "output_type": "stream",
     "text": [
      "3\n",
      "3 4 5\n",
      "1 0 1 0\n"
     ]
    }
   ],
   "source": [
    "fun=['+','-','*','/']\n",
    "n = int(input())\n",
    "number = list(map(int,input().split()))\n",
    "fun_n = list(map(int,input().split()))"
   ]
  },
  {
   "cell_type": "code",
   "execution_count": 35,
   "id": "9107d764",
   "metadata": {},
   "outputs": [],
   "source": [
    "word = ''\n",
    "for i in range(4):\n",
    "    word += fun[i]*fun_n[i]"
   ]
  },
  {
   "cell_type": "code",
   "execution_count": 36,
   "id": "10a60abe",
   "metadata": {},
   "outputs": [],
   "source": [
    "word = list(word)"
   ]
  },
  {
   "cell_type": "code",
   "execution_count": 40,
   "id": "f75d3c0d",
   "metadata": {},
   "outputs": [],
   "source": [
    "from itertools import permutations\n",
    "\n",
    "word = list(permutations(word))"
   ]
  },
  {
   "cell_type": "code",
   "execution_count": 68,
   "id": "921d4061",
   "metadata": {
    "scrolled": true
   },
   "outputs": [],
   "source": [
    "answer= [[] for x in range(len(word))]\n",
    "\n",
    "for j in range(len(word)):\n",
    "    answer[j].append(number[0])\n",
    "    for i in range(1,n):\n",
    "        val = str(answer[j][i-1])+ word[j][i-1] +str(number[i])\n",
    "        answer[j].append(eval(val))\n",
    "    answer[j] = eval(val)"
   ]
  },
  {
   "cell_type": "code",
   "execution_count": 69,
   "id": "6adb4cf0",
   "metadata": {},
   "outputs": [
    {
     "data": {
      "text/plain": [
       "[35, 17]"
      ]
     },
     "execution_count": 69,
     "metadata": {},
     "output_type": "execute_result"
    }
   ],
   "source": [
    "answer"
   ]
  },
  {
   "cell_type": "code",
   "execution_count": 70,
   "id": "d6ce37b3",
   "metadata": {},
   "outputs": [
    {
     "name": "stdout",
     "output_type": "stream",
     "text": [
      "35\n",
      "17\n"
     ]
    }
   ],
   "source": [
    "print(max(answer))\n",
    "print(min(answer))"
   ]
  },
  {
   "cell_type": "code",
   "execution_count": null,
   "id": "f4ae379f",
   "metadata": {},
   "outputs": [],
   "source": [
    "### 시간 초과 (숫자가 높은 애들부터 *우선순위...?)"
   ]
  }
 ],
 "metadata": {
  "kernelspec": {
   "display_name": "Python 3",
   "language": "python",
   "name": "python3"
  },
  "language_info": {
   "codemirror_mode": {
    "name": "ipython",
    "version": 3
   },
   "file_extension": ".py",
   "mimetype": "text/x-python",
   "name": "python",
   "nbconvert_exporter": "python",
   "pygments_lexer": "ipython3",
   "version": "3.8.8"
  }
 },
 "nbformat": 4,
 "nbformat_minor": 5
}
