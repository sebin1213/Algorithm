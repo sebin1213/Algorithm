{
 "cells": [
  {
   "cell_type": "code",
   "execution_count": null,
   "id": "97d02b84",
   "metadata": {},
   "outputs": [],
   "source": [
    "6\n",
    "(())())\n",
    "(((()())()\n",
    "(()())((()))\n",
    "((()()(()))(((())))()\n",
    "()()()()(()()())()\n",
    "(()((())()("
   ]
  },
  {
   "cell_type": "code",
   "execution_count": 31,
   "id": "8778dc04",
   "metadata": {
    "scrolled": true
   },
   "outputs": [
    {
     "ename": "SyntaxError",
     "evalue": "invalid syntax (<ipython-input-31-5ad5e997be67>, line 14)",
     "output_type": "error",
     "traceback": [
      "\u001b[1;36m  File \u001b[1;32m\"<ipython-input-31-5ad5e997be67>\"\u001b[1;36m, line \u001b[1;32m14\u001b[0m\n\u001b[1;33m    print(\"YES\") if n==0 elif n>0 print(\"NO\")\u001b[0m\n\u001b[1;37m                         ^\u001b[0m\n\u001b[1;31mSyntaxError\u001b[0m\u001b[1;31m:\u001b[0m invalid syntax\n"
     ]
    }
   ],
   "source": [
    "n = int(input())\n",
    "for i in range(n):\n",
    "    a = input()\n",
    "    n=0\n",
    "    for j in a:\n",
    "        if j ==\"(\":\n",
    "            n += 1\n",
    "        else:\n",
    "            n -= 1\n",
    "        if n < 0:\n",
    "            print('NO')\n",
    "            break \n",
    "    if n==0: \n",
    "        print(\"YES\")\n",
    "    elif n>0:\n",
    "        print(\"NO\")"
   ]
  },
  {
   "cell_type": "code",
   "execution_count": null,
   "id": "39719f47",
   "metadata": {},
   "outputs": [],
   "source": [
    "((\n",
    "))\n",
    "())(()"
   ]
  },
  {
   "cell_type": "code",
   "execution_count": 3,
   "id": "45d55f05",
   "metadata": {},
   "outputs": [
    {
     "data": {
      "text/plain": [
       "'(())())'"
      ]
     },
     "execution_count": 3,
     "metadata": {},
     "output_type": "execute_result"
    }
   ],
   "source": [
    "a"
   ]
  },
  {
   "cell_type": "code",
   "execution_count": 15,
   "id": "b141dcaa",
   "metadata": {},
   "outputs": [
    {
     "name": "stdout",
     "output_type": "stream",
     "text": [
      "YES\n"
     ]
    }
   ],
   "source": [
    "n=0\n",
    "for i in a:\n",
    "    if i ==\"(\":\n",
    "        n += 1\n",
    "    else:\n",
    "        n -= 1\n",
    "        \n",
    "print(\"NO\") if n==0 else print(\"YES\")"
   ]
  },
  {
   "cell_type": "code",
   "execution_count": null,
   "id": "dc019d76",
   "metadata": {},
   "outputs": [],
   "source": []
  }
 ],
 "metadata": {
  "kernelspec": {
   "display_name": "Python 3",
   "language": "python",
   "name": "python3"
  },
  "language_info": {
   "codemirror_mode": {
    "name": "ipython",
    "version": 3
   },
   "file_extension": ".py",
   "mimetype": "text/x-python",
   "name": "python",
   "nbconvert_exporter": "python",
   "pygments_lexer": "ipython3",
   "version": "3.8.8"
  }
 },
 "nbformat": 4,
 "nbformat_minor": 5
}
