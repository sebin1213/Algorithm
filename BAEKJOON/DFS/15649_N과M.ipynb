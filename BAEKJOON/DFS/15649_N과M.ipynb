{
 "cells": [
  {
   "cell_type": "code",
   "execution_count": null,
   "id": "8bdaebb7",
   "metadata": {},
   "outputs": [],
   "source": [
    "#  1부터 N까지 자연수 중에서 중복 없이 M개를 고른 수열"
   ]
  },
  {
   "cell_type": "code",
   "execution_count": null,
   "id": "f0ec6c90",
   "metadata": {},
   "outputs": [],
   "source": [
    "## permutations 이용"
   ]
  },
  {
   "cell_type": "code",
   "execution_count": 1,
   "id": "c990d284",
   "metadata": {},
   "outputs": [
    {
     "name": "stdout",
     "output_type": "stream",
     "text": [
      "4 2\n",
      "1 2\n",
      "1 3\n",
      "1 4\n",
      "2 1\n",
      "2 3\n",
      "2 4\n",
      "3 1\n",
      "3 2\n",
      "3 4\n",
      "4 1\n",
      "4 2\n",
      "4 3\n"
     ]
    }
   ],
   "source": [
    "n,m = map(int,input().split())\n",
    "\n",
    "from itertools import permutations\n",
    "\n",
    "li = [ i for i in range(1,n+1)]\n",
    "li = list(permutations(li,m))\n",
    "\n",
    "for i in li:\n",
    "    print(\" \".join(map(str,i)))"
   ]
  },
  {
   "cell_type": "code",
   "execution_count": 20,
   "id": "6b24c4f7",
   "metadata": {},
   "outputs": [],
   "source": [
    "## DFS 이용"
   ]
  },
  {
   "cell_type": "code",
   "execution_count": null,
   "id": "7ff2e8a2",
   "metadata": {},
   "outputs": [],
   "source": [
    "# 비어있는 리스트로 시작해 길이가 하나씩 추가하며 길이가 n인 수열을 완성했을때 출력"
   ]
  },
  {
   "cell_type": "code",
   "execution_count": 23,
   "id": "d3b6326e",
   "metadata": {},
   "outputs": [],
   "source": [
    "def dfs(depth):\n",
    "    if depth==m:\n",
    "        print(*visit)\n",
    "        return\n",
    "        \n",
    "    for i in range(1,n+1):\n",
    "        if i is not visit:\n",
    "            visit.append(i)\n",
    "            dfs(depth+1)\n",
    "        \n",
    "            visit.pop()"
   ]
  },
  {
   "cell_type": "code",
   "execution_count": 24,
   "id": "4df5b51c",
   "metadata": {
    "scrolled": true
   },
   "outputs": [
    {
     "name": "stdout",
     "output_type": "stream",
     "text": [
      "1 1\n",
      "1 2\n",
      "1 3\n",
      "1 4\n",
      "2 1\n",
      "2 2\n",
      "2 3\n",
      "2 4\n",
      "3 1\n",
      "3 2\n",
      "3 3\n",
      "3 4\n",
      "4 1\n",
      "4 2\n",
      "4 3\n",
      "4 4\n"
     ]
    }
   ],
   "source": [
    "visit=[]\n",
    "answer=[]\n",
    "dfs(0)"
   ]
  },
  {
   "cell_type": "code",
   "execution_count": null,
   "id": "dba703d7",
   "metadata": {},
   "outputs": [],
   "source": []
  }
 ],
 "metadata": {
  "kernelspec": {
   "display_name": "Python 3",
   "language": "python",
   "name": "python3"
  },
  "language_info": {
   "codemirror_mode": {
    "name": "ipython",
    "version": 3
   },
   "file_extension": ".py",
   "mimetype": "text/x-python",
   "name": "python",
   "nbconvert_exporter": "python",
   "pygments_lexer": "ipython3",
   "version": "3.8.8"
  }
 },
 "nbformat": 4,
 "nbformat_minor": 5
}
