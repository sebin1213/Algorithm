{
 "cells": [
  {
   "cell_type": "code",
   "execution_count": null,
   "id": "6489e5de",
   "metadata": {},
   "outputs": [],
   "source": [
    "현재 위치에서 현재 방향을 기준으로 왼쪽 방향부터 차례대로 인접한 칸을 탐색한다.\n",
    "왼쪽 방향에 아직 청소하지 않은 공간이 존재한다면, 그 방향으로 회전한 다음 한 칸을 전진하고 1번부터 진행한다.\n",
    "왼쪽 방향에 청소할 공간이 없다면, 그 방향으로 회전하고 2번으로 돌아간다.\n",
    "네 방향 모두 청소가 이미 되어있거나 벽인 경우에는, 바라보는 방향을 유지한 채로 한 칸 후진을 하고 2번으로 돌아간다.\n",
    "네 방향 모두 청소가 이미 되어있거나 벽이면서, 뒤쪽 방향이 벽이라 후진도 할 수 없는 경우에는 작동을 멈춘다.\n",
    "로봇 청소기는 이미 청소되어있는 칸을 또 청소하지 않으며, 벽을 통과할 수 없다."
   ]
  },
  {
   "cell_type": "markdown",
   "id": "ec2fc50f",
   "metadata": {},
   "source": [
    "첫째 줄에 세로 크기 N과 가로 크기 M이 주어진다. (3 ≤ N, M ≤ 50)\n",
    "\n",
    "둘째 줄에 로봇 청소기가 있는 칸의 좌표 (r, c)와 바라보는 방향 d가 주어진다. d가 0인 경우에는 북쪽을, 1인 경우에는 동쪽을, 2인 경우에는 남쪽을, 3인 경우에는 서쪽을 바라보고 있는 것이다.\n",
    "\n",
    "셋째 줄부터 N개의 줄에 장소의 상태가 북쪽부터 남쪽 순서대로, 각 줄은 서쪽부터 동쪽 순서대로 주어진다. 빈 칸은 0, 벽은 1로 주어진다. 지도의 첫 행, 마지막 행, 첫 열, 마지막 열에 있는 모든 칸은 벽이다."
   ]
  },
  {
   "cell_type": "code",
   "execution_count": null,
   "id": "a7a216b6",
   "metadata": {},
   "outputs": [],
   "source": [
    "## 이전 코드 시간이 무한대로 증가함"
   ]
  },
  {
   "cell_type": "code",
   "execution_count": 1,
   "id": "ef56455e",
   "metadata": {},
   "outputs": [],
   "source": [
    "import sys\n",
    "sys.setrecursionlimit(10**7)"
   ]
  },
  {
   "cell_type": "code",
   "execution_count": 56,
   "id": "bae997c7",
   "metadata": {},
   "outputs": [],
   "source": [
    "graph = [[1, 1, 1, 1, 1, 1, 1, 1, 1, 1], [1, 0, 0, 0, 0, 0, 0, 0, 0, 1], [1, 0, 0, 0, 1, 1, 1, 1, 0, 1], [1, 0, 0, 1, 1, 0, 0, 0, 0, 1], [1, 0, 1, 1, 0, 0, 0, 0, 0, 1], [1, 0, 0, 0, 0, 0, 0, 0, 0, 1], [1, 0, 0, 0, 0, 0, 0, 1, 0, 1], [1, 0, 0, 0, 0, 0, 1, 1, 0, 1], [1, 0, 0, 0, 0, 0, 1, 1, 0, 1], [1, 0, 0, 0, 0, 0, 0, 0, 0, 1], [1, 1, 1, 1, 1, 1, 1, 1, 1, 1]]"
   ]
  },
  {
   "cell_type": "code",
   "execution_count": 57,
   "id": "4dfbb2f7",
   "metadata": {},
   "outputs": [],
   "source": [
    "def clean(r,c,i):\n",
    "    global count\n",
    "\n",
    "    if i >= 4:\n",
    "        i-=4\n",
    "        \n",
    "    if graph[r][c]==1:\n",
    "        return\n",
    "    \n",
    "    graph[r][c]=2\n",
    "    \n",
    "    if graph[r][c-1]>0 and graph[r][c+1]>0 and graph[r+1][c]>0 and graph[r-1][c]>0:\n",
    "        clean(r+dy[i-1],c+dx[i-1],i)\n",
    "        return\n",
    "    \n",
    "    if graph[r+dy[i]][c+dx[i]]==0:\n",
    "        count +=1\n",
    "        clean(r+dy[i],c+dx[i],i+3)\n",
    "    else:\n",
    "        clean(r,c,i+3)"
   ]
  },
  {
   "cell_type": "code",
   "execution_count": 58,
   "id": "42eb3093",
   "metadata": {},
   "outputs": [],
   "source": [
    "n,m = map(int,input().split())\n",
    "r,c,d = map(int,input().split())\n",
    "\n",
    "graph = []\n",
    "\n",
    "for i in range(n):\n",
    "    a = list(map(int,input().split()))\n",
    "    graph.append(a)\n",
    "\n",
    "dy = [0,-1,0,1]\n",
    "dx = [-1,0,1,0]\n",
    "count = 1\n",
    "\n",
    "clean(r,c,d)\n",
    "\n",
    "print(count)"
   ]
  },
  {
   "cell_type": "code",
   "execution_count": null,
   "id": "632cfc3f",
   "metadata": {},
   "outputs": [],
   "source": []
  }
 ],
 "metadata": {
  "kernelspec": {
   "display_name": "Python 3",
   "language": "python",
   "name": "python3"
  },
  "language_info": {
   "codemirror_mode": {
    "name": "ipython",
    "version": 3
   },
   "file_extension": ".py",
   "mimetype": "text/x-python",
   "name": "python",
   "nbconvert_exporter": "python",
   "pygments_lexer": "ipython3",
   "version": "3.8.8"
  }
 },
 "nbformat": 4,
 "nbformat_minor": 5
}
