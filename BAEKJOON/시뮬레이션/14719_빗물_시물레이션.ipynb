{
 "cells": [
  {
   "cell_type": "markdown",
   "id": "bc880663",
   "metadata": {},
   "source": [
    "문제\n",
    "\n",
    "2차원 세계에 블록이 쌓여있다. 비가 오면 블록 사이에 빗물이 고인다.\n",
    "\n",
    "\n",
    "\n",
    "비는 충분히 많이 온다. 고이는 빗물의 총량은 얼마일까?\n",
    "\n",
    "입력\n",
    "\n",
    "첫 번째 줄에는 2차원 세계의 세로 길이 H과 2차원 세계의 가로 길이 W가 주어진다. (1 ≤ H, W ≤ 500)\n",
    "\n",
    "두 번째 줄에는 블록이 쌓인 높이를 의미하는 0이상 H이하의 정수가 2차원 세계의 맨 왼쪽 위치부터 차례대로 W개 주어진다.\n",
    "\n",
    "따라서 블록 내부의 빈 공간이 생길 수 없다. 또 2차원 세계의 바닥은 항상 막혀있다고 가정하여도 좋다.\n",
    "\n",
    "출력\n",
    "\n",
    "2차원 세계에서는 한 칸의 용량은 1이다. 고이는 빗물의 총량을 출력하여라.\n",
    "\n",
    "빗물이 전혀 고이지 않을 경우 0을 출력하여라."
   ]
  },
  {
   "cell_type": "code",
   "execution_count": null,
   "id": "64264dc2",
   "metadata": {},
   "outputs": [],
   "source": [
    "for i in range(h_list.index(max(h_list))):\n",
    "    \n",
    "for i in range(h_list.index(max(h_list)),w):\n",
    "    \n",
    "\n",
    "h_list.index(max(h_list))"
   ]
  },
  {
   "cell_type": "code",
   "execution_count": null,
   "id": "3eee0bee",
   "metadata": {},
   "outputs": [],
   "source": [
    "4 4\n",
    "3 0 1 4"
   ]
  },
  {
   "cell_type": "code",
   "execution_count": null,
   "id": "f2b8cf80",
   "metadata": {},
   "outputs": [],
   "source": [
    "4 8\n",
    "3 1 2 3 4 1 1 2"
   ]
  },
  {
   "cell_type": "code",
   "execution_count": null,
   "id": "3d8e642b",
   "metadata": {},
   "outputs": [],
   "source": [
    "100 18\n",
    "28 100 43 33 37 100 87 15 52 35 54 86 60 24 99 56 4 40"
   ]
  },
  {
   "cell_type": "code",
   "execution_count": 81,
   "id": "54e95a7b",
   "metadata": {},
   "outputs": [],
   "source": [
    "h,w = map(int,input().split())\n",
    "\n",
    "h_list = list(map(int,input().split()))\n",
    "\n",
    "graph = [[0]*w for i in range(h)]\n",
    "for i in range(h):\n",
    "    for j in range(w):\n",
    "        if h_list[j]>0:\n",
    "            graph[i][j]=1\n",
    "            h_list[j]-=1"
   ]
  },
  {
   "cell_type": "code",
   "execution_count": 82,
   "id": "54acc934",
   "metadata": {},
   "outputs": [
    {
     "name": "stdout",
     "output_type": "stream",
     "text": [
      "316105\n"
     ]
    }
   ],
   "source": [
    "rain = 0\n",
    "for i in range(h):\n",
    "    r=False\n",
    "    count=0\n",
    "    for j in range(w-1):\n",
    "        if graph[i][j]==1 and r==False and count==0:\n",
    "            r = True\n",
    "        elif graph[i][j]==0:\n",
    "            count +=1\n",
    "            graph[i][j]=1\n",
    "            if graph[i][j+1]==1:\n",
    "                if r==True:\n",
    "                    rain += count\n",
    "                count=0\n",
    "print(rain)"
   ]
  },
  {
   "cell_type": "code",
   "execution_count": null,
   "id": "82bd6217",
   "metadata": {},
   "outputs": [],
   "source": []
  }
 ],
 "metadata": {
  "kernelspec": {
   "display_name": "Python 3",
   "language": "python",
   "name": "python3"
  },
  "language_info": {
   "codemirror_mode": {
    "name": "ipython",
    "version": 3
   },
   "file_extension": ".py",
   "mimetype": "text/x-python",
   "name": "python",
   "nbconvert_exporter": "python",
   "pygments_lexer": "ipython3",
   "version": "3.8.8"
  }
 },
 "nbformat": 4,
 "nbformat_minor": 5
}
