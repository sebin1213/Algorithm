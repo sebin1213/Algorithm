{
 "cells": [
  {
   "cell_type": "code",
   "execution_count": null,
   "id": "cd734733",
   "metadata": {},
   "outputs": [],
   "source": [
    "5번 제외 모두 방향 있음\n",
    "\n",
    " 0\n",
    "3 1\n",
    " 2\n",
    "\n"
   ]
  },
  {
   "cell_type": "code",
   "execution_count": 51,
   "id": "d7e28af3",
   "metadata": {},
   "outputs": [],
   "source": [
    "def count_zero(graph):\n",
    "    all_count = 0\n",
    "    for i in range(n):\n",
    "        for j in range(m):\n",
    "            if graph[i][j]==0:\n",
    "                all_count += 1\n",
    "    return all_count"
   ]
  },
  {
   "cell_type": "code",
   "execution_count": 52,
   "id": "315d0b7c",
   "metadata": {},
   "outputs": [],
   "source": [
    "def cctv(depth,lis):\n",
    "    global min_val\n",
    "    \n",
    "    graph = copy.deepcopy(lis)\n",
    "    \n",
    "    if depth==len(cctv_loca):\n",
    "        min_val = min(count_zero(graph),min_val)\n",
    "        return\n",
    "        \n",
    "    i = cctv_loca[depth][0]\n",
    "    j = cctv_loca[depth][1]\n",
    "    \n",
    "    for p in dirc[li[i][j]-1]:\n",
    "        cctv(depth + 1,see(i,j,p,graph))\n",
    "        graph = copy.deepcopy(lis)"
   ]
  },
  {
   "cell_type": "code",
   "execution_count": 53,
   "id": "3cb8b748",
   "metadata": {},
   "outputs": [],
   "source": [
    "def see(r,c,p,graph):\n",
    "    for i in p:\n",
    "        ny = r\n",
    "        nx = c\n",
    "        while True:\n",
    "            nx += dx[i]\n",
    "            ny += dy[i]\n",
    "            if nx >= m or ny >= n or nx < 0 or ny < 0 or li[ny][nx] ==6:\n",
    "                break\n",
    "            elif li[ny][nx]==0:\n",
    "                graph[ny][nx]='#'    \n",
    "    return graph\n",
    "            "
   ]
  },
  {
   "cell_type": "code",
   "execution_count": 54,
   "id": "e371437e",
   "metadata": {},
   "outputs": [],
   "source": [
    "dx = [0,1,0,-1]\n",
    "dy = [-1,0,1,0]\n",
    "\n",
    "dirc = [[[0],[1],[2],[3]]  ,[[0,2],[1,3]]  ,[[0,1],[1,2],[2,3],[3,0]]  ,[[3,0,1],[0,1,2],[1,2,3],[2,3,0]]  ,[[0,1,2,3]]]"
   ]
  },
  {
   "cell_type": "code",
   "execution_count": 59,
   "id": "c654885e",
   "metadata": {
    "scrolled": true
   },
   "outputs": [
    {
     "name": "stdout",
     "output_type": "stream",
     "text": [
      "4 3\n",
      "0 0 0\n",
      "3 0 0\n",
      "0 2 2\n",
      "0 1 6\n",
      "1\n"
     ]
    }
   ],
   "source": [
    "import copy\n",
    "\n",
    "n,m = map(int,input().split())\n",
    "li=[]\n",
    "cctv_loca=[]\n",
    "len_loca=0\n",
    "for i in range(n):\n",
    "    l = list(map(int,input().split()))\n",
    "    li.append(l)\n",
    "    len_loca +=1\n",
    "    for j in range(m):\n",
    "        if 0 < l[j] < 6:\n",
    "            cctv_loca.append([i,j])\n",
    "\n",
    "min_val = 1e9\n",
    "cctv(0,li)\n",
    "print(min_val)"
   ]
  },
  {
   "cell_type": "code",
   "execution_count": null,
   "id": "9ddf17bd",
   "metadata": {},
   "outputs": [],
   "source": [
    "########## 시간초과... pypy3으로 제출"
   ]
  }
 ],
 "metadata": {
  "kernelspec": {
   "display_name": "Python 3",
   "language": "python",
   "name": "python3"
  },
  "language_info": {
   "codemirror_mode": {
    "name": "ipython",
    "version": 3
   },
   "file_extension": ".py",
   "mimetype": "text/x-python",
   "name": "python",
   "nbconvert_exporter": "python",
   "pygments_lexer": "ipython3",
   "version": "3.8.8"
  }
 },
 "nbformat": 4,
 "nbformat_minor": 5
}
