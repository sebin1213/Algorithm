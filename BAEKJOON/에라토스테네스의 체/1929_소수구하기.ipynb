{
 "cells": [
  {
   "cell_type": "code",
   "execution_count": 1,
   "id": "271096bd",
   "metadata": {},
   "outputs": [],
   "source": [
    "# 문제\n",
    "# M이상 N이하의 소수를 모두 출력하는 프로그램을 작성하시오.\n",
    "\n",
    "# 입력\n",
    "# 첫째 줄에 자연수 M과 N이 빈 칸을 사이에 두고 주어진다. (1 ≤ M ≤ N ≤ 1,000,000) M이상 N이하의 소수가 하나 이상 있는 입력만 주어진다.\n",
    "\n",
    "# 출력\n",
    "# 한 줄에 하나씩, 증가하는 순서대로 소수를 출력한다."
   ]
  },
  {
   "cell_type": "code",
   "execution_count": 22,
   "id": "dc7d40bb",
   "metadata": {
    "scrolled": true
   },
   "outputs": [
    {
     "name": "stdout",
     "output_type": "stream",
     "text": [
      "1 1\n"
     ]
    }
   ],
   "source": [
    "# 🚨시간초과\n",
    "a,b = list(map(int,input().split()))\n",
    "sosu = False\n",
    "for i in range(a,b):\n",
    "    for j in range(2,i):\n",
    "        sosu = True\n",
    "        if i%j==0:\n",
    "            sosu = False\n",
    "            break\n",
    "    if sosu:\n",
    "        print(i)"
   ]
  },
  {
   "cell_type": "markdown",
   "id": "097a2981",
   "metadata": {},
   "source": [
    "### 에라토스테네스의 체 원리\n",
    "에라토스테네스의 체는 가장 먼저 소수를 판별할 범위만큼 배열을 할당하여, 해당하는 값을 넣어주고, 이후에 하나씩 지워나가는 방법을 이용한다.\n",
    "\n",
    "1. 배열을 생성하여 초기화한다.\n",
    "2. 2부터 시작해서 특정 수의 배수에 해당하는 수를 모두 지운다.(지울 때 자기자신은 지우지 않고, 이미 지워진 수는 건너뛴다.)\n",
    "3. 2부터 시작하여 남아있는 수를 모두 출력한다."
   ]
  },
  {
   "cell_type": "code",
   "execution_count": 3,
   "id": "cff3f8d8",
   "metadata": {},
   "outputs": [
    {
     "name": "stdout",
     "output_type": "stream",
     "text": [
      "1 2\n",
      "\n"
     ]
    }
   ],
   "source": [
    "from sys import stdin\n",
    "\n",
    "a,b = map(int,stdin.readline().split())\n",
    "\n",
    "for i in range(a,b + 1):\n",
    "    sosu = True\n",
    "    for j in range(2,int(i**0.5)+1):\n",
    "        if i%j==0:\n",
    "            sosu = False\n",
    "            break\n",
    "    if sosu  and i!=1:\n",
    "        print(i)"
   ]
  }
 ],
 "metadata": {
  "kernelspec": {
   "display_name": "Python 3",
   "language": "python",
   "name": "python3"
  },
  "language_info": {
   "codemirror_mode": {
    "name": "ipython",
    "version": 3
   },
   "file_extension": ".py",
   "mimetype": "text/x-python",
   "name": "python",
   "nbconvert_exporter": "python",
   "pygments_lexer": "ipython3",
   "version": "3.8.8"
  }
 },
 "nbformat": 4,
 "nbformat_minor": 5
}
