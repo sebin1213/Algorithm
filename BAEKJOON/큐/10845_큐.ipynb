{
 "cells": [
  {
   "cell_type": "code",
   "execution_count": 8,
   "id": "4ee35343",
   "metadata": {},
   "outputs": [
    {
     "name": "stdout",
     "output_type": "stream",
     "text": [
      "1\n",
      "push 1\n"
     ]
    }
   ],
   "source": [
    "from sys import stdin\n",
    "n=int(stdin.readline())\n",
    "\n",
    "li=[]\n",
    "for i in range(n):\n",
    "    fun = list(stdin.readline().split())\n",
    "    \n",
    "    if len(fun)>1:\n",
    "        li.append(fun[1])\n",
    "    elif fun[0]==\"pop\":\n",
    "        try:\n",
    "            print(li[0])\n",
    "            del li[0]\n",
    "        except:\n",
    "            print(-1)\n",
    "    elif fun[0]==\"front\":\n",
    "        try:\n",
    "            print(li[0])\n",
    "        except:\n",
    "            print(-1)        \n",
    "    elif fun[0]==\"size\":\n",
    "        print(len(li))\n",
    "    elif fun[0]==\"back\":\n",
    "        try:\n",
    "            print(li[-1:][0])\n",
    "        except:\n",
    "            print(-1)              \n",
    "    else:\n",
    "        if len(li)>0:\n",
    "            print(0)\n",
    "        else:\n",
    "            print(1)"
   ]
  },
  {
   "cell_type": "code",
   "execution_count": null,
   "id": "589b18c9",
   "metadata": {},
   "outputs": [],
   "source": []
  }
 ],
 "metadata": {
  "kernelspec": {
   "display_name": "Python 3",
   "language": "python",
   "name": "python3"
  },
  "language_info": {
   "codemirror_mode": {
    "name": "ipython",
    "version": 3
   },
   "file_extension": ".py",
   "mimetype": "text/x-python",
   "name": "python",
   "nbconvert_exporter": "python",
   "pygments_lexer": "ipython3",
   "version": "3.8.8"
  }
 },
 "nbformat": 4,
 "nbformat_minor": 5
}
