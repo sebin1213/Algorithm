{
 "cells": [
  {
   "cell_type": "code",
   "execution_count": null,
   "id": "e869383e",
   "metadata": {},
   "outputs": [],
   "source": [
    "15\n",
    "push 1\n",
    "push 2\n",
    "front\n",
    "back\n",
    "size\n",
    "empty\n",
    "pop\n",
    "pop\n",
    "pop\n",
    "size\n",
    "empty\n",
    "pop\n",
    "push 3\n",
    "empty\n",
    "front"
   ]
  },
  {
   "cell_type": "code",
   "execution_count": 1,
   "id": "07fa7b89",
   "metadata": {},
   "outputs": [
    {
     "name": "stdout",
     "output_type": "stream",
     "text": [
      "15\n",
      "push 1\n",
      "push 2\n",
      "front\n",
      "1\n",
      "back\n",
      "['2']\n",
      "size\n",
      "2\n",
      "empty\n",
      "0\n",
      "pop\n",
      "2\n",
      "pop\n",
      "1\n",
      "pop\n",
      "-1\n",
      "size\n",
      "0\n",
      "empty\n",
      "1\n",
      "pop\n",
      "-1\n",
      "push 3\n",
      "empty\n",
      "0\n",
      "front\n",
      "3\n"
     ]
    }
   ],
   "source": [
    "n=int(input())\n",
    "li=[]\n",
    "for i in range(n):\n",
    "    fun = list(input().split())\n",
    "    \n",
    "    if len(fun)>1:\n",
    "        li.append(fun[1])\n",
    "    elif fun[0]==\"pop\":\n",
    "        try:\n",
    "            print(li.pop())\n",
    "        except:\n",
    "            print(-1)\n",
    "    elif fun[0]==\"front\":\n",
    "        try:\n",
    "            print(li[0])\n",
    "        except:\n",
    "            print(-1)        \n",
    "    elif fun[0]==\"size\":\n",
    "        print(len(li))\n",
    "    elif fun[0]==\"back\":\n",
    "        try:\n",
    "            print(li[-1:][0])\n",
    "        except:\n",
    "            print(-1)              \n",
    "    else:\n",
    "        if len(li)>0:\n",
    "            print(0)\n",
    "        else:\n",
    "            print(1)"
   ]
  },
  {
   "cell_type": "code",
   "execution_count": null,
   "id": "98d3e33c",
   "metadata": {},
   "outputs": [],
   "source": []
  }
 ],
 "metadata": {
  "kernelspec": {
   "display_name": "Python 3",
   "language": "python",
   "name": "python3"
  },
  "language_info": {
   "codemirror_mode": {
    "name": "ipython",
    "version": 3
   },
   "file_extension": ".py",
   "mimetype": "text/x-python",
   "name": "python",
   "nbconvert_exporter": "python",
   "pygments_lexer": "ipython3",
   "version": "3.8.8"
  }
 },
 "nbformat": 4,
 "nbformat_minor": 5
}
