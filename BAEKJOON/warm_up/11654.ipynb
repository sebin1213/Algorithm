{
 "cells": [
  {
   "cell_type": "code",
   "execution_count": null,
   "id": "85f7047b",
   "metadata": {},
   "outputs": [],
   "source": [
    "# 알파벳 소문자, 대문자, 숫자 0-9중 하나가 주어졌을 때, 주어진 글자의 아스키 코드값을 출력하는 프로그램을 작성하시오.\n",
    "# 알파벳 소문자, 대문자, 숫자 0-9 중 하나가 첫째 줄에 주어진다."
   ]
  },
  {
   "cell_type": "code",
   "execution_count": 12,
   "id": "30ec1c54",
   "metadata": {},
   "outputs": [
    {
     "name": "stdout",
     "output_type": "stream",
     "text": [
      "ㅁ\n",
      "12609\n"
     ]
    }
   ],
   "source": [
    "a = input()\n",
    "print (ord(a))"
   ]
  },
  {
   "cell_type": "code",
   "execution_count": null,
   "id": "3ab5d943",
   "metadata": {},
   "outputs": [],
   "source": []
  }
 ],
 "metadata": {
  "kernelspec": {
   "display_name": "Python 3",
   "language": "python",
   "name": "python3"
  },
  "language_info": {
   "codemirror_mode": {
    "name": "ipython",
    "version": 3
   },
   "file_extension": ".py",
   "mimetype": "text/x-python",
   "name": "python",
   "nbconvert_exporter": "python",
   "pygments_lexer": "ipython3",
   "version": "3.8.8"
  }
 },
 "nbformat": 4,
 "nbformat_minor": 5
}
