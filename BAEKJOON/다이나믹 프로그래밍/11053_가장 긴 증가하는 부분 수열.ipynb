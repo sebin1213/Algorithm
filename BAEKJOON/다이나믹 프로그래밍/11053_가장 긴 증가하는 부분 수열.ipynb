{
 "cells": [
  {
   "cell_type": "code",
   "execution_count": null,
   "id": "d10d328c",
   "metadata": {},
   "outputs": [],
   "source": [
    "6\n",
    "10 20 10 30 20 50"
   ]
  },
  {
   "cell_type": "code",
   "execution_count": null,
   "id": "a83c2ad4",
   "metadata": {},
   "outputs": [],
   "source": []
  },
  {
   "cell_type": "code",
   "execution_count": 73,
   "id": "55890f95",
   "metadata": {},
   "outputs": [
    {
     "name": "stdout",
     "output_type": "stream",
     "text": [
      "6\n",
      "10 20 10 30 20 50\n",
      "[1, 2, 1, 1, 1, 1]\n",
      "[1, 2, 1, 1, 1, 1]\n",
      "[1, 2, 1, 1, 1, 1]\n",
      "[1, 2, 1, 2, 1, 1]\n",
      "[1, 2, 1, 3, 1, 1]\n",
      "[1, 2, 1, 3, 1, 1]\n",
      "[1, 2, 1, 3, 2, 1]\n",
      "[1, 2, 1, 3, 2, 1]\n",
      "[1, 2, 1, 3, 2, 1]\n",
      "[1, 2, 1, 3, 2, 1]\n",
      "[1, 2, 1, 3, 2, 2]\n",
      "[1, 2, 1, 3, 2, 3]\n",
      "[1, 2, 1, 3, 2, 3]\n",
      "[1, 2, 1, 3, 2, 4]\n",
      "[1, 2, 1, 3, 2, 4]\n",
      "4\n"
     ]
    }
   ],
   "source": [
    "n = int(input())\n",
    "n_list = list(map(int,input().split()))\n",
    "\n",
    "dp= [1]*n\n",
    "\n",
    "for i in range(n):\n",
    "    for j in range(i):\n",
    "        if n_list[j] < n_list[i] and dp[i] < dp[j]+1:\n",
    "            dp[i] = dp[j] + 1\n",
    "        print(dp)\n",
    "print(max(dp))"
   ]
  },
  {
   "cell_type": "code",
   "execution_count": 70,
   "id": "a85aa507",
   "metadata": {},
   "outputs": [
    {
     "data": {
      "text/plain": [
       "[1, 2, 1, 3, 2, 4]"
      ]
     },
     "execution_count": 70,
     "metadata": {},
     "output_type": "execute_result"
    }
   ],
   "source": [
    "dp"
   ]
  },
  {
   "cell_type": "code",
   "execution_count": null,
   "id": "fcd5692f",
   "metadata": {},
   "outputs": [],
   "source": []
  }
 ],
 "metadata": {
  "kernelspec": {
   "display_name": "Python 3",
   "language": "python",
   "name": "python3"
  },
  "language_info": {
   "codemirror_mode": {
    "name": "ipython",
    "version": 3
   },
   "file_extension": ".py",
   "mimetype": "text/x-python",
   "name": "python",
   "nbconvert_exporter": "python",
   "pygments_lexer": "ipython3",
   "version": "3.8.8"
  }
 },
 "nbformat": 4,
 "nbformat_minor": 5
}
