{
 "cells": [
  {
   "cell_type": "code",
   "execution_count": 1,
   "id": "0debd87b",
   "metadata": {},
   "outputs": [],
   "source": [
    "# 문제\n",
    "# RGB거리에는 집이 N개 있다. 거리는 선분으로 나타낼 수 있고, 1번 집부터 N번 집이 순서대로 있다.\n",
    "\n",
    "# 집은 빨강, 초록, 파랑 중 하나의 색으로 칠해야 한다. 각각의 집을 빨강, 초록, 파랑으로 칠하는 비용이 주어졌을 때, 아래 규칙을 만족하면서 모든 집을 칠하는 비용의 최솟값을 구해보자.\n",
    "\n",
    "# 1번 집의 색은 2번 집의 색과 같지 않아야 한다.\n",
    "# N번 집의 색은 N-1번 집의 색과 같지 않아야 한다.\n",
    "# i(2 ≤ i ≤ N-1)번 집의 색은 i-1번, i+1번 집의 색과 같지 않아야 한다.\n",
    "\n",
    "# 출력\n",
    "# 첫째 줄에 모든 집을 칠하는 비용의 최솟값을 출력한다."
   ]
  },
  {
   "cell_type": "code",
   "execution_count": null,
   "id": "41a68efb",
   "metadata": {},
   "outputs": [],
   "source": [
    "# 문제 풀이는 블로그에 정리\n",
    "# https://velog.io/@hope1213/%EB%B0%B1%EC%A4%80-1149-RGB%EA%B1%B0%EB%A6%AC-%ED%8C%8C%EC%9D%B4%EC%8D%AC"
   ]
  },
  {
   "cell_type": "code",
   "execution_count": 35,
   "id": "1593313d",
   "metadata": {},
   "outputs": [
    {
     "name": "stdout",
     "output_type": "stream",
     "text": [
      "3\n",
      "1 100 100\n",
      "100 100 100\n",
      "1 100 100\n",
      "102\n"
     ]
    }
   ],
   "source": [
    "n = int(input())\n",
    "a = [0]*n\n",
    "\n",
    "for i in range(n):\n",
    "    a[i] = list(map(int,input().split()))\n",
    "    \n",
    "for i in range(1,n):\n",
    "    a[i][0]= min(a[i-1][1],a[i-1][2]) + a[i][0]\n",
    "    a[i][1]= min(a[i-1][0],a[i-1][2]) + a[i][1]\n",
    "    a[i][2]= min(a[i-1][0],a[i-1][1]) + a[i][2]\n",
    "\n",
    "print(min(a[n-1][0],a[n-1][1],a[n-1][2]))"
   ]
  }
 ],
 "metadata": {
  "kernelspec": {
   "display_name": "Python 3",
   "language": "python",
   "name": "python3"
  },
  "language_info": {
   "codemirror_mode": {
    "name": "ipython",
    "version": 3
   },
   "file_extension": ".py",
   "mimetype": "text/x-python",
   "name": "python",
   "nbconvert_exporter": "python",
   "pygments_lexer": "ipython3",
   "version": "3.8.8"
  }
 },
 "nbformat": 4,
 "nbformat_minor": 5
}
