{
 "cells": [
  {
   "cell_type": "markdown",
   "id": "0ed8f587",
   "metadata": {},
   "source": [
    "최대값 구하기 dp 문제"
   ]
  },
  {
   "cell_type": "code",
   "execution_count": 108,
   "id": "33ec8ff3",
   "metadata": {},
   "outputs": [],
   "source": [
    "# graph = [[3, 10], [5, 20], [1, 10], [1, 20], [1, 15], [2, 40], [1, 200]]\n",
    "graph = [[5, 10], [5, 9], [5, 8], [5, 7], [5, 6], [5, 10], [5, 9], [5, 8], [5, 7], [5, 6]]"
   ]
  },
  {
   "cell_type": "code",
   "execution_count": 114,
   "id": "e8e36a90",
   "metadata": {},
   "outputs": [
    {
     "name": "stdout",
     "output_type": "stream",
     "text": [
      "10\n",
      "1 1\n",
      "1 2\n",
      "1 3\n",
      "1 4\n",
      "1 5\n",
      "1 6\n",
      "1 7\n",
      "1 8\n",
      "1 9\n",
      "1 10\n"
     ]
    }
   ],
   "source": [
    "n = int(input())\n",
    "graph = list()\n",
    "\n",
    "for i in range(n):\n",
    "    t, p= map(int,input().split())\n",
    "    graph.append([t,p])\n",
    "\n",
    "li = [0]*(n+1)\n",
    "for i in range(n-1,-1,-1):\n",
    "    if graph[i][0]+i > n:\n",
    "        li[i]=li[i+1] # 인덱스가 넘어가면 이전 최대값이 현재의 최대값이 된다.\n",
    "        continue\n",
    "    \n",
    "    li[i] = max(graph[i][1] + li[i+graph[i][0]], li[i+1]) # 자신의 값과 다음 노드의 최대값이 현재 자신의 최대값\n",
    "print(li[0])"
   ]
  },
  {
   "cell_type": "code",
   "execution_count": null,
   "id": "ff42a2bd",
   "metadata": {},
   "outputs": [],
   "source": []
  }
 ],
 "metadata": {
  "kernelspec": {
   "display_name": "Python 3",
   "language": "python",
   "name": "python3"
  },
  "language_info": {
   "codemirror_mode": {
    "name": "ipython",
    "version": 3
   },
   "file_extension": ".py",
   "mimetype": "text/x-python",
   "name": "python",
   "nbconvert_exporter": "python",
   "pygments_lexer": "ipython3",
   "version": "3.8.8"
  }
 },
 "nbformat": 4,
 "nbformat_minor": 5
}
