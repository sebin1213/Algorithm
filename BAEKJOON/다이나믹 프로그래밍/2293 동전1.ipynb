{
 "cells": [
  {
   "cell_type": "code",
   "execution_count": 35,
   "id": "b4e934cb",
   "metadata": {},
   "outputs": [
    {
     "name": "stdout",
     "output_type": "stream",
     "text": [
      "3 10\n",
      "1\n",
      "2\n",
      "5\n"
     ]
    }
   ],
   "source": [
    "n,k=map(int,input().split())\n",
    "coin=[]\n",
    "for i in range(n):\n",
    "    coin.append(int(input()))\n",
    "    "
   ]
  },
  {
   "cell_type": "code",
   "execution_count": 36,
   "id": "442802c9",
   "metadata": {},
   "outputs": [],
   "source": [
    "li=[0] * (k + 1)"
   ]
  },
  {
   "cell_type": "code",
   "execution_count": 37,
   "id": "db10ecc0",
   "metadata": {},
   "outputs": [],
   "source": [
    "li[0] = 1"
   ]
  },
  {
   "cell_type": "code",
   "execution_count": 38,
   "id": "a0a8f8e7",
   "metadata": {},
   "outputs": [],
   "source": [
    "for i in coin:\n",
    "    for j in range(i,k + 1):\n",
    "        li[j] += li[j - i]"
   ]
  },
  {
   "cell_type": "code",
   "execution_count": 39,
   "id": "e9702d1d",
   "metadata": {},
   "outputs": [
    {
     "data": {
      "text/plain": [
       "10"
      ]
     },
     "execution_count": 39,
     "metadata": {},
     "output_type": "execute_result"
    }
   ],
   "source": [
    "li[k]"
   ]
  },
  {
   "cell_type": "code",
   "execution_count": null,
   "id": "31dbb861",
   "metadata": {},
   "outputs": [],
   "source": []
  }
 ],
 "metadata": {
  "kernelspec": {
   "display_name": "Python 3",
   "language": "python",
   "name": "python3"
  },
  "language_info": {
   "codemirror_mode": {
    "name": "ipython",
    "version": 3
   },
   "file_extension": ".py",
   "mimetype": "text/x-python",
   "name": "python",
   "nbconvert_exporter": "python",
   "pygments_lexer": "ipython3",
   "version": "3.8.8"
  }
 },
 "nbformat": 4,
 "nbformat_minor": 5
}
