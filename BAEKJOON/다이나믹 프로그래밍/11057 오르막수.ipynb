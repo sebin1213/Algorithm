{
 "cells": [
  {
   "cell_type": "code",
   "execution_count": null,
   "id": "22b12ccf",
   "metadata": {},
   "outputs": [],
   "source": [
    "n = int(input())\n",
    "\n",
    "dp = list([[1] * 10])\n",
    "\n",
    "for _ in range(n):\n",
    "    dp.append(list([0] * 10))\n",
    "\n",
    "for i in range(1,n+1):\n",
    "    for j in range(0,10):\n",
    "        for k in range(j+1):\n",
    "            dp[i][j] += dp[i-1][k]\n",
    "\n",
    "print(dp[n][9] % 10007)"
   ]
  }
 ],
 "metadata": {
  "kernelspec": {
   "display_name": "Python 3",
   "language": "python",
   "name": "python3"
  },
  "language_info": {
   "codemirror_mode": {
    "name": "ipython",
    "version": 3
   },
   "file_extension": ".py",
   "mimetype": "text/x-python",
   "name": "python",
   "nbconvert_exporter": "python",
   "pygments_lexer": "ipython3",
   "version": "3.8.8"
  }
 },
 "nbformat": 4,
 "nbformat_minor": 5
}
