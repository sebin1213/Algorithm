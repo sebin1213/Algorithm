{
 "cells": [
  {
   "cell_type": "code",
   "execution_count": 5,
   "id": "e2b1c21d",
   "metadata": {},
   "outputs": [
    {
     "name": "stdout",
     "output_type": "stream",
     "text": [
      "6\n",
      "10\n",
      "20\n",
      "15\n",
      "25\n",
      "10\n",
      "20\n"
     ]
    }
   ],
   "source": [
    "n = int(input())\n",
    "stairs = []\n",
    "for i in range(n):\n",
    "    stairs.append(int(input()))"
   ]
  },
  {
   "cell_type": "code",
   "execution_count": 60,
   "id": "4c0beb51",
   "metadata": {},
   "outputs": [
    {
     "name": "stdout",
     "output_type": "stream",
     "text": [
      "75\n"
     ]
    }
   ],
   "source": [
    "n = int(input())\n",
    "stairs = []\n",
    "for i in range(n):\n",
    "    stairs.append(int(input()))\n",
    "    \n",
    "if n==1:\n",
    "    print(stairs[0])\n",
    "elif n==2:\n",
    "    print(stairs[0]+stairs[1])\n",
    "else:\n",
    "    max_stairs = [[stairs[0],0],[stairs[1],stairs[0]+stairs[1]]]\n",
    "    for i in range(2,n):\n",
    "        max_stairs.append([stairs[i] + max(max_stairs[i-2]),stairs[i]+max_stairs[i-1][0]])\n",
    "    print(max(max_stairs[n-1]))"
   ]
  }
 ],
 "metadata": {
  "kernelspec": {
   "display_name": "Python 3",
   "language": "python",
   "name": "python3"
  },
  "language_info": {
   "codemirror_mode": {
    "name": "ipython",
    "version": 3
   },
   "file_extension": ".py",
   "mimetype": "text/x-python",
   "name": "python",
   "nbconvert_exporter": "python",
   "pygments_lexer": "ipython3",
   "version": "3.8.8"
  }
 },
 "nbformat": 4,
 "nbformat_minor": 5
}
