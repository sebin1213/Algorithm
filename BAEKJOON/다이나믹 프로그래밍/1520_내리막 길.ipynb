{
 "cells": [
  {
   "cell_type": "code",
   "execution_count": null,
   "id": "ff8b6c65",
   "metadata": {},
   "outputs": [],
   "source": [
    "4 4\n",
    "\n",
    "16 9 8 1\n",
    "15 10 7 2\n",
    "14 11 6 3\n",
    "13 12 5 4\n",
    "\n",
    "10"
   ]
  },
  {
   "cell_type": "code",
   "execution_count": null,
   "id": "a0da82b7",
   "metadata": {},
   "outputs": [],
   "source": [
    "import sys\n",
    "sys.setrecursionlimit(10000)\n",
    "# 제출할때 붙여야함"
   ]
  },
  {
   "cell_type": "code",
   "execution_count": 6,
   "id": "7111947f",
   "metadata": {
    "scrolled": false
   },
   "outputs": [
    {
     "name": "stdout",
     "output_type": "stream",
     "text": [
      "4 4\n",
      "16 9 8 1\n",
      "15 10 7 2\n",
      "14 11 6 3\n",
      "13 12 5 4\n"
     ]
    }
   ],
   "source": [
    "m,n = map(int,input().split())\n",
    "li=[]\n",
    "for i in range(m):\n",
    "    li.append(list(map(int,input().split())))"
   ]
  },
  {
   "cell_type": "code",
   "execution_count": 18,
   "id": "bdb74320",
   "metadata": {},
   "outputs": [],
   "source": [
    "visited = [ [0]*n for i in range(m) ]\n",
    "\n",
    "count=0\n",
    "\n",
    "def dfs(r,c):\n",
    "    global count\n",
    "    if r==m-1 and c==n-1:\n",
    "        count +=1\n",
    "        return\n",
    "    if c < n-1 and visited[r][c+1]==0 and li[r][c]>li[r][c+1]: #오른쪽\n",
    "        visited[r][c+1]=1\n",
    "        dfs(r,c+1)\n",
    "        visited[r][c+1]=0\n",
    "    if c > 0 and visited[r][c-1]==0 and li[r][c]>li[r][c-1]: # 왼쪽\n",
    "        visited[r][c-1]=1\n",
    "        dfs(r,c-1)\n",
    "        visited[r][c-1]=0\n",
    "    if r < m-1 and visited[r+1][c]==0 and li[r][c]>li[r+1][c]: # 아래쪽\n",
    "        visited[r+1][c]=1\n",
    "        dfs(r+1,c)\n",
    "        visited[r+1][c]=0\n",
    "    if r > 0 and visited[r-1][c]==0 and li[r][c]>li[r-1][c]: #위쪽\n",
    "        visited[r-1][c]=1\n",
    "        dfs(r-1,c)\n",
    "        visited[r-1][c]=0"
   ]
  },
  {
   "cell_type": "code",
   "execution_count": 19,
   "id": "4087e5fe",
   "metadata": {
    "scrolled": true
   },
   "outputs": [],
   "source": [
    "dfs(0,0)"
   ]
  },
  {
   "cell_type": "code",
   "execution_count": 21,
   "id": "766bc863",
   "metadata": {},
   "outputs": [
    {
     "name": "stdout",
     "output_type": "stream",
     "text": [
      "10\n"
     ]
    }
   ],
   "source": [
    "print(count)"
   ]
  },
  {
   "cell_type": "code",
   "execution_count": null,
   "id": "c4bd179b",
   "metadata": {},
   "outputs": [],
   "source": [
    "## dfs만 사용하면 시간 초과 dp사용해서 풀자"
   ]
  },
  {
   "cell_type": "code",
   "execution_count": null,
   "id": "5e31db82",
   "metadata": {},
   "outputs": [],
   "source": []
  },
  {
   "cell_type": "code",
   "execution_count": 41,
   "id": "0d64620d",
   "metadata": {
    "scrolled": true
   },
   "outputs": [
    {
     "name": "stdout",
     "output_type": "stream",
     "text": [
      "4 5\n",
      "50 45 37 32 30\n",
      "35 50 40 20 25\n",
      "30 30 25 17 28\n",
      "27 24 22 15 10\n"
     ]
    }
   ],
   "source": [
    "m,n = map(int,input().split())\n",
    "li=[]\n",
    "for i in range(m):\n",
    "    li.append(list(map(int,input().split())))"
   ]
  },
  {
   "cell_type": "code",
   "execution_count": 42,
   "id": "ba27ff53",
   "metadata": {},
   "outputs": [],
   "source": [
    "visited = [[0]*n for i in range(m)]\n",
    "count=0\n",
    "c_graph = [[-1]*n for _ in range(m)]"
   ]
  },
  {
   "cell_type": "code",
   "execution_count": 43,
   "id": "e638f70e",
   "metadata": {},
   "outputs": [
    {
     "data": {
      "text/plain": [
       "3"
      ]
     },
     "execution_count": 43,
     "metadata": {},
     "output_type": "execute_result"
    }
   ],
   "source": [
    "dx = [1, -1, 0, 0]\n",
    "dy = [0, 0, 1, -1]\n",
    "\n",
    "def dfs(r,c):    \n",
    "    if r==m-1 and c==n-1:\n",
    "        return 1\n",
    "    \n",
    "    if c_graph[r][c] != -1:\n",
    "        return c_graph[r][c]\n",
    "    \n",
    "    c_graph[r][c] = 0   # 방문했음\n",
    "    \n",
    "    for i in range(4):\n",
    "        nx = r + dx[i]\n",
    "        ny = c + dy[i]\n",
    "        if 0 <= nx < m and 0 <= ny < n:\n",
    "            if li[nx][ny] < li[r][c]:\n",
    "                c_graph[r][c] += dfs(nx, ny)\n",
    "    return c_graph[r][c]\n",
    "\n",
    "print(dfs(0,0))"
   ]
  },
  {
   "cell_type": "code",
   "execution_count": null,
   "id": "ce876777",
   "metadata": {},
   "outputs": [],
   "source": []
  }
 ],
 "metadata": {
  "kernelspec": {
   "display_name": "Python 3",
   "language": "python",
   "name": "python3"
  },
  "language_info": {
   "codemirror_mode": {
    "name": "ipython",
    "version": 3
   },
   "file_extension": ".py",
   "mimetype": "text/x-python",
   "name": "python",
   "nbconvert_exporter": "python",
   "pygments_lexer": "ipython3",
   "version": "3.8.8"
  }
 },
 "nbformat": 4,
 "nbformat_minor": 5
}
