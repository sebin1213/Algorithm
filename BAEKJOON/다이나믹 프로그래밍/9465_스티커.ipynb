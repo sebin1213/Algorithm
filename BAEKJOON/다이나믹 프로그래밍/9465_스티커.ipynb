{
 "cells": [
  {
   "cell_type": "code",
   "execution_count": null,
   "id": "c320ff2c",
   "metadata": {},
   "outputs": [],
   "source": [
    "5\n",
    "50 10 100 20 40\n",
    "30 50 70 10 60"
   ]
  },
  {
   "cell_type": "code",
   "execution_count": 33,
   "id": "32347c56",
   "metadata": {},
   "outputs": [
    {
     "name": "stdout",
     "output_type": "stream",
     "text": [
      "5\n",
      "50 10 100 20 40\n",
      "30 50 70 10 60\n"
     ]
    }
   ],
   "source": [
    "n = int(input())\n",
    "li = []\n",
    "li.append(list(map(int,input().split())))\n",
    "li.append(list(map(int,input().split())))"
   ]
  },
  {
   "cell_type": "code",
   "execution_count": 34,
   "id": "a6b50f43",
   "metadata": {},
   "outputs": [],
   "source": [
    "max_list = [[] for i in range(n)]"
   ]
  },
  {
   "cell_type": "code",
   "execution_count": 35,
   "id": "8229f4f5",
   "metadata": {},
   "outputs": [],
   "source": [
    "max_list[0] = [li[0][0],li[1][0]]"
   ]
  },
  {
   "cell_type": "code",
   "execution_count": 36,
   "id": "b6d72b9e",
   "metadata": {},
   "outputs": [],
   "source": [
    "for i in range(1,n):\n",
    "    max_list[i].append(max(max_list[i-1][0],li[0][i]+max_list[i-1][1]))\n",
    "    max_list[i].append(max(max_list[i-1][1],li[1][i]+max_list[i-1][0]))"
   ]
  },
  {
   "cell_type": "code",
   "execution_count": 37,
   "id": "c8030f0d",
   "metadata": {},
   "outputs": [
    {
     "name": "stdout",
     "output_type": "stream",
     "text": [
      "260\n"
     ]
    }
   ],
   "source": [
    "print(max(max_list[n-1]))"
   ]
  },
  {
   "cell_type": "code",
   "execution_count": null,
   "id": "81a906d7",
   "metadata": {},
   "outputs": [],
   "source": []
  },
  {
   "cell_type": "code",
   "execution_count": 38,
   "id": "0f43a808",
   "metadata": {},
   "outputs": [
    {
     "name": "stdout",
     "output_type": "stream",
     "text": [
      "2\n",
      "5\n",
      "50 10 100 20 40\n",
      "30 50 70 10 60\n",
      "260\n",
      "7\n",
      "10 30 10 50 100 20 40\n",
      "20 40 30 50 60 20 80\n",
      "290\n"
     ]
    }
   ],
   "source": [
    "num = int(input())\n",
    "\n",
    "for i in range(num):\n",
    "    n = int(input())\n",
    "    li = []\n",
    "    li.append(list(map(int,input().split())))\n",
    "    li.append(list(map(int,input().split())))\n",
    "\n",
    "    max_list = [[] for i in range(n)]\n",
    "\n",
    "    max_list[0] = [li[0][0],li[1][0]]\n",
    "\n",
    "    for i in range(1,n):\n",
    "        max_list[i].append(max(max_list[i-1][0],li[0][i]+max_list[i-1][1]))\n",
    "        max_list[i].append(max(max_list[i-1][1],li[1][i]+max_list[i-1][0]))\n",
    "\n",
    "    print(max(max_list[n-1]))"
   ]
  },
  {
   "cell_type": "code",
   "execution_count": null,
   "id": "6e96343f",
   "metadata": {},
   "outputs": [],
   "source": []
  }
 ],
 "metadata": {
  "kernelspec": {
   "display_name": "Python 3",
   "language": "python",
   "name": "python3"
  },
  "language_info": {
   "codemirror_mode": {
    "name": "ipython",
    "version": 3
   },
   "file_extension": ".py",
   "mimetype": "text/x-python",
   "name": "python",
   "nbconvert_exporter": "python",
   "pygments_lexer": "ipython3",
   "version": "3.8.8"
  }
 },
 "nbformat": 4,
 "nbformat_minor": 5
}
