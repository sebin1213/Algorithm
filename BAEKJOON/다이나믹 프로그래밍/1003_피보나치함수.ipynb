{
 "cells": [
  {
   "cell_type": "code",
   "execution_count": null,
   "id": "36bf91f7",
   "metadata": {},
   "outputs": [],
   "source": [
    "# 입력\n",
    "# 첫째 줄에 테스트 케이스의 개수 T가 주어진다.\n",
    "\n",
    "# 각 테스트 케이스는 한 줄로 이루어져 있고, N이 주어진다. N은 40보다 작거나 같은 자연수 또는 0이다.\n",
    "\n",
    "# 출력\n",
    "# 각 테스트 케이스마다 0이 출력되는 횟수와 1이 출력되는 횟수를 공백으로 구분해서 출력한다."
   ]
  },
  {
   "cell_type": "code",
   "execution_count": null,
   "id": "f319f79d",
   "metadata": {},
   "outputs": [],
   "source": [
    "# 🚨시간초과\n",
    "def fibo(a):\n",
    "    if a < 2:\n",
    "        d[a] += 1\n",
    "        return a\n",
    "    return fibo(a-1) + fibo(a-2)\n",
    "\n",
    "a = int(input())\n",
    "all=\"\"\n",
    "for i in range(a):\n",
    "    d = [0]*2\n",
    "    val = int(input())\n",
    "    fibo(val)\n",
    "    all += (str(d[0])+\" \"+str(d[1])+\"\\n\")\n",
    "\n",
    "print(all[:-1]) # 한번에 출력할때 마지막에 \"\\n\"이 추가되는거 제거"
   ]
  },
  {
   "cell_type": "code",
   "execution_count": 15,
   "id": "f15b8ab3",
   "metadata": {},
   "outputs": [
    {
     "name": "stdout",
     "output_type": "stream",
     "text": [
      "2\n",
      "0\n",
      "1 0\n",
      "22\n",
      "10946 17711\n"
     ]
    }
   ],
   "source": [
    "# 3의 0개수= 2의 0개수 + 1의 0개수\n",
    "# 3의 1개수 = 2의 1개수 + 1의 1개수\n",
    "a = int(input())\n",
    "all=\"\"\n",
    "\n",
    "def fibo(x):\n",
    "    if x < 2:\n",
    "        fibo_val[x]=x\n",
    "        return x\n",
    "    if fibo_val[x]==0:\n",
    "        fibo_val[x] = fibo(x-1) + fibo(x-2)  \n",
    "    return fibo_val[x]\n",
    "\n",
    "for i in range(a):\n",
    "    val = int(input())\n",
    "    if val ==0:\n",
    "        print(1,0)\n",
    "        continue\n",
    "    fibo_val = [0] * (val+1)\n",
    "    fibo(val)\n",
    "    print(fibo_val[val-1],fibo_val[val])"
   ]
  },
  {
   "cell_type": "code",
   "execution_count": null,
   "id": "f6e6a212",
   "metadata": {},
   "outputs": [],
   "source": []
  }
 ],
 "metadata": {
  "kernelspec": {
   "display_name": "Python 3",
   "language": "python",
   "name": "python3"
  },
  "language_info": {
   "codemirror_mode": {
    "name": "ipython",
    "version": 3
   },
   "file_extension": ".py",
   "mimetype": "text/x-python",
   "name": "python",
   "nbconvert_exporter": "python",
   "pygments_lexer": "ipython3",
   "version": "3.8.8"
  }
 },
 "nbformat": 4,
 "nbformat_minor": 5
}
