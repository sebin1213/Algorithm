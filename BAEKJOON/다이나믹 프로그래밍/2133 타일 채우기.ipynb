{
 "cells": [
  {
   "cell_type": "code",
   "execution_count": 45,
   "id": "149649dc",
   "metadata": {},
   "outputs": [
    {
     "name": "stdout",
     "output_type": "stream",
     "text": [
      "5\n",
      "0\n"
     ]
    }
   ],
   "source": [
    "n = int(input())\n",
    "\n",
    "li = [0]*(n+1)\n",
    "\n",
    "if n==0:\n",
    "    print(1)\n",
    "elif n==1:\n",
    "    print(0)\n",
    "elif n==2:\n",
    "    print(3)\n",
    "else:\n",
    "    li[0] = 1\n",
    "    li[2] = 3\n",
    "    for i in range(4,n+1,2):\n",
    "        li[i] = li[i-2]*3\n",
    "        for j in range(4,i+1,2):\n",
    "            li[i] += li[i-j]*2\n",
    "    print(li[n])"
   ]
  },
  {
   "cell_type": "code",
   "execution_count": null,
   "id": "83fcd62b",
   "metadata": {},
   "outputs": [],
   "source": []
  }
 ],
 "metadata": {
  "kernelspec": {
   "display_name": "Python 3",
   "language": "python",
   "name": "python3"
  },
  "language_info": {
   "codemirror_mode": {
    "name": "ipython",
    "version": 3
   },
   "file_extension": ".py",
   "mimetype": "text/x-python",
   "name": "python",
   "nbconvert_exporter": "python",
   "pygments_lexer": "ipython3",
   "version": "3.8.8"
  }
 },
 "nbformat": 4,
 "nbformat_minor": 5
}
