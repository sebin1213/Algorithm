{
 "cells": [
  {
   "cell_type": "code",
   "execution_count": 17,
   "id": "09119c21",
   "metadata": {},
   "outputs": [],
   "source": [
    "# 문제\n",
    "# 2×n 크기의 직사각형을 1×2, 2×1 타일로 채우는 방법의 수를 구하는 프로그램을 작성하시오.\n",
    "\n",
    "# 출력\n",
    "# 첫째 줄에 2×n 크기의 직사각형을 채우는 방법의 수를 10,007로 나눈 나머지를 출력한다."
   ]
  },
  {
   "cell_type": "code",
   "execution_count": 2,
   "id": "21843f48",
   "metadata": {},
   "outputs": [],
   "source": [
    "# 점화식\n",
    "# dp[n] = dp[n-1]+dp[n-2]"
   ]
  },
  {
   "cell_type": "code",
   "execution_count": 16,
   "id": "5f6f4c50",
   "metadata": {},
   "outputs": [
    {
     "name": "stdout",
     "output_type": "stream",
     "text": [
      "1000\n",
      "1115\n"
     ]
    }
   ],
   "source": [
    "n = int(input())\n",
    "dp = [0,1,2]\n",
    "for i in range(3,(n+1)):\n",
    "    dp.append(dp[i-1]+dp[i-2])\n",
    "print(dp[n]%10007)"
   ]
  }
 ],
 "metadata": {
  "kernelspec": {
   "display_name": "Python 3",
   "language": "python",
   "name": "python3"
  },
  "language_info": {
   "codemirror_mode": {
    "name": "ipython",
    "version": 3
   },
   "file_extension": ".py",
   "mimetype": "text/x-python",
   "name": "python",
   "nbconvert_exporter": "python",
   "pygments_lexer": "ipython3",
   "version": "3.8.8"
  }
 },
 "nbformat": 4,
 "nbformat_minor": 5
}
