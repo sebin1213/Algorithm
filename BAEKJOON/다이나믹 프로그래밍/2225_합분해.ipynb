{
 "cells": [
  {
   "cell_type": "code",
   "execution_count": null,
   "id": "21d83908",
   "metadata": {},
   "outputs": [],
   "source": [
    "87 65"
   ]
  },
  {
   "cell_type": "code",
   "execution_count": null,
   "id": "b6210ca3",
   "metadata": {},
   "outputs": [],
   "source": [
    "522380750"
   ]
  },
  {
   "cell_type": "code",
   "execution_count": 44,
   "id": "bb7933f1",
   "metadata": {},
   "outputs": [
    {
     "name": "stdout",
     "output_type": "stream",
     "text": [
      "20 2\n"
     ]
    }
   ],
   "source": [
    "n, k = map(int,input().split())"
   ]
  },
  {
   "cell_type": "code",
   "execution_count": 41,
   "id": "8036865e",
   "metadata": {},
   "outputs": [],
   "source": [
    "def b(depth):\n",
    "    global count\n",
    "    if depth==k:\n",
    "        if sum(li)==n:\n",
    "            count+=1\n",
    "        return\n",
    "    \n",
    "    for i in range(n+1):\n",
    "        li.append(i)        \n",
    "        b(depth+1)\n",
    "        li.pop()"
   ]
  },
  {
   "cell_type": "code",
   "execution_count": 42,
   "id": "e63f8d45",
   "metadata": {},
   "outputs": [],
   "source": [
    "n, k = map(int,input().split())\n",
    "li = []\n",
    "count=0\n",
    "b(0)"
   ]
  },
  {
   "cell_type": "code",
   "execution_count": 43,
   "id": "2257f587",
   "metadata": {},
   "outputs": [
    {
     "name": "stdout",
     "output_type": "stream",
     "text": [
      "6\n"
     ]
    }
   ],
   "source": [
    "print(count%1000000000)"
   ]
  },
  {
   "cell_type": "code",
   "execution_count": null,
   "id": "653ddc1f",
   "metadata": {},
   "outputs": [],
   "source": [
    "## 시간초과"
   ]
  },
  {
   "cell_type": "code",
   "execution_count": 71,
   "id": "988d4de7",
   "metadata": {},
   "outputs": [
    {
     "name": "stdout",
     "output_type": "stream",
     "text": [
      "87 65\n"
     ]
    }
   ],
   "source": [
    "n, k = map(int,input().split())\n",
    "li= [[0]*k for i in range(n)]\n",
    "\n",
    "for i in range(n):\n",
    "    li[i][0] = 1\n",
    "for i in range(k):\n",
    "    li[0][i] = i+1"
   ]
  },
  {
   "cell_type": "code",
   "execution_count": 72,
   "id": "aa163b5d",
   "metadata": {},
   "outputs": [
    {
     "name": "stdout",
     "output_type": "stream",
     "text": [
      "522380750\n"
     ]
    }
   ],
   "source": [
    "for i in range(1,n):\n",
    "    for j in range(1,k):\n",
    "        li[i][j] = li[i][j-1]+li[i-1][j]\n",
    "print(li[n-1][k-1]%1000000000)"
   ]
  },
  {
   "cell_type": "code",
   "execution_count": null,
   "id": "c09e84e9",
   "metadata": {},
   "outputs": [],
   "source": []
  },
  {
   "cell_type": "code",
   "execution_count": null,
   "id": "5630ee9f",
   "metadata": {},
   "outputs": [],
   "source": []
  }
 ],
 "metadata": {
  "kernelspec": {
   "display_name": "Python 3",
   "language": "python",
   "name": "python3"
  },
  "language_info": {
   "codemirror_mode": {
    "name": "ipython",
    "version": 3
   },
   "file_extension": ".py",
   "mimetype": "text/x-python",
   "name": "python",
   "nbconvert_exporter": "python",
   "pygments_lexer": "ipython3",
   "version": "3.8.8"
  }
 },
 "nbformat": 4,
 "nbformat_minor": 5
}
