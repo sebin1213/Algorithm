{
 "cells": [
  {
   "cell_type": "code",
   "execution_count": null,
   "id": "538c7c11",
   "metadata": {},
   "outputs": [],
   "source": [
    "4 7\n",
    "\n",
    "6 13\n",
    "4 8\n",
    "3 6\n",
    "5 12"
   ]
  },
  {
   "cell_type": "code",
   "execution_count": null,
   "id": "c3117971",
   "metadata": {},
   "outputs": [],
   "source": [
    "최대값 --> 다이나믹 프로그래밍"
   ]
  },
  {
   "cell_type": "code",
   "execution_count": 89,
   "id": "cea421e3",
   "metadata": {},
   "outputs": [
    {
     "name": "stdout",
     "output_type": "stream",
     "text": [
      "4 7\n",
      "6 13\n",
      "4 8\n",
      "3 6\n",
      "5 12\n",
      "14\n"
     ]
    }
   ],
   "source": [
    "n, k = map(int,input().split())\n",
    "wv = []\n",
    "\n",
    "for i in range(n):\n",
    "    w,v = map(int,input().split())\n",
    "    wv.append([w,v])\n",
    "\n",
    "wv.sort()\n",
    "\n",
    "li=[[0] * (k + 1) for _ in range(n+1)]\n",
    "\n",
    "for j in range(1,n+1):\n",
    "    for i in range(1,k+1):\n",
    "        if wv[j-1][0]<= i:\n",
    "            li[j][i] = max(wv[j-1][1] + li[j-1][i-wv[j-1][0]],li[j-1][i])\n",
    "        else:\n",
    "            li[j][i] = li[j-1][i]\n",
    "print(li[n][k])            "
   ]
  },
  {
   "cell_type": "code",
   "execution_count": 88,
   "id": "8541dbc0",
   "metadata": {},
   "outputs": [
    {
     "data": {
      "text/plain": [
       "[[0, 0, 0, 0, 0, 0, 0, 0],\n",
       " [0, 0, 0, 6, 6, 6, 6, 6],\n",
       " [0, 0, 0, 6, 8, 8, 8, 14],\n",
       " [0, 0, 0, 6, 8, 12, 12, 14],\n",
       " [0, 0, 0, 6, 8, 12, 13, 14]]"
      ]
     },
     "execution_count": 88,
     "metadata": {},
     "output_type": "execute_result"
    }
   ],
   "source": [
    "li"
   ]
  }
 ],
 "metadata": {
  "kernelspec": {
   "display_name": "Python 3",
   "language": "python",
   "name": "python3"
  },
  "language_info": {
   "codemirror_mode": {
    "name": "ipython",
    "version": 3
   },
   "file_extension": ".py",
   "mimetype": "text/x-python",
   "name": "python",
   "nbconvert_exporter": "python",
   "pygments_lexer": "ipython3",
   "version": "3.8.8"
  }
 },
 "nbformat": 4,
 "nbformat_minor": 5
}
