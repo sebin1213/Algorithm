{
 "cells": [
  {
   "cell_type": "code",
   "execution_count": null,
   "id": "37bb42de",
   "metadata": {},
   "outputs": [],
   "source": [
    "# max_grape[0]= 전꺼 마심\n",
    "# max_grape[1]=전꺼 안마심\n",
    "# max_grape[2]= 전전꺼까지 안마심"
   ]
  },
  {
   "cell_type": "code",
   "execution_count": 160,
   "id": "b4c10ab9",
   "metadata": {},
   "outputs": [
    {
     "name": "stdout",
     "output_type": "stream",
     "text": [
      "6\n",
      "6\n",
      "10\n",
      "13\n",
      "9\n",
      "8\n",
      "1\n"
     ]
    }
   ],
   "source": [
    "n=int(input())\n",
    "\n",
    "li=[]\n",
    "for i in range(n):\n",
    "    li.append(int(input()))"
   ]
  },
  {
   "cell_type": "code",
   "execution_count": 169,
   "id": "fcb81301",
   "metadata": {},
   "outputs": [
    {
     "name": "stdout",
     "output_type": "stream",
     "text": [
      "33\n"
     ]
    }
   ],
   "source": [
    "max_grape=[ [0]*n for _ in range(3) ]\n",
    "\n",
    "\n",
    "if n>=1:\n",
    "    max_grape[0][0],max_grape[1][0],max_grape[2][0] = li[0],li[0],li[0]\n",
    "if n>=2:\n",
    "    max_grape[0][1],max_grape[1][1],max_grape[2][1] = (li[1]+li[0]),li[1],li[1]\n",
    "if n>=3:\n",
    "    max_grape[0][2],max_grape[1][2],max_grape[2][2]=max(max_grape[1][1],max_grape[1][2])+li[2],li[2]+max(max_grape[0][0],max_grape[1][0],max_grape[2][0]),li[2]    \n",
    "if n>3:\n",
    "    for i in range(3,n):\n",
    "        max_grape[0][i]=li[i]+max(max_grape[1][i-1],max_grape[2][i-1])\n",
    "        max_grape[1][i]=li[i]+max(max_grape[0][i-2],max_grape[1][i-2],max_grape[2][i-2])\n",
    "        max_grape[2][i]=li[i]+max(max_grape[0][i-3],max_grape[1][i-3],max_grape[2][i-3])\n",
    "print(max(max(max_grape[0]),max(max_grape[1]),max(max_grape[2])))"
   ]
  }
 ],
 "metadata": {
  "kernelspec": {
   "display_name": "Python 3",
   "language": "python",
   "name": "python3"
  },
  "language_info": {
   "codemirror_mode": {
    "name": "ipython",
    "version": 3
   },
   "file_extension": ".py",
   "mimetype": "text/x-python",
   "name": "python",
   "nbconvert_exporter": "python",
   "pygments_lexer": "ipython3",
   "version": "3.8.8"
  }
 },
 "nbformat": 4,
 "nbformat_minor": 5
}
