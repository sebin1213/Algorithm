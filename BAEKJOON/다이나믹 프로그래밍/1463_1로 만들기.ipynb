{
 "cells": [
  {
   "cell_type": "code",
   "execution_count": null,
   "id": "bc0bb167",
   "metadata": {},
   "outputs": [],
   "source": [
    "# 문제\n",
    "# 정수 X에 사용할 수 있는 연산은 다음과 같이 세 가지 이다.\n",
    "\n",
    "# X가 3으로 나누어 떨어지면, 3으로 나눈다.\n",
    "# X가 2로 나누어 떨어지면, 2로 나눈다.\n",
    "# 1을 뺀다.\n",
    "# 정수 N이 주어졌을 때, 위와 같은 연산 세 개를 적절히 사용해서 1을 만들려고 한다. 연산을 사용하는 횟수의 최솟값을 출력하시오.\n",
    "\n",
    "# 입력\n",
    "# 첫째 줄에 1보다 크거나 같고, 106보다 작거나 같은 정수 N이 주어진다.\n",
    "\n",
    "# 출력\n",
    "# 첫째 줄에 연산을 하는 횟수의 최솟값을 출력한다."
   ]
  },
  {
   "cell_type": "code",
   "execution_count": null,
   "id": "9ee99be8",
   "metadata": {},
   "outputs": [],
   "source": [
    "# 점화식 dp(N) = min ( dp(N//3) +1, dp(N//2)+1 , dp(N-1)+1 )\n",
    "\n",
    "# 8을 1로 만든다했을때 8에서 2로 나눠지는 4의 최소횟수에 1만 더하면 8의 최소횟수가 됨\n",
    "# "
   ]
  },
  {
   "cell_type": "code",
   "execution_count": 61,
   "id": "e0a97cd1",
   "metadata": {},
   "outputs": [
    {
     "name": "stdout",
     "output_type": "stream",
     "text": [
      "10\n",
      "3\n"
     ]
    }
   ],
   "source": [
    "n = int(input())\n",
    "mem = [0] * (n+1)\n",
    "\n",
    "for i in range(2, n + 1):\n",
    "    mem[i] = mem[i - 1] + 1\n",
    "    \n",
    "    if i % 3 == 0:\n",
    "        mem[i] = min(mem[i], mem[i // 3] + 1)\n",
    "    if i % 2 == 0:\n",
    "        mem[i] = min(mem[i], mem[i // 2] + 1)\n",
    "print(mem[n])"
   ]
  }
 ],
 "metadata": {
  "kernelspec": {
   "display_name": "Python 3",
   "language": "python",
   "name": "python3"
  },
  "language_info": {
   "codemirror_mode": {
    "name": "ipython",
    "version": 3
   },
   "file_extension": ".py",
   "mimetype": "text/x-python",
   "name": "python",
   "nbconvert_exporter": "python",
   "pygments_lexer": "ipython3",
   "version": "3.8.8"
  }
 },
 "nbformat": 4,
 "nbformat_minor": 5
}
