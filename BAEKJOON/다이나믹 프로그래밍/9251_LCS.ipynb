{
 "cells": [
  {
   "cell_type": "code",
   "execution_count": null,
   "id": "8b59c2e4",
   "metadata": {},
   "outputs": [],
   "source": [
    "    A  C  A  Y  K  P\n",
    "  C 0, 1, 1, 1, 1, 1,\n",
    "  A 1, 1, 2, 2, 2, 2,\n",
    "  P 1, 1, 2, 2, 2, 3,\n",
    "  C 1, 2, 2, 2, 2, 3,\n",
    "  A 1, 2, 3, 3, 3, 3,\n",
    "  K 1, 2, 3, 3, 4, 4\n",
    "\n",
    "x[i][j] = max(x[i-1][j],x[i][j-1])   \n",
    "if x[i][j]==i: \n",
    "    x[i][j]+=1"
   ]
  },
  {
   "cell_type": "code",
   "execution_count": null,
   "id": "08e51b16",
   "metadata": {},
   "outputs": [],
   "source": [
    "ACAYKP\n",
    "CAPCAK"
   ]
  },
  {
   "cell_type": "code",
   "execution_count": null,
   "id": "2f1a7a28",
   "metadata": {},
   "outputs": [],
   "source": [
    "XXXXXF\n",
    "XFXXXQ"
   ]
  },
  {
   "cell_type": "code",
   "execution_count": null,
   "id": "6bc9887a",
   "metadata": {},
   "outputs": [],
   "source": [
    "ACAY\n",
    "\n",
    "CAAY"
   ]
  },
  {
   "cell_type": "code",
   "execution_count": 41,
   "id": "0eb641c9",
   "metadata": {},
   "outputs": [
    {
     "name": "stdout",
     "output_type": "stream",
     "text": [
      "ACAY\n",
      "CAAY\n",
      "3\n"
     ]
    }
   ],
   "source": [
    "x = input()\n",
    "y = input()\n",
    "\n",
    "li = [[0]*(len(x)+1) for _ in range(len(y)+1)]\n",
    "\n",
    "for i in range(1,len(y)+1):\n",
    "    for j in range(1,len(x)+1):\n",
    "        if y[i-1]==x[j-1]: \n",
    "            li[i][j]= li[i-1][j-1] + 1\n",
    "        else:\n",
    "            li[i][j] = max(li[i-1][j],li[i][j-1])   \n",
    "        \n",
    "        \n",
    "print(li[len(y)][len(x)])"
   ]
  },
  {
   "cell_type": "code",
   "execution_count": 42,
   "id": "a262ffa9",
   "metadata": {},
   "outputs": [
    {
     "data": {
      "text/plain": [
       "[[0, 0, 0, 0, 0],\n",
       " [0, 0, 1, 1, 1],\n",
       " [0, 1, 1, 2, 2],\n",
       " [0, 1, 1, 2, 2],\n",
       " [0, 1, 1, 2, 3]]"
      ]
     },
     "execution_count": 42,
     "metadata": {},
     "output_type": "execute_result"
    }
   ],
   "source": [
    "li"
   ]
  },
  {
   "cell_type": "code",
   "execution_count": 32,
   "id": "a201b17b",
   "metadata": {},
   "outputs": [
    {
     "ename": "SyntaxError",
     "evalue": "invalid syntax (<ipython-input-32-c204b3742fda>, line 1)",
     "output_type": "error",
     "traceback": [
      "\u001b[1;36m  File \u001b[1;32m\"<ipython-input-32-c204b3742fda>\"\u001b[1;36m, line \u001b[1;32m1\u001b[0m\n\u001b[1;33m    A  C  A  Y\u001b[0m\n\u001b[1;37m       ^\u001b[0m\n\u001b[1;31mSyntaxError\u001b[0m\u001b[1;31m:\u001b[0m invalid syntax\n"
     ]
    }
   ],
   "source": [
    "    A  C  A  Y\n",
    "  C 0, 1, 1, 1,\n",
    "  A 1, 1, 2, 2,\n",
    "  A 1, 1, 2, 2,\n",
    "  Y 1, 1, 2, 2,"
   ]
  },
  {
   "cell_type": "code",
   "execution_count": null,
   "id": "6420aa82",
   "metadata": {},
   "outputs": [],
   "source": []
  }
 ],
 "metadata": {
  "kernelspec": {
   "display_name": "Python 3",
   "language": "python",
   "name": "python3"
  },
  "language_info": {
   "codemirror_mode": {
    "name": "ipython",
    "version": 3
   },
   "file_extension": ".py",
   "mimetype": "text/x-python",
   "name": "python",
   "nbconvert_exporter": "python",
   "pygments_lexer": "ipython3",
   "version": "3.8.8"
  }
 },
 "nbformat": 4,
 "nbformat_minor": 5
}
