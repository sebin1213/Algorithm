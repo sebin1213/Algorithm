{
 "cells": [
  {
   "cell_type": "code",
   "execution_count": 1,
   "id": "a7675942",
   "metadata": {},
   "outputs": [],
   "source": [
    "# 백트레킹 - DFS"
   ]
  },
  {
   "cell_type": "code",
   "execution_count": 2,
   "id": "67c95cb1",
   "metadata": {},
   "outputs": [],
   "source": [
    "# 첫째 줄에 퀸 N개를 서로 공격할 수 없게 놓는 경우의 수를 출력한다."
   ]
  },
  {
   "cell_type": "code",
   "execution_count": 122,
   "id": "432d9772",
   "metadata": {},
   "outputs": [
    {
     "data": {
      "text/plain": [
       "[0, 0, 0, 0, 0, 0, 0, 0]"
      ]
     },
     "execution_count": 122,
     "metadata": {},
     "output_type": "execute_result"
    }
   ],
   "source": [
    "graph"
   ]
  },
  {
   "cell_type": "code",
   "execution_count": 165,
   "id": "ffdd0ecf",
   "metadata": {},
   "outputs": [],
   "source": [
    "def dfs(depth):\n",
    "    global count\n",
    "    if depth == n:\n",
    "        count += 1\n",
    "        return\n",
    "    \n",
    "    for i in range(n):\n",
    "        if visited[i]==0: # 해당 자리에 퀸이 존재하는지 확인\n",
    "            \n",
    "            graph[depth] = i # 각 행마다 위치하는 퀸의 자리\n",
    "            \n",
    "            t=True\n",
    "            for j in range(depth):   # graph의 개수만큼 for문을 돌려야하지만 어차피 depth랑 개수 똑같음\n",
    "                if abs(graph[depth]-graph[j])==abs(depth-j):\n",
    "                    t=False\n",
    "                    break\n",
    "            if t:\n",
    "                print(graph,depth)\n",
    "                visited[i] = 1\n",
    "                dfs(depth+1)\n",
    "                visited[i] = 0            "
   ]
  },
  {
   "cell_type": "code",
   "execution_count": 166,
   "id": "c7b39a95",
   "metadata": {},
   "outputs": [
    {
     "name": "stdout",
     "output_type": "stream",
     "text": [
      "4\n",
      "[0, 0, 0, 0] 0\n",
      "[0, 2, 0, 0] 1\n",
      "[0, 3, 3, 0] 1\n",
      "[0, 3, 1, 0] 2\n",
      "[1, 3, 2, 2] 0\n",
      "[1, 3, 2, 2] 1\n",
      "[1, 3, 0, 2] 2\n",
      "[1, 3, 0, 2] 3\n",
      "[2, 3, 2, 2] 0\n",
      "[2, 0, 2, 2] 1\n",
      "[2, 0, 3, 2] 2\n",
      "[2, 0, 3, 1] 3\n",
      "[3, 3, 3, 1] 0\n",
      "[3, 0, 3, 1] 1\n",
      "[3, 0, 2, 1] 2\n",
      "[3, 1, 2, 1] 1\n"
     ]
    }
   ],
   "source": [
    "n = int(input())\n",
    "\n",
    "graph = [0]*n\n",
    "visited = [0]*n\n",
    "\n",
    "count=0\n",
    "dfs(0)"
   ]
  },
  {
   "cell_type": "code",
   "execution_count": 164,
   "id": "cee0a38a",
   "metadata": {},
   "outputs": [
    {
     "data": {
      "text/plain": [
       "92"
      ]
     },
     "execution_count": 164,
     "metadata": {},
     "output_type": "execute_result"
    }
   ],
   "source": [
    "count"
   ]
  },
  {
   "cell_type": "code",
   "execution_count": null,
   "id": "64167967",
   "metadata": {},
   "outputs": [],
   "source": []
  },
  {
   "cell_type": "code",
   "execution_count": null,
   "id": "dcbcdf20",
   "metadata": {},
   "outputs": [],
   "source": []
  },
  {
   "cell_type": "code",
   "execution_count": null,
   "id": "74549510",
   "metadata": {},
   "outputs": [],
   "source": []
  }
 ],
 "metadata": {
  "kernelspec": {
   "display_name": "Python 3",
   "language": "python",
   "name": "python3"
  },
  "language_info": {
   "codemirror_mode": {
    "name": "ipython",
    "version": 3
   },
   "file_extension": ".py",
   "mimetype": "text/x-python",
   "name": "python",
   "nbconvert_exporter": "python",
   "pygments_lexer": "ipython3",
   "version": "3.8.8"
  }
 },
 "nbformat": 4,
 "nbformat_minor": 5
}
