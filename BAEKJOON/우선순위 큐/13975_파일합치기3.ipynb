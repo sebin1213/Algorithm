{
 "cells": [
  {
   "cell_type": "code",
   "execution_count": 1,
   "id": "5346c057",
   "metadata": {},
   "outputs": [],
   "source": [
    "import heapq"
   ]
  },
  {
   "cell_type": "code",
   "execution_count": 4,
   "id": "fea67478",
   "metadata": {},
   "outputs": [
    {
     "name": "stdout",
     "output_type": "stream",
     "text": [
      "1\n",
      "2\n",
      "10 20\n",
      "30\n"
     ]
    }
   ],
   "source": [
    "n= int(input())\n",
    "for i in range(n):\n",
    "    li=[]\n",
    "    result=0\n",
    "    num = int(input())\n",
    "    f_list = list(map(int,input().split(' ')))\n",
    "    for i in f_list:\n",
    "        heapq.heappush(li,i)\n",
    "\n",
    "    while len(li)>1:\n",
    "        min_val1 = heapq.heappop(li)\n",
    "        min_val2 = heapq.heappop(li)\n",
    "\n",
    "        val = min_val1 + min_val2\n",
    "        result += val\n",
    "        heapq.heappush(li,val)\n",
    "    print(result)"
   ]
  }
 ],
 "metadata": {
  "kernelspec": {
   "display_name": "Python 3",
   "language": "python",
   "name": "python3"
  },
  "language_info": {
   "codemirror_mode": {
    "name": "ipython",
    "version": 3
   },
   "file_extension": ".py",
   "mimetype": "text/x-python",
   "name": "python",
   "nbconvert_exporter": "python",
   "pygments_lexer": "ipython3",
   "version": "3.8.8"
  }
 },
 "nbformat": 4,
 "nbformat_minor": 5
}
