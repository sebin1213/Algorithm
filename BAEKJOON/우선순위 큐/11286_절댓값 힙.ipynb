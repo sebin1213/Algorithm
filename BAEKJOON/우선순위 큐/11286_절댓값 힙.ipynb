{
 "cells": [
  {
   "cell_type": "code",
   "execution_count": 11,
   "id": "5bac4f84",
   "metadata": {},
   "outputs": [
    {
     "name": "stdout",
     "output_type": "stream",
     "text": [
      "4\n",
      "-1\n",
      "1\n",
      "0\n",
      "-1\n",
      "0\n",
      "1\n"
     ]
    }
   ],
   "source": [
    "import heapq\n",
    "import sys\n",
    "heap=[]\n",
    "di = {}\n",
    "n = int(sys.stdin.readline())\n",
    "for i in range(n):\n",
    "    val = int(sys.stdin.readline())\n",
    "    if val > 0:\n",
    "        heapq.heappush(heap,val)\n",
    "    elif val < 0:\n",
    "        val*=-1\n",
    "        if val not in di:\n",
    "            di[val]=1\n",
    "        else:\n",
    "            di[val]+=1\n",
    "        heapq.heappush(heap,val)\n",
    "    else:\n",
    "        if heap==[]:\n",
    "            print(0)\n",
    "            continue\n",
    "        num = heapq.heappop(heap)\n",
    "        if num not in di:\n",
    "            print(num)\n",
    "        else:\n",
    "            if di[num]>0:\n",
    "                di[num]-=1\n",
    "                print(-num)\n",
    "            else:\n",
    "                print(num)"
   ]
  },
  {
   "cell_type": "code",
   "execution_count": null,
   "id": "32bb2342",
   "metadata": {},
   "outputs": [],
   "source": []
  }
 ],
 "metadata": {
  "kernelspec": {
   "display_name": "Python 3",
   "language": "python",
   "name": "python3"
  },
  "language_info": {
   "codemirror_mode": {
    "name": "ipython",
    "version": 3
   },
   "file_extension": ".py",
   "mimetype": "text/x-python",
   "name": "python",
   "nbconvert_exporter": "python",
   "pygments_lexer": "ipython3",
   "version": "3.8.8"
  }
 },
 "nbformat": 4,
 "nbformat_minor": 5
}
