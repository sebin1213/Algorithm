{
 "cells": [
  {
   "cell_type": "code",
   "execution_count": null,
   "id": "94423b61",
   "metadata": {},
   "outputs": [],
   "source": [
    "import heapq\n",
    "import sys\n",
    "n = int(sys.stdin.readline())\n",
    "heap = []\n",
    "\n",
    "for i in range(n):\n",
    "    val = int(sys.stdin.readline())\n",
    "    heapq.heappush(heap,-val)\n",
    "    if val==0:\n",
    "        print(-heapq.heappop(heap))"
   ]
  }
 ],
 "metadata": {
  "kernelspec": {
   "display_name": "Python 3",
   "language": "python",
   "name": "python3"
  },
  "language_info": {
   "codemirror_mode": {
    "name": "ipython",
    "version": 3
   },
   "file_extension": ".py",
   "mimetype": "text/x-python",
   "name": "python",
   "nbconvert_exporter": "python",
   "pygments_lexer": "ipython3",
   "version": "3.8.8"
  }
 },
 "nbformat": 4,
 "nbformat_minor": 5
}
