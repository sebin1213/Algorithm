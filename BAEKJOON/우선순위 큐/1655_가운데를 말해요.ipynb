{
 "cells": [
  {
   "cell_type": "code",
   "execution_count": null,
   "id": "856edbb9",
   "metadata": {},
   "outputs": [],
   "source": [
    "# 예전 풀이 sort 사용 - 실패"
   ]
  },
  {
   "cell_type": "code",
   "execution_count": null,
   "id": "7d129f73",
   "metadata": {},
   "outputs": [],
   "source": [
    "import sys\n",
    "n = int(sys.stdin.readline())\n",
    "\n",
    "li=[]\n",
    "x = int(sys.stdin.readline())\n",
    "print(x)\n",
    "li.append(x)\n",
    "\n",
    "for i in range(1,n):\n",
    "    li.append(int(sys.stdin.readline()))\n",
    "    li.sort()\n",
    "    print(li[(len(li)+1)//2-1])"
   ]
  },
  {
   "cell_type": "code",
   "execution_count": null,
   "id": "64519d52",
   "metadata": {},
   "outputs": [],
   "source": [
    "# 우선순위 큐 공부하고도 못풀겠어서 어떻게 푸는지 참고하고 푼 풀이"
   ]
  },
  {
   "cell_type": "code",
   "execution_count": null,
   "id": "bb4d3d70",
   "metadata": {},
   "outputs": [],
   "source": [
    "import heapq, sys\n",
    "\n",
    "l_heap, r_heap = [],[]\n",
    "n=int(sys.stdin.readline())\n",
    "m=int(sys.stdin.readline())\n",
    "print(m)\n",
    "for _ in range(n-1):\n",
    "    i = int(sys.stdin.readline())\n",
    "    if m < i:\n",
    "        heapq.heappush(r_heap,i)\n",
    "        if len(r_heap) > len(l_heap)+1:\n",
    "            heapq.heappush(l_heap, -m)\n",
    "            m = heapq.heappop(r_heap)\n",
    "    else:\n",
    "        heapq.heappush(l_heap,m)\n",
    "        if len(r_heap) < len(l_heap): # 중간값이 여러개일때 왼쪽 리스트에 들어가야하기 때문에\n",
    "            heapq.heappush(r_heap, m)\n",
    "            m = heapq.heappop(l_heap)\n",
    "    print(m)"
   ]
  },
  {
   "cell_type": "code",
   "execution_count": 32,
   "id": "809d0dd4",
   "metadata": {},
   "outputs": [
    {
     "name": "stdout",
     "output_type": "stream",
     "text": [
      "2\n",
      "2\n",
      "2\n",
      "1\n",
      "[-1]\n",
      "1\n"
     ]
    }
   ],
   "source": [
    "import heapq\n",
    "import sys\n",
    "\n",
    "l_heap, r_heap = [],[]\n",
    "n=int(sys.stdin.readline())\n",
    "m=int(sys.stdin.readline())\n",
    "print(m)\n",
    "for _ in range(n-1):\n",
    "    i = int(sys.stdin.readline())\n",
    "    if m < i:\n",
    "        heapq.heappush(r_heap,i)\n",
    "        if len(r_heap) > len(l_heap)+1:\n",
    "            heapq.heappush(l_heap, -m)\n",
    "            m = heapq.heappop(r_heap)\n",
    "    else:\n",
    "        heapq.heappush(l_heap,-i)\n",
    "        if len(r_heap) < len(l_heap): # 중간값이 여러개일때 왼쪽 리스트에 들어가야하기 때문에\n",
    "            heapq.heappush(r_heap, m)\n",
    "            m = -heapq.heappop(l_heap)\n",
    "    print(m)"
   ]
  },
  {
   "cell_type": "code",
   "execution_count": null,
   "id": "0cc71f94",
   "metadata": {},
   "outputs": [],
   "source": []
  }
 ],
 "metadata": {
  "kernelspec": {
   "display_name": "Python 3",
   "language": "python",
   "name": "python3"
  },
  "language_info": {
   "codemirror_mode": {
    "name": "ipython",
    "version": 3
   },
   "file_extension": ".py",
   "mimetype": "text/x-python",
   "name": "python",
   "nbconvert_exporter": "python",
   "pygments_lexer": "ipython3",
   "version": "3.8.8"
  }
 },
 "nbformat": 4,
 "nbformat_minor": 5
}
