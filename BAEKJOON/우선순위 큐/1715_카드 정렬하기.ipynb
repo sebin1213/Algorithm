{
 "cells": [
  {
   "cell_type": "code",
   "execution_count": 38,
   "id": "07ef5e24",
   "metadata": {
    "scrolled": true
   },
   "outputs": [
    {
     "name": "stdout",
     "output_type": "stream",
     "text": [
      "1\n",
      "30\n"
     ]
    }
   ],
   "source": [
    "import heapq,sys\n",
    "\n",
    "sum_min=0\n",
    "heap = []\n",
    "n=int(input())\n",
    "for _ in range(n):\n",
    "    heapq.heappush(heap,int(input()))"
   ]
  },
  {
   "cell_type": "code",
   "execution_count": 39,
   "id": "b580933b",
   "metadata": {},
   "outputs": [
    {
     "name": "stdout",
     "output_type": "stream",
     "text": [
      "30\n"
     ]
    }
   ],
   "source": [
    "len_h= len(heap)\n",
    "if len_h==1:\n",
    "    print(0)\n",
    "elif len_h==2:\n",
    "    print(sum(heap))\n",
    "else:\n",
    "    while 1:\n",
    "        min1 = heapq.heappop(heap)\n",
    "        min2 = heapq.heappop(heap)\n",
    "        sum_min += (min1+min2)\n",
    "        if len(heap)==0:\n",
    "            break\n",
    "        heapq.heappush(heap,min1+min2)\n",
    "    print(sum_min)"
   ]
  },
  {
   "cell_type": "code",
   "execution_count": null,
   "id": "32640a62",
   "metadata": {},
   "outputs": [],
   "source": [
    "## 제출 코드"
   ]
  },
  {
   "cell_type": "code",
   "execution_count": null,
   "id": "247ec3c9",
   "metadata": {},
   "outputs": [],
   "source": [
    "import heapq,sys\n",
    "sum_min=0\n",
    "heap = []\n",
    "n=int(sys.stdin.readline())\n",
    "for _ in range(n):\n",
    "    heapq.heappush(heap,int(sys.stdin.readline()))\n",
    "\n",
    "len_h= len(heap)\n",
    "if len_h==1:\n",
    "    print(0)\n",
    "elif len_h==2:\n",
    "    print(sum(heap))\n",
    "else:\n",
    "    while 1:\n",
    "        min1 = heapq.heappop(heap)\n",
    "        min2 = heapq.heappop(heap)\n",
    "        sum_min += (min1+min2)\n",
    "        if len(heap)==0:\n",
    "            break\n",
    "        heapq.heappush(heap,min1+min2)\n",
    "    print(sum_min)"
   ]
  }
 ],
 "metadata": {
  "kernelspec": {
   "display_name": "Python 3",
   "language": "python",
   "name": "python3"
  },
  "language_info": {
   "codemirror_mode": {
    "name": "ipython",
    "version": 3
   },
   "file_extension": ".py",
   "mimetype": "text/x-python",
   "name": "python",
   "nbconvert_exporter": "python",
   "pygments_lexer": "ipython3",
   "version": "3.8.8"
  }
 },
 "nbformat": 4,
 "nbformat_minor": 5
}
