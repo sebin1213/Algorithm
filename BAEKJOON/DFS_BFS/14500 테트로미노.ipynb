{
 "cells": [
  {
   "cell_type": "code",
   "execution_count": null,
   "id": "7c394a6a",
   "metadata": {},
   "outputs": [],
   "source": [
    "# pypy3으로 제출"
   ]
  },
  {
   "cell_type": "code",
   "execution_count": 30,
   "id": "496b0f7f",
   "metadata": {
    "scrolled": true
   },
   "outputs": [
    {
     "name": "stdout",
     "output_type": "stream",
     "text": [
      "5 5\n"
     ]
    }
   ],
   "source": [
    "n, m = map(int,input().split())"
   ]
  },
  {
   "cell_type": "code",
   "execution_count": 31,
   "id": "f11d45c9",
   "metadata": {},
   "outputs": [
    {
     "name": "stdout",
     "output_type": "stream",
     "text": [
      "1 2 3 4 5\n",
      "5 4 3 2 1\n",
      "2 3 4 5 6\n",
      "6 5 4 3 2\n",
      "1 2 1 2 1\n"
     ]
    }
   ],
   "source": [
    "li=[]\n",
    "for i in range(n):\n",
    "    li.append(list(map(int,input().split())))"
   ]
  },
  {
   "cell_type": "code",
   "execution_count": 92,
   "id": "25a418fb",
   "metadata": {},
   "outputs": [],
   "source": [
    "#상하좌우\n",
    "dx = [0,0,-1,1]\n",
    "dy = [-1,1,0,0]\n",
    "\n",
    "def dfs(depth,total,nx,ny):\n",
    "    global max_val\n",
    "    \n",
    "    if depth==3:\n",
    "        max_val = max(max_val,total)\n",
    "        return\n",
    "    \n",
    "    for i in range(4):\n",
    "        c = nx + dx[i]\n",
    "        r = ny + dy[i]\n",
    "        if 0 <= r < n and 0 <= c < m and visited[r][c]==0:\n",
    "            visited[r][c]=1\n",
    "            dfs(depth+1, total+li[r][c], c, r)\n",
    "            visited[r][c]=0            "
   ]
  },
  {
   "cell_type": "code",
   "execution_count": 93,
   "id": "c37ec1c3",
   "metadata": {},
   "outputs": [],
   "source": [
    "max_val=-1e9\n",
    "visited = [[0]*m for i in range(n)]\n",
    "\n",
    "for y in range(n):\n",
    "    for x in range(m):\n",
    "        visited[y][x]=1\n",
    "        dfs(0,li[y][x],x,y)\n",
    "        visited[y][x]=0"
   ]
  },
  {
   "cell_type": "code",
   "execution_count": 95,
   "id": "75f62d1a",
   "metadata": {},
   "outputs": [],
   "source": [
    "if m >= 3: # ㅓ ㅏ  모양\n",
    "    for i in range(1,n-1):\n",
    "        for j in range(1,m):\n",
    "            max_val = max(li[i][j-1]+li[i][j]+li[i-1][j]+li[i+1][j],max_val) # ㅓ\n",
    "            max_val = max(li[i-1][j-1]+li[i][j-1]+li[i+1][j-1]+ li[i][j],max_val) # ㅏ    \n",
    "if m>=2: # ㅗ ㅜ  모양\n",
    "    for i in range(1,n):\n",
    "        for j in range(1,m-1):\n",
    "            max_val = max(li[i-1][j]+li[i][j-1]+li[i][j]+li[i][j+1],max_val) # ㅗ\n",
    "            max_val = max(li[i-1][j-1]+li[i-1][j]+li[i-1][j+1]+ li[i][j],max_val) # ㅜ            "
   ]
  },
  {
   "cell_type": "code",
   "execution_count": 96,
   "id": "022496a0",
   "metadata": {
    "scrolled": true
   },
   "outputs": [
    {
     "name": "stdout",
     "output_type": "stream",
     "text": [
      "19\n"
     ]
    }
   ],
   "source": [
    "print(max_val)"
   ]
  },
  {
   "cell_type": "code",
   "execution_count": null,
   "id": "ae98ac1e",
   "metadata": {},
   "outputs": [],
   "source": []
  }
 ],
 "metadata": {
  "kernelspec": {
   "display_name": "Python 3",
   "language": "python",
   "name": "python3"
  },
  "language_info": {
   "codemirror_mode": {
    "name": "ipython",
    "version": 3
   },
   "file_extension": ".py",
   "mimetype": "text/x-python",
   "name": "python",
   "nbconvert_exporter": "python",
   "pygments_lexer": "ipython3",
   "version": "3.8.8"
  }
 },
 "nbformat": 4,
 "nbformat_minor": 5
}
