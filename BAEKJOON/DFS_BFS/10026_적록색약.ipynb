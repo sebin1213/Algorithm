{
 "cells": [
  {
   "cell_type": "code",
   "execution_count": 7,
   "id": "e6712445",
   "metadata": {},
   "outputs": [
    {
     "name": "stdout",
     "output_type": "stream",
     "text": [
      "2\n",
      "RG\n",
      "BR\n"
     ]
    }
   ],
   "source": [
    "import sys\n",
    "sys.setrecursionlimit(100000)\n",
    "\n",
    "n= int(input())\n",
    "\n",
    "li=[]\n",
    "for _ in range(n):\n",
    "    li.append(list(input()))"
   ]
  },
  {
   "cell_type": "code",
   "execution_count": 8,
   "id": "b66b2a45",
   "metadata": {},
   "outputs": [],
   "source": [
    "dx = [0,0,-1,1]\n",
    "dy = [-1,1,0,0]\n",
    "\n",
    "def dfs(color,r,c):\n",
    "    global t\n",
    "    if 0 <= r < n and 0 <= c < n:\n",
    "        if visited[r][c]==0:\n",
    "            if li[r][c]==color:\n",
    "                visited[r][c] = 1\n",
    "                for i in range(4):\n",
    "                    dfs(li[r][c],r + dx[i],c + dy[i])\n",
    "                    t = True"
   ]
  },
  {
   "cell_type": "code",
   "execution_count": 9,
   "id": "be9050e5",
   "metadata": {},
   "outputs": [
    {
     "name": "stdout",
     "output_type": "stream",
     "text": [
      "4 2\n"
     ]
    }
   ],
   "source": [
    "\n",
    "count=0\n",
    "visited = [[0]*n for i in range(n)]\n",
    "for i in range(n):\n",
    "    for j in range(n):\n",
    "        t=False\n",
    "        dfs(li[i][j],i,j)\n",
    "        if t:\n",
    "            count += 1\n",
    "        if li[i][j]=='G':\n",
    "            li[i][j]='R'\n",
    "            \n",
    "print(count, end=' ')\n",
    "\n",
    "count=0\n",
    "visited = [[0]*n for i in range(n)]\n",
    "for i in range(n):\n",
    "    for j in range(n):\n",
    "        t=False\n",
    "        dfs(li[i][j],i,j)\n",
    "        if t:\n",
    "            count += 1\n",
    "print(count)"
   ]
  },
  {
   "cell_type": "code",
   "execution_count": null,
   "id": "3a3d3c67",
   "metadata": {},
   "outputs": [],
   "source": []
  },
  {
   "cell_type": "code",
   "execution_count": null,
   "id": "43229943",
   "metadata": {},
   "outputs": [],
   "source": []
  }
 ],
 "metadata": {
  "kernelspec": {
   "display_name": "Python 3",
   "language": "python",
   "name": "python3"
  },
  "language_info": {
   "codemirror_mode": {
    "name": "ipython",
    "version": 3
   },
   "file_extension": ".py",
   "mimetype": "text/x-python",
   "name": "python",
   "nbconvert_exporter": "python",
   "pygments_lexer": "ipython3",
   "version": "3.8.8"
  }
 },
 "nbformat": 4,
 "nbformat_minor": 5
}
