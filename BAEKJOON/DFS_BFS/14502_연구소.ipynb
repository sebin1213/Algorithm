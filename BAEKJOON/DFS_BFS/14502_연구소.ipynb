{
 "cells": [
  {
   "cell_type": "code",
   "execution_count": 1,
   "id": "d9610ab2",
   "metadata": {},
   "outputs": [],
   "source": [
    "def virus_bfs(r,c):\n",
    "    if 0 <= r < n and 0 <= c < m:\n",
    "        if visited[r][c]==0 and li[r][c]==0:\n",
    "            for i in range(4):\n",
    "                visited[r][c]=1\n",
    "                virus_bfs(r+dy[i],c+dx[i])"
   ]
  },
  {
   "cell_type": "code",
   "execution_count": 2,
   "id": "8dfe8e50",
   "metadata": {},
   "outputs": [],
   "source": [
    "def choice():\n",
    "    for i in range(len(li)):\n",
    "        for j in range(len(li[i])):\n",
    "            if li[i][j]==2:\n",
    "                visited[i][j]=1\n",
    "                for x in range(4):\n",
    "                    virus_bfs(i+dy[x],j+dx[x])"
   ]
  },
  {
   "cell_type": "code",
   "execution_count": 3,
   "id": "e1d37f40",
   "metadata": {},
   "outputs": [],
   "source": [
    "def count_zero():\n",
    "    all_count = 0\n",
    "    for i in range(n):\n",
    "        for j in range(m):\n",
    "            if li[i][j]!=1 and visited[i][j]==0:\n",
    "                all_count += 1\n",
    "    return all_count"
   ]
  },
  {
   "cell_type": "code",
   "execution_count": 4,
   "id": "e2f9b539",
   "metadata": {},
   "outputs": [],
   "source": [
    "def dfs(depth):\n",
    "    global max_val\n",
    "    global visited    \n",
    "    \n",
    "    if depth == 3:\n",
    "        visited = [[0]*m for _ in range(n)]\n",
    "        choice()        \n",
    "        max_val = max(max_val,count_zero())\n",
    "        return\n",
    "    \n",
    "    for r in range(n):\n",
    "        for c in range(m):\n",
    "            if li[r][c]==0:\n",
    "                li[r][c]=1\n",
    "                dfs(depth+1)\n",
    "                li[r][c]=0        \n"
   ]
  },
  {
   "cell_type": "code",
   "execution_count": 11,
   "id": "21805b1d",
   "metadata": {},
   "outputs": [
    {
     "name": "stdout",
     "output_type": "stream",
     "text": [
      "7 7\n",
      "2 0 0 0 1 1 0\n",
      "0 0 1 0 1 2 0\n",
      "0 1 1 0 1 0 0\n",
      "0 1 0 0 0 0 0\n",
      "0 0 0 0 0 1 1\n",
      "0 1 0 0 0 0 0\n",
      "0 1 0 0 0 0 0\n"
     ]
    }
   ],
   "source": [
    "n,m = map(int,input().split())\n",
    "li=[]\n",
    "\n",
    "for _ in range(n):\n",
    "    li.append(list(map(int,input().split())))\n",
    "    \n",
    "dx = [0,0,-1,1]\n",
    "dy = [-1,1,0,0]\n",
    "max_val = -1e9\n",
    "visited = [[0]*m for _ in range(n)]"
   ]
  },
  {
   "cell_type": "code",
   "execution_count": 5,
   "id": "d23087e2",
   "metadata": {},
   "outputs": [
    {
     "name": "stdout",
     "output_type": "stream",
     "text": [
      "7 7\n"
     ]
    }
   ],
   "source": [
    "n,m = map(int,input().split())\n",
    "li=[]\n",
    "\n",
    "li = [[2, 0, 0, 0, 1, 1, 0], [0, 0, 1, 0, 1, 2, 0], [0, 1, 1, 0, 1, 0, 0], [0, 1, 0, 0, 0, 0, 0], [0, 0, 0, 0, 0, 1, 1], [0, 1, 0, 0, 0, 0, 0], [0, 1, 0, 0, 0, 0, 0]]\n",
    "\n",
    "dx = [0,0,-1,1]\n",
    "dy = [-1,1,0,0]\n",
    "max_val = -1e9"
   ]
  },
  {
   "cell_type": "code",
   "execution_count": 6,
   "id": "4383fb63",
   "metadata": {},
   "outputs": [],
   "source": [
    "visited = [[0]*m for _ in range(n)]\n",
    "dfs(0)"
   ]
  },
  {
   "cell_type": "code",
   "execution_count": 7,
   "id": "82ae591e",
   "metadata": {},
   "outputs": [
    {
     "data": {
      "text/plain": [
       "27"
      ]
     },
     "execution_count": 7,
     "metadata": {},
     "output_type": "execute_result"
    }
   ],
   "source": [
    "max_val"
   ]
  },
  {
   "cell_type": "code",
   "execution_count": null,
   "id": "843741bd",
   "metadata": {},
   "outputs": [],
   "source": [
    "## pypy3 제출\n",
    "\n",
    "def virus_bfs(r,c):\n",
    "    if 0 <= r < n and 0 <= c < m:\n",
    "        if visited[r][c]==0 and li[r][c]==0:\n",
    "            for i in range(4):\n",
    "                visited[r][c]=1\n",
    "                virus_bfs(r+dy[i],c+dx[i])\n",
    "\n",
    "def choice():\n",
    "    for i in range(len(li)):\n",
    "        for j in range(len(li[i])):\n",
    "            if li[i][j]==2:\n",
    "                visited[i][j]=1\n",
    "                for x in range(4):\n",
    "                    virus_bfs(i+dy[x],j+dx[x])\n",
    "\n",
    "def count_zero():\n",
    "    all_count = 0\n",
    "    for i in range(n):\n",
    "        for j in range(m):\n",
    "            if li[i][j]!=1 and visited[i][j]==0:\n",
    "                all_count += 1\n",
    "    return all_count\n",
    "\n",
    "def dfs(depth):\n",
    "    global max_val\n",
    "    global visited    \n",
    "    \n",
    "    if depth == 3:\n",
    "        visited = [[0]*m for _ in range(n)]\n",
    "        choice()        \n",
    "        max_val = max(max_val,count_zero())\n",
    "        return\n",
    "    \n",
    "    for r in range(n):\n",
    "        for c in range(m):\n",
    "            if li[r][c]==0:\n",
    "                li[r][c]=1\n",
    "                dfs(depth+1)\n",
    "                li[r][c]=0        \n",
    "\n",
    "\n",
    "n,m = map(int,input().split())\n",
    "li=[]\n",
    "\n",
    "for _ in range(n):\n",
    "    li.append(list(map(int,input().split())))\n",
    "    \n",
    "dx = [0,0,-1,1]\n",
    "dy = [-1,1,0,0]\n",
    "max_val = -1e9\n",
    "visited = [[0]*m for _ in range(n)]\n",
    "dfs(0)\n",
    "print(max_val)"
   ]
  }
 ],
 "metadata": {
  "kernelspec": {
   "display_name": "Python 3",
   "language": "python",
   "name": "python3"
  },
  "language_info": {
   "codemirror_mode": {
    "name": "ipython",
    "version": 3
   },
   "file_extension": ".py",
   "mimetype": "text/x-python",
   "name": "python",
   "nbconvert_exporter": "python",
   "pygments_lexer": "ipython3",
   "version": "3.8.8"
  }
 },
 "nbformat": 4,
 "nbformat_minor": 5
}
