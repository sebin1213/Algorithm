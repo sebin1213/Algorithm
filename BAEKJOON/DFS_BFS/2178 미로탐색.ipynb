{
 "cells": [
  {
   "cell_type": "code",
   "execution_count": null,
   "id": "e100ddf1",
   "metadata": {},
   "outputs": [],
   "source": [
    "4 6\n",
    "101111\n",
    "101010\n",
    "101011\n",
    "111011"
   ]
  },
  {
   "cell_type": "code",
   "execution_count": 2,
   "id": "c0b0e034",
   "metadata": {
    "scrolled": true
   },
   "outputs": [
    {
     "name": "stdout",
     "output_type": "stream",
     "text": [
      "4 6\n"
     ]
    }
   ],
   "source": [
    "a,b = map(int,input().split())"
   ]
  },
  {
   "cell_type": "code",
   "execution_count": 10,
   "id": "a231e7c2",
   "metadata": {},
   "outputs": [
    {
     "name": "stdout",
     "output_type": "stream",
     "text": [
      "101111\n",
      "101010\n",
      "101011\n",
      "111011\n"
     ]
    }
   ],
   "source": [
    "li=[]\n",
    "for _ in range(a):\n",
    "    li.append(list(map(int, input())))"
   ]
  },
  {
   "cell_type": "code",
   "execution_count": 25,
   "id": "8e17f6e8",
   "metadata": {},
   "outputs": [],
   "source": [
    "from collections import deque\n",
    "dx = [0,0,-1,1]\n",
    "dy = [-1,1,0,0]\n",
    "\n",
    "queue = deque()\n",
    "queue.append((0, 0))\n",
    "# 큐가 빌 때까지 반복하기\n",
    "while queue:\n",
    "    r, c = queue.popleft()\n",
    "    for i in range(4):\n",
    "        ny = r + dy[i]\n",
    "        nx = c + dx[i]\n",
    "#         범위에서 벗어나거나 벽일경우\n",
    "        if nx < 0 or nx >= b or ny < 0 or ny >= a or li[ny][nx]==0:\n",
    "            continue\n",
    "        if li[ny][nx]==1:\n",
    "            li[ny][nx] = li[r][c]+1\n",
    "            queue.append((ny, nx))"
   ]
  },
  {
   "cell_type": "code",
   "execution_count": 26,
   "id": "17d5d118",
   "metadata": {},
   "outputs": [
    {
     "data": {
      "text/plain": [
       "[[3, 0, 9, 10, 11, 12],\n",
       " [2, 0, 8, 0, 12, 0],\n",
       " [3, 0, 7, 0, 13, 14],\n",
       " [4, 5, 6, 0, 14, 15]]"
      ]
     },
     "execution_count": 26,
     "metadata": {},
     "output_type": "execute_result"
    }
   ],
   "source": [
    "print(li[a-1][b-1])"
   ]
  },
  {
   "cell_type": "code",
   "execution_count": null,
   "id": "88acb28c",
   "metadata": {},
   "outputs": [],
   "source": []
  }
 ],
 "metadata": {
  "kernelspec": {
   "display_name": "Python 3",
   "language": "python",
   "name": "python3"
  },
  "language_info": {
   "codemirror_mode": {
    "name": "ipython",
    "version": 3
   },
   "file_extension": ".py",
   "mimetype": "text/x-python",
   "name": "python",
   "nbconvert_exporter": "python",
   "pygments_lexer": "ipython3",
   "version": "3.8.8"
  }
 },
 "nbformat": 4,
 "nbformat_minor": 5
}
