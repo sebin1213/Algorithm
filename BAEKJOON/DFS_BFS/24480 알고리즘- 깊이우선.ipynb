{
 "cells": [
  {
   "cell_type": "code",
   "execution_count": null,
   "id": "145aa59e",
   "metadata": {},
   "outputs": [],
   "source": [
    "import sys\n",
    "sys.setrecursionlimit(10**9)\n",
    "input=sys.stdin.readline\n",
    "n, m, r = map(int,input().split())\n",
    "dic=[[]*(n+1) for _ in range(n+1)]\n",
    "\n",
    "for _ in range(m):\n",
    "    a ,b =map(int,input().split())\n",
    "    dic[a].append(b)\n",
    "    dic[b].append(a)\n",
    "\n",
    "for i in range(1,n+1):\n",
    "    dic[i].sort(reverse=True)\n",
    "    \n",
    "def dfs(v):\n",
    "    global count \n",
    "    visited[v] = count\n",
    "    count+=1\n",
    "    for i in dic[v]:\n",
    "        if visited[i] == 0:\n",
    "            dfs(i)\n",
    "\n",
    "visited=[0]*(n+1)\n",
    "count=1\n",
    "    \n",
    "dfs(r)\n",
    "\n",
    "for i in range(1,n+1):\n",
    "    print(visited[i])"
   ]
  },
  {
   "cell_type": "code",
   "execution_count": null,
   "id": "c5702ff2",
   "metadata": {},
   "outputs": [],
   "source": []
  }
 ],
 "metadata": {
  "kernelspec": {
   "display_name": "Python 3",
   "language": "python",
   "name": "python3"
  },
  "language_info": {
   "codemirror_mode": {
    "name": "ipython",
    "version": 3
   },
   "file_extension": ".py",
   "mimetype": "text/x-python",
   "name": "python",
   "nbconvert_exporter": "python",
   "pygments_lexer": "ipython3",
   "version": "3.8.8"
  }
 },
 "nbformat": 4,
 "nbformat_minor": 5
}
