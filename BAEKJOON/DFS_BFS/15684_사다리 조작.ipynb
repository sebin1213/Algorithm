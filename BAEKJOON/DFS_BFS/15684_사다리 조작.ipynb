{
 "cells": [
  {
   "cell_type": "code",
   "execution_count": null,
   "id": "ec369f97",
   "metadata": {},
   "outputs": [],
   "source": [
    "### 통과 못함.. 반례와 예시 모두 맞았는데 어디에서 틀린지 못찾겠음"
   ]
  },
  {
   "cell_type": "code",
   "execution_count": null,
   "id": "8b91ed25",
   "metadata": {},
   "outputs": [],
   "source": []
  },
  {
   "cell_type": "code",
   "execution_count": null,
   "id": "260ebe4b",
   "metadata": {},
   "outputs": [],
   "source": [
    "10 5 30\n",
    "30 9\n",
    "3 2\n",
    "2 3\n",
    "5 1\n",
    "5 4\n",
    "\n",
    "답 -1"
   ]
  },
  {
   "cell_type": "code",
   "execution_count": 31,
   "id": "fccb5d71",
   "metadata": {},
   "outputs": [
    {
     "name": "stdout",
     "output_type": "stream",
     "text": [
      "10 5 30\n",
      "30 9\n",
      "3 2\n",
      "2 3\n",
      "5 1\n",
      "5 4\n"
     ]
    }
   ],
   "source": [
    "n,m,h = map(int,input().split())\n",
    "\n",
    "li = [[-1]*(h+1) for i in range(n)]\n",
    "\n",
    "for i in range(m):\n",
    "    a,b = map(int,input().split())\n",
    "    li[b-1][a-1]=b\n",
    "    li[b][a-1]=b-1"
   ]
  },
  {
   "cell_type": "code",
   "execution_count": 32,
   "id": "3aa6b5fa",
   "metadata": {},
   "outputs": [],
   "source": [
    "def ladder(r,c,idx):\n",
    "    global t\n",
    "    for i in range(c,h+1):\n",
    "        if li[r][i]>=0:\n",
    "            ladder(li[r][i],i+1,idx)\n",
    "            break\n",
    "        if i==h:\n",
    "            if r==idx:\n",
    "                t=True"
   ]
  },
  {
   "cell_type": "code",
   "execution_count": 33,
   "id": "2acf8f5a",
   "metadata": {},
   "outputs": [],
   "source": [
    "def dfs(depth):\n",
    "    global t\n",
    "    global big\n",
    "    \n",
    "    if depth==stop:\n",
    "        for i in range(n):\n",
    "            t=False\n",
    "            ladder(i,0,i)\n",
    "            if t==False:\n",
    "                break\n",
    "        if t == True:\n",
    "            big = False # 3을 넘어가거나 없을경우\n",
    "            print(depth)\n",
    "            return\n",
    "        else:\n",
    "            return\n",
    "    \n",
    "    for i in range(n-1):\n",
    "        for j in range(h):\n",
    "            if li[i][j]==-1 and li[i+1][j]==-1:\n",
    "                li[i][j]=i+1\n",
    "                li[i+1][j]=i\n",
    "                dfs(depth+1)\n",
    "                li[i][j]=-1\n",
    "                li[i+1][j]=-1\n",
    "            if big==False:\n",
    "                break"
   ]
  },
  {
   "cell_type": "code",
   "execution_count": 34,
   "id": "0e7151f9",
   "metadata": {},
   "outputs": [
    {
     "name": "stdout",
     "output_type": "stream",
     "text": [
      "-1\n"
     ]
    }
   ],
   "source": [
    "big = True\n",
    "for i in range(0,4):\n",
    "    stop = i\n",
    "    dfs(0)\n",
    "        \n",
    "if big:\n",
    "    print(-1)"
   ]
  },
  {
   "cell_type": "code",
   "execution_count": null,
   "id": "6b65ea63",
   "metadata": {},
   "outputs": [],
   "source": []
  },
  {
   "cell_type": "code",
   "execution_count": null,
   "id": "6f4e7ccf",
   "metadata": {},
   "outputs": [],
   "source": []
  },
  {
   "cell_type": "code",
   "execution_count": null,
   "id": "b9b76b3c",
   "metadata": {},
   "outputs": [],
   "source": []
  }
 ],
 "metadata": {
  "kernelspec": {
   "display_name": "Python 3",
   "language": "python",
   "name": "python3"
  },
  "language_info": {
   "codemirror_mode": {
    "name": "ipython",
    "version": 3
   },
   "file_extension": ".py",
   "mimetype": "text/x-python",
   "name": "python",
   "nbconvert_exporter": "python",
   "pygments_lexer": "ipython3",
   "version": "3.8.8"
  }
 },
 "nbformat": 4,
 "nbformat_minor": 5
}
