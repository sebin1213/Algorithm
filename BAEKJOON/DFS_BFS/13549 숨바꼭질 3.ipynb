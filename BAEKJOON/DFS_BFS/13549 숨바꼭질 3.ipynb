{
 "cells": [
  {
   "cell_type": "code",
   "execution_count": null,
   "id": "f4695c44",
   "metadata": {},
   "outputs": [],
   "source": [
    "# dp[x]= min(dp[x-1],dp[x/2],dp[x+1])"
   ]
  },
  {
   "cell_type": "code",
   "execution_count": null,
   "id": "ceea3d83",
   "metadata": {},
   "outputs": [],
   "source": [
    "a,b = input().split()"
   ]
  },
  {
   "cell_type": "code",
   "execution_count": 30,
   "id": "61aaa2ed",
   "metadata": {},
   "outputs": [
    {
     "name": "stdout",
     "output_type": "stream",
     "text": [
      "deque([])\n"
     ]
    }
   ],
   "source": [
    "from collections import deque\n",
    "\n",
    "q=deque()\n",
    "\n",
    "q.append(a)\n",
    "\n",
    "visited = [0]*100001\n",
    "li = [0]*100001\n",
    "\n",
    "while q:\n",
    "    v = q.popleft()\n",
    "    \n",
    "    if v*2<100001 and visited[v*2]==0:\n",
    "        visited[v*2]=1\n",
    "        li[v*2] = li[v]\n",
    "        q.append(v*2)\n",
    "    if v+1<100001 and visited[v+1]==0:\n",
    "        visited[v+1]=1\n",
    "        li[v+1] = li[v]+1\n",
    "        q.append(v+1)\n",
    "    if v-1<100001 and visited[v-1]==0:\n",
    "        visited[v-1]=1\n",
    "        li[v-1] = li[v]+1    \n",
    "        q.append(v-1)"
   ]
  },
  {
   "cell_type": "code",
   "execution_count": null,
   "id": "c13d081b",
   "metadata": {},
   "outputs": [],
   "source": []
  }
 ],
 "metadata": {
  "kernelspec": {
   "display_name": "Python 3",
   "language": "python",
   "name": "python3"
  },
  "language_info": {
   "codemirror_mode": {
    "name": "ipython",
    "version": 3
   },
   "file_extension": ".py",
   "mimetype": "text/x-python",
   "name": "python",
   "nbconvert_exporter": "python",
   "pygments_lexer": "ipython3",
   "version": "3.8.8"
  }
 },
 "nbformat": 4,
 "nbformat_minor": 5
}
